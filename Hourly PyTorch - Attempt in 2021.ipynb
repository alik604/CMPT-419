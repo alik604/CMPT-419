{
 "cells": [
  {
   "cell_type": "markdown",
   "metadata": {},
   "source": [
    "## Beware\n",
    "This is code from wayy after the paper was submited. I going back and revisting this topic. \n",
    "- Khizr Ali Pardhan "
   ]
  },
  {
   "cell_type": "code",
   "execution_count": 1,
   "metadata": {
    "colab": {
     "base_uri": "https://localhost:8080/",
     "height": 505
    },
    "colab_type": "code",
    "id": "oUHOHTSxd3qP",
    "outputId": "ebbaecfe-daa8-40df-9b6f-8e1902ef0338"
   },
   "outputs": [],
   "source": [
    "# Import required Libraries\n",
    "# !pip install fastparquet\n",
    "import math\n",
    "import pandas_datareader as web\n",
    "import numpy as np \n",
    "import pandas as pd\n",
    "from sklearn.preprocessing import MinMaxScaler\n",
    "from tensorflow.keras.models import Sequential \n",
    "from tensorflow.keras.layers import Dense, LSTM\n",
    "import matplotlib.pyplot as plt\n",
    "import datetime\n",
    "\n",
    "import torch\n",
    "import torch.nn as nn\n",
    "import torch.nn.functional as F\n",
    "import torch.optim as optim\n",
    "\n",
    "torch.manual_seed(1)\n",
    "\n",
    "from IPython.core.interactiveshell import InteractiveShell\n",
    "InteractiveShell.ast_node_interactivity = \"all\""
   ]
  },
  {
   "cell_type": "code",
   "execution_count": 2,
   "metadata": {
    "colab": {},
    "colab_type": "code",
    "id": "RTE3PctJd6BJ"
   },
   "outputs": [],
   "source": [
    "stocks = pd.read_parquet('https://github.com/ddkpham/Stock_Prediction_NLP_ML/blob/master/wsb.hourly.joined.parquet.gz?raw=true')"
   ]
  },
  {
   "cell_type": "code",
   "execution_count": 3,
   "metadata": {
    "colab": {
     "base_uri": "https://localhost:8080/",
     "height": 820
    },
    "colab_type": "code",
    "id": "sroahLVGd_Ev",
    "outputId": "7b8a502d-04ba-465a-d520-32741ee2479e"
   },
   "outputs": [
    {
     "data": {
      "text/html": [
       "<div>\n",
       "<style scoped>\n",
       "    .dataframe tbody tr th:only-of-type {\n",
       "        vertical-align: middle;\n",
       "    }\n",
       "\n",
       "    .dataframe tbody tr th {\n",
       "        vertical-align: top;\n",
       "    }\n",
       "\n",
       "    .dataframe thead th {\n",
       "        text-align: right;\n",
       "    }\n",
       "</style>\n",
       "<table border=\"1\" class=\"dataframe\">\n",
       "  <thead>\n",
       "    <tr style=\"text-align: right;\">\n",
       "      <th></th>\n",
       "      <th>score</th>\n",
       "      <th>gilded</th>\n",
       "      <th>wordcount</th>\n",
       "      <th>0</th>\n",
       "      <th>1</th>\n",
       "      <th>2</th>\n",
       "      <th>3</th>\n",
       "      <th>4</th>\n",
       "      <th>5</th>\n",
       "      <th>6</th>\n",
       "      <th>...</th>\n",
       "      <th>20</th>\n",
       "      <th>21</th>\n",
       "      <th>22</th>\n",
       "      <th>23</th>\n",
       "      <th>24</th>\n",
       "      <th>AAPL_StockPrice</th>\n",
       "      <th>AMZN_StockPrice</th>\n",
       "      <th>BA_StockPrice</th>\n",
       "      <th>SPY_StockPrice</th>\n",
       "      <th>TSLA_StockPrice</th>\n",
       "    </tr>\n",
       "    <tr>\n",
       "      <th>created_utc</th>\n",
       "      <th></th>\n",
       "      <th></th>\n",
       "      <th></th>\n",
       "      <th></th>\n",
       "      <th></th>\n",
       "      <th></th>\n",
       "      <th></th>\n",
       "      <th></th>\n",
       "      <th></th>\n",
       "      <th></th>\n",
       "      <th></th>\n",
       "      <th></th>\n",
       "      <th></th>\n",
       "      <th></th>\n",
       "      <th></th>\n",
       "      <th></th>\n",
       "      <th></th>\n",
       "      <th></th>\n",
       "      <th></th>\n",
       "      <th></th>\n",
       "      <th></th>\n",
       "    </tr>\n",
       "  </thead>\n",
       "  <tbody>\n",
       "    <tr>\n",
       "      <th>2017-01-03 00:00:00</th>\n",
       "      <td>10.600000</td>\n",
       "      <td>0.0</td>\n",
       "      <td>15.127273</td>\n",
       "      <td>-0.004773</td>\n",
       "      <td>0.096914</td>\n",
       "      <td>-0.028997</td>\n",
       "      <td>-0.013654</td>\n",
       "      <td>-0.040472</td>\n",
       "      <td>-0.028197</td>\n",
       "      <td>0.125876</td>\n",
       "      <td>...</td>\n",
       "      <td>0.034497</td>\n",
       "      <td>0.012236</td>\n",
       "      <td>0.022241</td>\n",
       "      <td>0.046725</td>\n",
       "      <td>-0.052190</td>\n",
       "      <td>116.01</td>\n",
       "      <td>757.76</td>\n",
       "      <td>155.68</td>\n",
       "      <td>224.86</td>\n",
       "      <td>214.3</td>\n",
       "    </tr>\n",
       "    <tr>\n",
       "      <th>2017-01-03 01:00:00</th>\n",
       "      <td>6.126761</td>\n",
       "      <td>0.0</td>\n",
       "      <td>14.957746</td>\n",
       "      <td>-0.018255</td>\n",
       "      <td>0.086793</td>\n",
       "      <td>-0.015693</td>\n",
       "      <td>-0.014463</td>\n",
       "      <td>-0.047337</td>\n",
       "      <td>-0.039189</td>\n",
       "      <td>0.151025</td>\n",
       "      <td>...</td>\n",
       "      <td>0.004107</td>\n",
       "      <td>0.018103</td>\n",
       "      <td>0.037762</td>\n",
       "      <td>0.030239</td>\n",
       "      <td>-0.058607</td>\n",
       "      <td>116.01</td>\n",
       "      <td>757.76</td>\n",
       "      <td>155.68</td>\n",
       "      <td>224.86</td>\n",
       "      <td>214.3</td>\n",
       "    </tr>\n",
       "    <tr>\n",
       "      <th>2017-01-03 02:00:00</th>\n",
       "      <td>5.150685</td>\n",
       "      <td>0.0</td>\n",
       "      <td>18.753425</td>\n",
       "      <td>-0.013361</td>\n",
       "      <td>0.085355</td>\n",
       "      <td>-0.045373</td>\n",
       "      <td>-0.029794</td>\n",
       "      <td>-0.013735</td>\n",
       "      <td>-0.030920</td>\n",
       "      <td>0.150325</td>\n",
       "      <td>...</td>\n",
       "      <td>-0.003617</td>\n",
       "      <td>0.002007</td>\n",
       "      <td>0.037377</td>\n",
       "      <td>0.017159</td>\n",
       "      <td>-0.064736</td>\n",
       "      <td>116.01</td>\n",
       "      <td>757.76</td>\n",
       "      <td>155.68</td>\n",
       "      <td>224.86</td>\n",
       "      <td>214.3</td>\n",
       "    </tr>\n",
       "    <tr>\n",
       "      <th>2017-01-03 03:00:00</th>\n",
       "      <td>5.723404</td>\n",
       "      <td>0.0</td>\n",
       "      <td>16.893617</td>\n",
       "      <td>-0.008933</td>\n",
       "      <td>0.079429</td>\n",
       "      <td>-0.009839</td>\n",
       "      <td>-0.026562</td>\n",
       "      <td>-0.041718</td>\n",
       "      <td>-0.015318</td>\n",
       "      <td>0.154539</td>\n",
       "      <td>...</td>\n",
       "      <td>-0.007581</td>\n",
       "      <td>0.005232</td>\n",
       "      <td>0.022578</td>\n",
       "      <td>0.016312</td>\n",
       "      <td>-0.054883</td>\n",
       "      <td>116.01</td>\n",
       "      <td>757.76</td>\n",
       "      <td>155.68</td>\n",
       "      <td>224.86</td>\n",
       "      <td>214.3</td>\n",
       "    </tr>\n",
       "    <tr>\n",
       "      <th>2017-01-03 04:00:00</th>\n",
       "      <td>1.516667</td>\n",
       "      <td>0.0</td>\n",
       "      <td>19.700000</td>\n",
       "      <td>-0.015290</td>\n",
       "      <td>0.079454</td>\n",
       "      <td>-0.002097</td>\n",
       "      <td>-0.019933</td>\n",
       "      <td>-0.023108</td>\n",
       "      <td>-0.015315</td>\n",
       "      <td>0.154939</td>\n",
       "      <td>...</td>\n",
       "      <td>-0.011684</td>\n",
       "      <td>0.011437</td>\n",
       "      <td>0.028106</td>\n",
       "      <td>0.017372</td>\n",
       "      <td>-0.061380</td>\n",
       "      <td>116.01</td>\n",
       "      <td>757.76</td>\n",
       "      <td>155.68</td>\n",
       "      <td>224.86</td>\n",
       "      <td>214.3</td>\n",
       "    </tr>\n",
       "  </tbody>\n",
       "</table>\n",
       "<p>5 rows × 33 columns</p>\n",
       "</div>"
      ],
      "text/plain": [
       "                         score  gilded  wordcount         0         1  \\\n",
       "created_utc                                                             \n",
       "2017-01-03 00:00:00  10.600000     0.0  15.127273 -0.004773  0.096914   \n",
       "2017-01-03 01:00:00   6.126761     0.0  14.957746 -0.018255  0.086793   \n",
       "2017-01-03 02:00:00   5.150685     0.0  18.753425 -0.013361  0.085355   \n",
       "2017-01-03 03:00:00   5.723404     0.0  16.893617 -0.008933  0.079429   \n",
       "2017-01-03 04:00:00   1.516667     0.0  19.700000 -0.015290  0.079454   \n",
       "\n",
       "                            2         3         4         5         6  ...  \\\n",
       "created_utc                                                            ...   \n",
       "2017-01-03 00:00:00 -0.028997 -0.013654 -0.040472 -0.028197  0.125876  ...   \n",
       "2017-01-03 01:00:00 -0.015693 -0.014463 -0.047337 -0.039189  0.151025  ...   \n",
       "2017-01-03 02:00:00 -0.045373 -0.029794 -0.013735 -0.030920  0.150325  ...   \n",
       "2017-01-03 03:00:00 -0.009839 -0.026562 -0.041718 -0.015318  0.154539  ...   \n",
       "2017-01-03 04:00:00 -0.002097 -0.019933 -0.023108 -0.015315  0.154939  ...   \n",
       "\n",
       "                           20        21        22        23        24  \\\n",
       "created_utc                                                             \n",
       "2017-01-03 00:00:00  0.034497  0.012236  0.022241  0.046725 -0.052190   \n",
       "2017-01-03 01:00:00  0.004107  0.018103  0.037762  0.030239 -0.058607   \n",
       "2017-01-03 02:00:00 -0.003617  0.002007  0.037377  0.017159 -0.064736   \n",
       "2017-01-03 03:00:00 -0.007581  0.005232  0.022578  0.016312 -0.054883   \n",
       "2017-01-03 04:00:00 -0.011684  0.011437  0.028106  0.017372 -0.061380   \n",
       "\n",
       "                     AAPL_StockPrice  AMZN_StockPrice  BA_StockPrice  \\\n",
       "created_utc                                                            \n",
       "2017-01-03 00:00:00           116.01           757.76         155.68   \n",
       "2017-01-03 01:00:00           116.01           757.76         155.68   \n",
       "2017-01-03 02:00:00           116.01           757.76         155.68   \n",
       "2017-01-03 03:00:00           116.01           757.76         155.68   \n",
       "2017-01-03 04:00:00           116.01           757.76         155.68   \n",
       "\n",
       "                     SPY_StockPrice  TSLA_StockPrice  \n",
       "created_utc                                           \n",
       "2017-01-03 00:00:00          224.86            214.3  \n",
       "2017-01-03 01:00:00          224.86            214.3  \n",
       "2017-01-03 02:00:00          224.86            214.3  \n",
       "2017-01-03 03:00:00          224.86            214.3  \n",
       "2017-01-03 04:00:00          224.86            214.3  \n",
       "\n",
       "[5 rows x 33 columns]"
      ]
     },
     "execution_count": 3,
     "metadata": {},
     "output_type": "execute_result"
    }
   ],
   "source": [
    "stocks = stocks.set_index('created_utc')\n",
    "stocks.head(5)"
   ]
  },
  {
   "cell_type": "code",
   "execution_count": 4,
   "metadata": {
    "colab": {
     "base_uri": "https://localhost:8080/",
     "height": 251
    },
    "colab_type": "code",
    "id": "ZmzpBEAweAnY",
    "outputId": "0eb33ee8-0e7c-405c-960f-b6070abf0dc5"
   },
   "outputs": [
    {
     "data": {
      "text/plain": [
       "(17022, 33)"
      ]
     },
     "execution_count": 4,
     "metadata": {},
     "output_type": "execute_result"
    },
    {
     "data": {
      "text/plain": [
       "array([ 1.06000000e+01,  0.00000000e+00,  1.51272727e+01, -4.77294810e-03,\n",
       "        9.69139859e-02, -2.89973784e-02, -1.36540728e-02, -4.04721014e-02,\n",
       "       -2.81969681e-02,  1.25875890e-01, -9.05721411e-02, -1.96984317e-02,\n",
       "        1.46932453e-02, -5.44711426e-02,  6.78111836e-02, -6.44198656e-01,\n",
       "       -2.55610738e-02,  5.78277409e-02,  2.39723418e-02,  5.06082103e-02,\n",
       "       -3.92869785e-02, -5.36252372e-03, -8.66491627e-03,  3.44966017e-02,\n",
       "        1.22362645e-02,  2.22405102e-02,  4.67252582e-02, -5.21895476e-02,\n",
       "        1.16010000e+02,  7.57760000e+02,  1.55680000e+02,  2.24860000e+02,\n",
       "        2.14300000e+02])"
      ]
     },
     "execution_count": 4,
     "metadata": {},
     "output_type": "execute_result"
    }
   ],
   "source": [
    "dataset = stocks.values\n",
    "dataset.shape\n",
    "dataset[0]"
   ]
  },
  {
   "cell_type": "code",
   "execution_count": 5,
   "metadata": {
    "colab": {
     "base_uri": "https://localhost:8080/",
     "height": 143
    },
    "colab_type": "code",
    "id": "Hf6UAvHuk8yS",
    "outputId": "6de03dfe-b3eb-4312-c30b-4fcfd6ef949b"
   },
   "outputs": [
    {
     "data": {
      "text/plain": [
       "array([[224.86],\n",
       "       [224.86],\n",
       "       [224.86],\n",
       "       ...,\n",
       "       [303.33],\n",
       "       [303.33],\n",
       "       [303.33]])"
      ]
     },
     "execution_count": 5,
     "metadata": {},
     "output_type": "execute_result"
    }
   ],
   "source": [
    "price_data = stocks.filter(['SPY_StockPrice']) # ['AAPL_StockPrice', 'AMZN_StockPrice', 'BA_StockPrice', 'SPY_StockPrice', 'TSLA_StockPrice']\n",
    "price_dataset = price_data.values\n",
    "price_dataset"
   ]
  },
  {
   "cell_type": "code",
   "execution_count": 6,
   "metadata": {
    "colab": {},
    "colab_type": "code",
    "id": "M6W5KfgalNWk"
   },
   "outputs": [],
   "source": [
    "# set training set len\n",
    "training_data_len = math.ceil(len(dataset) * 0.8)"
   ]
  },
  {
   "cell_type": "code",
   "execution_count": 7,
   "metadata": {
    "colab": {},
    "colab_type": "code",
    "id": "HOhnxWfslZg-"
   },
   "outputs": [],
   "source": [
    "# Scale datasets \n",
    "scaler = MinMaxScaler(feature_range=(-1,1))\n",
    "price_scaler = MinMaxScaler(feature_range=(-1,1))\n",
    "\n",
    "scaled_dataset = scaler.fit_transform(dataset)\n",
    "scaled_price_dataset = price_scaler.fit_transform(price_dataset)"
   ]
  },
  {
   "cell_type": "code",
   "execution_count": 8,
   "metadata": {
    "colab": {
     "base_uri": "https://localhost:8080/",
     "height": 73
    },
    "colab_type": "code",
    "id": "7TsUz7asluqX",
    "outputId": "7e530aa7-6d03-4c88-89bf-e9f9c5e794f2"
   },
   "outputs": [
    {
     "data": {
      "text/plain": [
       "(13558, 60, 33)"
      ]
     },
     "execution_count": 8,
     "metadata": {},
     "output_type": "execute_result"
    },
    {
     "data": {
      "text/plain": [
       "(13558, 1)"
      ]
     },
     "execution_count": 8,
     "metadata": {},
     "output_type": "execute_result"
    }
   ],
   "source": [
    "# Split data into x_train, y_train \n",
    "train_features = np.array(scaled_dataset[0:training_data_len,:])\n",
    "train_values = np.array(scaled_price_dataset[0:training_data_len, :])\n",
    "x_train = []\n",
    "y_train = []\n",
    "for i in range(60, len(train_features)):\n",
    "  x_train.append(train_features[i-60:i, :])\n",
    "  y_train.append(train_values[i:i+1, :][0].tolist())\n",
    "#   if(i < 62):\n",
    "#     print(y_train)\n",
    "\n",
    "# Convert both x, y training sets to np array \n",
    "x_train, y_train = np.array(x_train), np.array(y_train)\n",
    "# print(y_train, type(y_train))\n",
    "\n",
    "# Reshape the data // LSTM network expects 3 dimensional input in the form of \n",
    "# (number of samples, number of timesteps, number of features)\n",
    "x_train = np.reshape(x_train, (x_train.shape[0], x_train.shape[1], 33))\n",
    "y_train = np.reshape(y_train, (y_train.shape[0], y_train.shape[1]))\n",
    "\n",
    "x_train.shape\n",
    "y_train.shape"
   ]
  },
  {
   "cell_type": "code",
   "execution_count": 9,
   "metadata": {},
   "outputs": [
    {
     "data": {
      "text/plain": [
       "(3404, 60, 33)"
      ]
     },
     "execution_count": 9,
     "metadata": {},
     "output_type": "execute_result"
    },
    {
     "data": {
      "text/plain": [
       "(3404, 1)"
      ]
     },
     "execution_count": 9,
     "metadata": {},
     "output_type": "execute_result"
    }
   ],
   "source": [
    "test_data = scaled_dataset[training_data_len-60:, :]\n",
    "test_y = scaled_price_dataset[training_data_len-60:, :]\n",
    "\n",
    "x_test = []\n",
    "y_test = []\n",
    "\n",
    "for i in range(60, len(test_data)):\n",
    "  x_test.append(test_data[i-60:i, :])\n",
    "  y_test.append(test_y[i:i+1, :][0].tolist())\n",
    "    \n",
    "# Convert the data into a np array\n",
    "x_test, y_test = np.array(x_test), np.array(y_test)\n",
    "\n",
    "# Reshape data into 3 dimensions ( num samples, timesteps, num features )\n",
    "x_test = np.reshape(x_test, (x_test.shape[0], x_test.shape[1], 33))\n",
    "y_test = np.reshape(y_test, (y_test.shape[0], y_test.shape[1]))\n",
    "\n",
    "x_test.shape\n",
    "y_test.shape"
   ]
  },
  {
   "cell_type": "code",
   "execution_count": 10,
   "metadata": {},
   "outputs": [],
   "source": [
    "# x_train.shape\n",
    "# y_train.shape\n",
    "# numb_itr = x_train.shape[0]\n",
    "device = torch.device('cuda' if torch.cuda.is_available() else 'cpu')\n",
    "# x_train = torch.FloatTensor(x_train).to(device)\n",
    "# y_train = torch.FloatTensor(y_train).to(device)\n",
    "# x_train.size()\n",
    "# y_train.size()\n",
    "\n",
    "# x_test = torch.FloatTensor(x_test).to(device)\n",
    "# y_test = torch.FloatTensor(y_test).to(device)\n",
    "batch_size = 16\n",
    "train = torch.utils.data.TensorDataset(torch.FloatTensor(x_train).to(device), torch.FloatTensor(y_train).to(device))\n",
    "test = torch.utils.data.TensorDataset(torch.FloatTensor(x_test).to(device), torch.FloatTensor(y_test).to(device))\n",
    "\n",
    "train_loader = torch.utils.data.DataLoader(dataset=train, \n",
    "                                           batch_size=batch_size, \n",
    "                                           shuffle=False)\n",
    "\n",
    "test_loader = torch.utils.data.DataLoader(dataset=test, \n",
    "                                          batch_size=batch_size, \n",
    "                                          shuffle=False)"
   ]
  },
  {
   "cell_type": "code",
   "execution_count": 11,
   "metadata": {
    "colab": {},
    "colab_type": "code",
    "id": "4SZctONSm6Hh"
   },
   "outputs": [],
   "source": [
    "class LSTM(nn.Module):\n",
    "    def __init__(self, batch_size, input_dim=100, hidden_dim=50, tagset_size=5):\n",
    "        super(LSTM, self).__init__()\n",
    "        self.input_dim = input_dim\n",
    "        self.hidden_dim = hidden_dim\n",
    "        self.tagset_size = tagset_size\n",
    "        self.batch_size = batch_size\n",
    "\n",
    "        # The LSTM takes word embeddings as inputs, and outputs hidden states\n",
    "        # with dimensionality hidden_dim.\n",
    "        self.lstm_1 = nn.LSTM(input_dim, hidden_dim, bidirectional=True)\n",
    "        self.dense_bridge = nn.Linear(hidden_dim*2, hidden_dim*2)\n",
    "        self.lstm_2 = nn.LSTM(hidden_dim*2, hidden_dim, bidirectional=False)\n",
    "        self.dense_1 = nn.Linear(hidden_dim, tagset_size)\n",
    "        self.dropOut = nn.Dropout(p=0.4)\n",
    "        self.layerNorm_1 = nn.LayerNorm(hidden_dim*2)\n",
    "        self.layerNorm_2 = nn.LayerNorm(hidden_dim)\n",
    "\n",
    "    def forward(self, input_data):\n",
    "        \n",
    "        # Forward pass through LSTM layer\n",
    "        # shape of lstm_out: [input_size, batch_size, hidden_dim]\n",
    "        # shape of self.hidden: (a, b), where a and b both \n",
    "        # have shape (num_layers, batch_size, hidden_dim).\n",
    "#         print((len(input_data), self.batch_size))\n",
    "#         x = input_data.view(len(input_data), self.batch_size)\n",
    "        x, _ = self.lstm_1(input_data) # if i dont zero out `_`, the LSTM is stateful \n",
    "        x = self.layerNorm_1(self.dropOut(x)) \n",
    "        \n",
    "        x = self.dense_bridge(x) # is Keras, this helps, IDK about pyTorch\n",
    "        x, _ = self.lstm_2(x)\n",
    "        \n",
    "        x = self.layerNorm_2(self.dropOut(x)) \n",
    "        # Only take the output from the final timetep\n",
    "        # Can pass on the entirety of lstm_out to the next layer if it is a seq2seq prediction\n",
    "        x = self.dense_1(x[:, -1, :]) #.view(self.batch_size, -1))\n",
    "        return x\n",
    "        \n",
    "        \n",
    "#         x, _ = self.lstm_1(input_data)\n",
    "#         x = self.dropout(x)\n",
    "#         x = self.dense_bridge(x)\n",
    "#         x, _ = self.lstm_2(x)\n",
    "#         x = self.dropout(x)\n",
    "#         x = self.dense_1(x[:, :, :])\n",
    "#         return x"
   ]
  },
  {
   "cell_type": "code",
   "execution_count": 12,
   "metadata": {
    "colab": {},
    "colab_type": "code",
    "id": "2geX-KQ_m9RC"
   },
   "outputs": [
    {
     "name": "stdout",
     "output_type": "stream",
     "text": [
      "Item: lstm_1.weight_ih_l0 \t\t|Size torch.Size([100, 33])\n",
      "Item: lstm_1.weight_hh_l0 \t\t|Size torch.Size([100, 25])\n",
      "Item: lstm_1.bias_ih_l0 \t\t|Size torch.Size([100])\n",
      "Item: lstm_1.bias_hh_l0 \t\t|Size torch.Size([100])\n",
      "Item: lstm_1.weight_ih_l0_reverse \t\t|Size torch.Size([100, 33])\n",
      "Item: lstm_1.weight_hh_l0_reverse \t\t|Size torch.Size([100, 25])\n",
      "Item: lstm_1.bias_ih_l0_reverse \t\t|Size torch.Size([100])\n",
      "Item: lstm_1.bias_hh_l0_reverse \t\t|Size torch.Size([100])\n",
      "Item: dense_bridge.weight \t\t|Size torch.Size([50, 50])\n",
      "Item: dense_bridge.bias \t\t|Size torch.Size([50])\n",
      "Item: lstm_2.weight_ih_l0 \t\t|Size torch.Size([100, 50])\n",
      "Item: lstm_2.weight_hh_l0 \t\t|Size torch.Size([100, 25])\n",
      "Item: lstm_2.bias_ih_l0 \t\t|Size torch.Size([100])\n",
      "Item: lstm_2.bias_hh_l0 \t\t|Size torch.Size([100])\n",
      "Item: dense_1.weight \t\t|Size torch.Size([1, 25])\n",
      "Item: dense_1.bias \t\t|Size torch.Size([1])\n",
      "Item: layerNorm_1.weight \t\t|Size torch.Size([50])\n",
      "Item: layerNorm_1.bias \t\t|Size torch.Size([50])\n",
      "Item: layerNorm_2.weight \t\t|Size torch.Size([25])\n",
      "Item: layerNorm_2.bias \t\t|Size torch.Size([25])\n"
     ]
    }
   ],
   "source": [
    "model = LSTM(input_dim=x_train.shape[2], hidden_dim=25, tagset_size=y_train.shape[1], batch_size=batch_size).to(device)\n",
    "loss_function = nn.MSELoss()\n",
    "optimizer = optim.Adam(model.parameters(), lr=0.002)\n",
    "\n",
    "for k in model.state_dict():\n",
    "    print(f'Item: {k} \\t\\t|Size {model.state_dict()[k].size()}')"
   ]
  },
  {
   "cell_type": "code",
   "execution_count": 13,
   "metadata": {},
   "outputs": [],
   "source": [
    "# weights = model.state_dict('./tmp')\n",
    "PATH = './torch_model_5_outputs.h5'\n",
    "# torch.save(model, PATH)\n",
    "# model.load_state_dict(torch.load(PATH))"
   ]
  },
  {
   "cell_type": "code",
   "execution_count": 15,
   "metadata": {
    "colab": {
     "base_uri": "https://localhost:8080/",
     "height": 1000
    },
    "colab_type": "code",
    "id": "dhqajVMLnBJp",
    "outputId": "61a99532-bdca-4972-bbd5-cc69a8b9b0ef"
   },
   "outputs": [
    {
     "name": "stdout",
     "output_type": "stream",
     "text": [
      "Epoch: 1/2 | MSE: 13.98 | [Test] MSE: 15.60 \n",
      "Epoch: 2/2 | MSE: 38.17 | [Test] MSE: 13.24 \n"
     ]
    }
   ],
   "source": [
    "num_epochs = 2 #85\n",
    "hist = np.zeros(num_epochs)\n",
    "for epoch in range(num_epochs):\n",
    "    mse = 0\n",
    "    \n",
    "    if epoch == 5:\n",
    "        optimizer.param_groups[0]['lr'] = 0.001\n",
    "    if epoch == 75:\n",
    "        optimizer.param_groups[0]['lr'] = 0.00025\n",
    "\n",
    "    for x, y in train_loader:\n",
    "\n",
    "        \n",
    "        # Clear stored gradient\n",
    "        model.zero_grad()\n",
    "\n",
    "        # Initialise hidden state\n",
    "        # Don't do this if you want your LSTM to be stateful\n",
    "        # model.hidden = model.init_hidden()\n",
    "\n",
    "        # Forward pass\n",
    "        y_pred = model(x)\n",
    "        \n",
    "#         print(y.size())\n",
    "#         print(y_pred.size())\n",
    "        \n",
    "#         assert y.size() == y_pred.size()\n",
    "        \n",
    "        loss = loss_function(y_pred, y)\n",
    "        mse += loss.item()\n",
    "        hist[epoch] = loss.item()\n",
    "\n",
    "        # Zero out gradient, else they will accumulate between epochs\n",
    "        optimizer.zero_grad()\n",
    "\n",
    "        # Backward pass\n",
    "        loss.backward()\n",
    "        \n",
    "        # Clip Grads\n",
    "        clipping_value = 2 # arbitrary value of your choosing\n",
    "        _ = torch.nn.utils.clip_grad_value_(model.parameters(), clipping_value) # CLIP_GRAD_VALUE_\n",
    "#         for p in model.parameters():\n",
    "#             _ = p.grad.data.clamp_(max=clipping_value)\n",
    "\n",
    "        # Update parameters\n",
    "        optimizer.step()\n",
    "\n",
    "    with torch.no_grad():\n",
    "        test_mse = 0 \n",
    "        for x, y in test_loader:\n",
    "            y_pred_batch = model(x)\n",
    "            loss = loss_function(y_pred_batch, y)\n",
    "            test_mse += loss.item()\n",
    "\n",
    "    print(f'Epoch: {epoch+1}/{num_epochs} | MSE: {mse:.2f} | [Test] MSE: {test_mse:.2f} ')\n"
   ]
  },
  {
   "cell_type": "code",
   "execution_count": 16,
   "metadata": {},
   "outputs": [
    {
     "name": "stdout",
     "output_type": "stream",
     "text": [
      "MSE: 13.16\n"
     ]
    }
   ],
   "source": [
    "# See what the scores are after training\n",
    "\n",
    "y_pred = []\n",
    "with torch.no_grad():\n",
    "    mse = 0 \n",
    "    for x, y in test_loader:\n",
    "        y_pred_batch = model(x)\n",
    "        y_pred.extend(y_pred_batch.tolist())\n",
    "        loss = loss_function(y_pred_batch, y)\n",
    "        mse += loss.item()\n",
    "    print(f'MSE: {mse:.2f}')"
   ]
  },
  {
   "cell_type": "code",
   "execution_count": 17,
   "metadata": {
    "colab": {},
    "colab_type": "code",
    "id": "5fX4sdoOnCT6"
   },
   "outputs": [
    {
     "data": {
      "text/plain": [
       "(3404, 1)"
      ]
     },
     "execution_count": 17,
     "metadata": {},
     "output_type": "execute_result"
    },
    {
     "data": {
      "text/plain": [
       "(3404, 1)"
      ]
     },
     "execution_count": 17,
     "metadata": {},
     "output_type": "execute_result"
    }
   ],
   "source": [
    "y_pred_ = price_scaler.inverse_transform(y_pred) # .reshape(-1, 1)\n",
    "y_test_ = price_scaler.inverse_transform(y_test) # .reshape(-1, 1)\n",
    "\n",
    "y_pred_.shape\n",
    "y_test_.shape"
   ]
  },
  {
   "cell_type": "code",
   "execution_count": 18,
   "metadata": {
    "colab": {
     "base_uri": "https://localhost:8080/",
     "height": 35
    },
    "colab_type": "code",
    "id": "df7SR-vW5hLW",
    "outputId": "25e0353e-dce6-40d7-9f6e-9df91a3e5fcc"
   },
   "outputs": [
    {
     "name": "stdout",
     "output_type": "stream",
     "text": [
      "MAE: 8.52 | MSE: 100.43 | rMSE: 10.02 | MAPE: 2.99 | MSPE: 0.12\n"
     ]
    }
   ],
   "source": [
    "mae = np.mean(np.abs(y_pred_-y_test_))\n",
    "\n",
    "rmse = np.sqrt(np.mean((y_pred_-y_test_)**2))\n",
    "mse = np.mean((y_pred_-y_test_)**2)\n",
    "\n",
    "mape = np.mean(np.abs((y_pred_ - y_test_) / y_pred_)) * 100\n",
    "mspe = np.mean(((y_pred_ - y_test_) / y_pred_)**2) * 100 # i hope this is correct\n",
    "\n",
    "print(f'MAE: {mae:.2f} | MSE: {mse:.2f} | rMSE: {rmse:.2f} | MAPE: {mape:.2f} | MSPE: {mspe:.2f}')"
   ]
  },
  {
   "cell_type": "code",
   "execution_count": 24,
   "metadata": {
    "colab": {
     "base_uri": "https://localhost:8080/",
     "height": 505
    },
    "colab_type": "code",
    "id": "Sp1Y71dD5iqG",
    "outputId": "6486bf23-4dbe-465a-d42e-5c07f0676182"
   },
   "outputs": [
    {
     "data": {
      "text/html": [
       "<div>\n",
       "<style scoped>\n",
       "    .dataframe tbody tr th:only-of-type {\n",
       "        vertical-align: middle;\n",
       "    }\n",
       "\n",
       "    .dataframe tbody tr th {\n",
       "        vertical-align: top;\n",
       "    }\n",
       "\n",
       "    .dataframe thead th {\n",
       "        text-align: right;\n",
       "    }\n",
       "</style>\n",
       "<table border=\"1\" class=\"dataframe\">\n",
       "  <thead>\n",
       "    <tr style=\"text-align: right;\">\n",
       "      <th></th>\n",
       "      <th>SPY_StockPrice</th>\n",
       "    </tr>\n",
       "    <tr>\n",
       "      <th>created_utc</th>\n",
       "      <th></th>\n",
       "    </tr>\n",
       "  </thead>\n",
       "  <tbody>\n",
       "    <tr>\n",
       "      <th>2019-04-11 04:00:00</th>\n",
       "      <td>288.39</td>\n",
       "    </tr>\n",
       "    <tr>\n",
       "      <th>2019-04-11 05:00:00</th>\n",
       "      <td>288.69</td>\n",
       "    </tr>\n",
       "    <tr>\n",
       "      <th>2019-04-11 06:00:00</th>\n",
       "      <td>288.86</td>\n",
       "    </tr>\n",
       "    <tr>\n",
       "      <th>2019-04-11 07:00:00</th>\n",
       "      <td>288.77</td>\n",
       "    </tr>\n",
       "    <tr>\n",
       "      <th>2019-04-11 08:00:00</th>\n",
       "      <td>288.62</td>\n",
       "    </tr>\n",
       "    <tr>\n",
       "      <th>...</th>\n",
       "      <td>...</td>\n",
       "    </tr>\n",
       "    <tr>\n",
       "      <th>2019-10-31 19:00:00</th>\n",
       "      <td>303.20</td>\n",
       "    </tr>\n",
       "    <tr>\n",
       "      <th>2019-10-31 20:00:00</th>\n",
       "      <td>303.33</td>\n",
       "    </tr>\n",
       "    <tr>\n",
       "      <th>2019-10-31 21:00:00</th>\n",
       "      <td>303.33</td>\n",
       "    </tr>\n",
       "    <tr>\n",
       "      <th>2019-10-31 22:00:00</th>\n",
       "      <td>303.33</td>\n",
       "    </tr>\n",
       "    <tr>\n",
       "      <th>2019-10-31 23:00:00</th>\n",
       "      <td>303.33</td>\n",
       "    </tr>\n",
       "  </tbody>\n",
       "</table>\n",
       "<p>3404 rows × 1 columns</p>\n",
       "</div>"
      ],
      "text/plain": [
       "                     SPY_StockPrice\n",
       "created_utc                        \n",
       "2019-04-11 04:00:00          288.39\n",
       "2019-04-11 05:00:00          288.69\n",
       "2019-04-11 06:00:00          288.86\n",
       "2019-04-11 07:00:00          288.77\n",
       "2019-04-11 08:00:00          288.62\n",
       "...                             ...\n",
       "2019-10-31 19:00:00          303.20\n",
       "2019-10-31 20:00:00          303.33\n",
       "2019-10-31 21:00:00          303.33\n",
       "2019-10-31 22:00:00          303.33\n",
       "2019-10-31 23:00:00          303.33\n",
       "\n",
       "[3404 rows x 1 columns]"
      ]
     },
     "execution_count": 24,
     "metadata": {},
     "output_type": "execute_result"
    }
   ],
   "source": [
    "# # Set up ploting dataset\n",
    "# # plotData = stocks.filter(['created_utc','AAPL_CPrc', 'AMZN_CPrc', 'BA_CPrc', 'SPY_CPrc', 'TSLA_CPrc'])\n",
    "# # plotData = plotData.set_index(\"created_utc\")\n",
    "# # print(plotData, type(plotData))\n",
    "y_pred_NLP = y_pred_\n",
    "SPY = stocks[\"SPY_StockPrice\"]\n",
    "SPY = SPY.to_frame();\n",
    "spyTest = SPY[0: training_data_len]\n",
    "spyValid = SPY[training_data_len:]\n",
    "spyValid\n",
    "# # This is so it graphs nicely with dates \n",
    "# AAPL = stocks[\"AAPL_StockPrice\"]\n",
    "# AAPL = AAPL.to_frame()\n",
    "# AMZN = stocks[\"AMZN_StockPrice\"]\n",
    "# AMZN = AMZN.to_frame()\n",
    "# BA = stocks[\"BA_StockPrice\"]\n",
    "# BA = BA.to_frame();\n",
    "\n",
    "# TSLA = stocks[\"TSLA_StockPrice\"]\n",
    "# TSLA = TSLA.to_frame()\n",
    "\n",
    "# appleTest = AAPL[0:training_data_len]\n",
    "# amazonTest = AMZN[0:training_data_len]\n",
    "# boeTest = BA[0:training_data_len]\n",
    "# teslaTest = TSLA[0: training_data_len]\n",
    "\n",
    "# appleValid = AAPL[training_data_len:]\n",
    "# amazonValid = AMZN[training_data_len:]\n",
    "# boeValid = BA[training_data_len:]\n",
    "# teslaValid = TSLA[training_data_len:]\n",
    "# # print(appleValid)\n",
    "\n",
    "# appleValid['Predictions'] = predictions[:,:1]\n",
    "# amazonValid[\"Predictions\"] = predictions[:,1:2]\n",
    "# boeValid['Predictions'] = predictions[:, 2:3]\n",
    "# spyValid[\"Predictions\"] = predictions[:, 3:4]\n",
    "# teslaValid[\"Predictions\"] = predictions[:, 4:5]\n",
    "# print(len(appleValid), len(predictions)) # 3404 3404"
   ]
  },
  {
   "cell_type": "markdown",
   "metadata": {},
   "source": [
    "## If 5 outputs, "
   ]
  },
  {
   "cell_type": "code",
   "execution_count": 20,
   "metadata": {
    "colab": {
     "base_uri": "https://localhost:8080/",
     "height": 521
    },
    "colab_type": "code",
    "id": "JqrttDFs5vIv",
    "outputId": "5fa8ad31-3022-451c-8020-478a1275ab31"
   },
   "outputs": [],
   "source": [
    "# # Visualize data\n",
    "# _ = plt.figure(figsize=(16,8))\n",
    "# _ = plt.title('Prediction with reddit glove vectors')\n",
    "# _ = plt.xlabel('Date', fontsize=18)\n",
    "# _ = plt.ylabel('Close Price USD ($)', fontsize=18)\n",
    "\n",
    "# # plt.plot(appleTest)\n",
    "# # plt.plot(appleValid['AAPL_StockPrice'])\n",
    "# # plt.plot(appleValid['Predictions'])\n",
    "# # plt.plot(amazonTest)\n",
    "# # plt.plot(amazonValid['AMZN_StockPrice'])\n",
    "# # plt.plot(amazonValid['Predictions'])\n",
    "# # plt.plot(boeTest)\n",
    "# # plt.plot(boeValid['BA_StockPrice'])\n",
    "# # plt.plot(boeValid['Predictions'])\n",
    "\n",
    "# _ = plt.plot(spyTest)\n",
    "# _ = plt.plot(spyValid['SPY_StockPrice'])\n",
    "# # _ = plt.plot(spyValid['Predictions'])\n",
    "# _ = plt.plot(spyValid['Predictions'].rolling(window=10).mean())\n",
    "\n",
    "\n",
    "# # plt.plot(teslaTest)\n",
    "# # plt.plot(teslaValid['TSLA_StockPrice'])\n",
    "# # plt.plot(teslaValid['Predictions'])\n",
    "# _ = plt.legend(['Train', 'Validation', 'Prediction'])\n",
    "# _ = plt.show()"
   ]
  },
  {
   "cell_type": "markdown",
   "metadata": {},
   "source": [
    "## If 1 output,"
   ]
  },
  {
   "cell_type": "code",
   "execution_count": 26,
   "metadata": {},
   "outputs": [
    {
     "name": "stderr",
     "output_type": "stream",
     "text": [
      "c:\\users\\kali\\appdata\\local\\programs\\python\\python37\\lib\\site-packages\\ipykernel_launcher.py:1: SettingWithCopyWarning: \n",
      "A value is trying to be set on a copy of a slice from a DataFrame.\n",
      "Try using .loc[row_indexer,col_indexer] = value instead\n",
      "\n",
      "See the caveats in the documentation: https://pandas.pydata.org/pandas-docs/stable/user_guide/indexing.html#returning-a-view-versus-a-copy\n",
      "  \"\"\"Entry point for launching an IPython kernel.\n"
     ]
    },
    {
     "data": {
      "image/png": "[encoded data removed]",
      "text/plain": [
       "<Figure size 1152x576 with 1 Axes>"
      ]
     },
     "metadata": {
      "needs_background": "light"
     },
     "output_type": "display_data"
    }
   ],
   "source": [
    "spyValid['Predictions'] = y_pred_NLP.flatten()\n",
    "_ = plt.figure(figsize=(16,8))\n",
    "_ = plt.title('Prediction with reddit glove vectors')\n",
    "_ = plt.xlabel('Date', fontsize=18)\n",
    "_ = plt.ylabel('Close Price USD ($)', fontsize=18)\n",
    "\n",
    "_ = plt.plot(spyTest)\n",
    "_ = plt.plot(spyValid['SPY_StockPrice'])\n",
    "# _ = plt.plot(spyValid['Predictions'])\n",
    "_ = plt.plot(spyValid['Predictions'].rolling(window=10).mean())"
   ]
  },
  {
   "cell_type": "code",
   "execution_count": null,
   "metadata": {},
   "outputs": [],
   "source": []
  },
  {
   "cell_type": "code",
   "execution_count": null,
   "metadata": {},
   "outputs": [],
   "source": []
  },
  {
   "cell_type": "code",
   "execution_count": null,
   "metadata": {},
   "outputs": [],
   "source": []
  },
  {
   "cell_type": "code",
   "execution_count": null,
   "metadata": {},
   "outputs": [],
   "source": []
  },
  {
   "cell_type": "code",
   "execution_count": 27,
   "metadata": {
    "colab": {
     "base_uri": "https://localhost:8080/",
     "height": 450
    },
    "colab_type": "code",
    "id": "m4Ha2Vsm59jS",
    "outputId": "f3b8481f-84aa-41c9-9c1b-1983439c80a3"
   },
   "outputs": [
    {
     "data": {
      "text/plain": [
       "(17022, 5)"
      ]
     },
     "execution_count": 27,
     "metadata": {},
     "output_type": "execute_result"
    }
   ],
   "source": [
    "hourly_prices = stocks.filter(['AAPL_StockPrice', 'AMZN_StockPrice', 'BA_StockPrice', 'SPY_StockPrice', 'TSLA_StockPrice'])\n",
    "hourly_prices.shape\n",
    "\n",
    "# set training set len\n",
    "train_len = math.ceil(len(hourly_prices) * 0.80) "
   ]
  },
  {
   "cell_type": "code",
   "execution_count": 28,
   "metadata": {
    "colab": {},
    "colab_type": "code",
    "id": "0uK7bX8K7d6_"
   },
   "outputs": [],
   "source": [
    "hourScaler = MinMaxScaler(feature_range=(-1, 1))\n",
    "scaled_x = hourScaler.fit_transform(hourly_prices)\n",
    "scaled_y = hourScaler.fit_transform(stocks.filter(['SPY_StockPrice']))\n",
    "\n",
    "x_train_data = scaled_x[0:train_len, :]\n",
    "y_train_data = scaled_y[0:train_len, :]\n",
    "\n",
    "x_test_data = scaled_x[training_data_len-60:, :]\n",
    "y_test_data = scaled_y[training_data_len-60:, :]"
   ]
  },
  {
   "cell_type": "code",
   "execution_count": 29,
   "metadata": {
    "colab": {
     "base_uri": "https://localhost:8080/",
     "height": 55
    },
    "colab_type": "code",
    "id": "sRVTMCby70Os",
    "outputId": "ea4790c9-0bdc-42c1-8ac8-12760eeacc47"
   },
   "outputs": [
    {
     "name": "stdout",
     "output_type": "stream",
     "text": [
      "x_train2.shape: (13558, 60, 5)\n",
      "y_train2.shape: (13558, 1)\n"
     ]
    }
   ],
   "source": [
    "x_train2 = []\n",
    "y_train2 = []\n",
    "\n",
    "for i in range(60, len(x_train_data)):\n",
    "  x_train2.append(x_train_data[i-60:i, :])\n",
    "  y_train2.append(y_train_data[i:i+1, :][0].tolist())\n",
    "\n",
    "x_train2, y_train2 = np.array(x_train2), np.array(y_train2)\n",
    "# (number of samples, number of timesteps, number of features)\n",
    "x_train2 = np.reshape(x_train2, (x_train2.shape[0], x_train2.shape[1], 5))\n",
    "\n",
    "print(f'x_train2.shape: {x_train2.shape}')\n",
    "print(f'y_train2.shape: {y_train2.shape}')"
   ]
  },
  {
   "cell_type": "code",
   "execution_count": 30,
   "metadata": {},
   "outputs": [
    {
     "name": "stdout",
     "output_type": "stream",
     "text": [
      "x_test2.shape:  (3404, 60, 5)\n",
      "y_test2.shape:  (3404, 1)\n"
     ]
    }
   ],
   "source": [
    "x_test2 = []\n",
    "y_test2 = []\n",
    "\n",
    "for i in range(60, len(test_data)):\n",
    "  x_test2.append(x_test_data[i-60: i, :])\n",
    "  y_test2.append(y_test_data[i:i+1, :][0].tolist())\n",
    "    \n",
    "x_test2, y_test2 = np.array(x_test2), np.array(y_test2)\n",
    "\n",
    "# Reshape data into 3 dimensions ( num samples, timesteps, num features )\n",
    "x_test2 = np.reshape(x_test2, (x_test2.shape[0], x_test2.shape[1], 5))\n",
    "\n",
    "print(f'x_test2.shape:  {x_test2.shape}')\n",
    "print(f'y_test2.shape:  {y_test2.shape}')"
   ]
  },
  {
   "cell_type": "code",
   "execution_count": 31,
   "metadata": {},
   "outputs": [],
   "source": [
    "batch_size = 16\n",
    "train2 = torch.utils.data.TensorDataset(torch.FloatTensor(x_train2).to(device), torch.FloatTensor(y_train2).to(device))\n",
    "test2 = torch.utils.data.TensorDataset(torch.FloatTensor(x_test2).to(device), torch.FloatTensor(y_test2).to(device))\n",
    "\n",
    "train_loader2 = torch.utils.data.DataLoader(dataset=train2, \n",
    "                                           batch_size=batch_size, \n",
    "                                           shuffle=False)\n",
    "\n",
    "test_loader2 = torch.utils.data.DataLoader(dataset=test2, \n",
    "                                          batch_size=batch_size, \n",
    "                                          shuffle=False)"
   ]
  },
  {
   "cell_type": "code",
   "execution_count": 32,
   "metadata": {},
   "outputs": [
    {
     "name": "stdout",
     "output_type": "stream",
     "text": [
      "Item: lstm_1.weight_ih_l0 \t\t|Size torch.Size([100, 33])\n",
      "Item: lstm_1.weight_hh_l0 \t\t|Size torch.Size([100, 25])\n",
      "Item: lstm_1.bias_ih_l0 \t\t|Size torch.Size([100])\n",
      "Item: lstm_1.bias_hh_l0 \t\t|Size torch.Size([100])\n",
      "Item: lstm_1.weight_ih_l0_reverse \t\t|Size torch.Size([100, 33])\n",
      "Item: lstm_1.weight_hh_l0_reverse \t\t|Size torch.Size([100, 25])\n",
      "Item: lstm_1.bias_ih_l0_reverse \t\t|Size torch.Size([100])\n",
      "Item: lstm_1.bias_hh_l0_reverse \t\t|Size torch.Size([100])\n",
      "Item: dense_bridge.weight \t\t|Size torch.Size([50, 50])\n",
      "Item: dense_bridge.bias \t\t|Size torch.Size([50])\n",
      "Item: lstm_2.weight_ih_l0 \t\t|Size torch.Size([100, 50])\n",
      "Item: lstm_2.weight_hh_l0 \t\t|Size torch.Size([100, 25])\n",
      "Item: lstm_2.bias_ih_l0 \t\t|Size torch.Size([100])\n",
      "Item: lstm_2.bias_hh_l0 \t\t|Size torch.Size([100])\n",
      "Item: dense_1.weight \t\t|Size torch.Size([1, 25])\n",
      "Item: dense_1.bias \t\t|Size torch.Size([1])\n",
      "Item: layerNorm_1.weight \t\t|Size torch.Size([50])\n",
      "Item: layerNorm_1.bias \t\t|Size torch.Size([50])\n",
      "Item: layerNorm_2.weight \t\t|Size torch.Size([25])\n",
      "Item: layerNorm_2.bias \t\t|Size torch.Size([25])\n"
     ]
    }
   ],
   "source": [
    "model2 = LSTM(input_dim=x_train2.shape[2], hidden_dim=25, tagset_size=y_train2.shape[1], batch_size=batch_size).to(device)\n",
    "loss_function = nn.MSELoss()\n",
    "optimizer = optim.Adam(model.parameters(), lr=0.002)\n",
    "\n",
    "\n",
    "for k in model2.state_dict():\n",
    "    print(f'Item: {k} \\t\\t|Size {model.state_dict()[k].size()}')"
   ]
  },
  {
   "cell_type": "code",
   "execution_count": 33,
   "metadata": {
    "colab": {},
    "colab_type": "code",
    "id": "PVzyIlcc8MtH"
   },
   "outputs": [
    {
     "name": "stdout",
     "output_type": "stream",
     "text": [
      "Epoch: 1/2 | MSE: 536.41 | [Test] MSE: 267.18 \n",
      "Epoch: 2/2 | MSE: 533.09 | [Test] MSE: 267.65 \n"
     ]
    }
   ],
   "source": [
    "num_epochs = 2 # 85\n",
    "hist = np.zeros(num_epochs)\n",
    "for epoch in range(num_epochs):\n",
    "    mse = 0\n",
    "    \n",
    "    if epoch == 5:\n",
    "        optimizer.param_groups[0]['lr'] = 0.001\n",
    "    if epoch == 75:\n",
    "        optimizer.param_groups[0]['lr'] = 0.00025\n",
    "\n",
    "    for x, y in train_loader2:\n",
    "\n",
    "        \n",
    "        # Clear stored gradient\n",
    "        model2.zero_grad()\n",
    "\n",
    "        # Initialise hidden state\n",
    "        # Don't do this if you want your LSTM to be stateful\n",
    "        # model.hidden = model.init_hidden()\n",
    "\n",
    "        # Forward pass\n",
    "        y_pred = model2(x)\n",
    "        \n",
    "#         print(y.size())\n",
    "#         print(y_pred.size())\n",
    "        \n",
    "#         assert y.size() == y_pred.size()\n",
    "        \n",
    "        loss = loss_function(y_pred, y)\n",
    "        mse += loss.item()\n",
    "        hist[epoch] = loss.item()\n",
    "\n",
    "        # Zero out gradient, else they will accumulate between epochs\n",
    "        optimizer.zero_grad()\n",
    "\n",
    "        # Backward pass\n",
    "        loss.backward()\n",
    "        \n",
    "        # Clip Grads\n",
    "        clipping_value = 2 # arbitrary value of your choosing\n",
    "        _ = torch.nn.utils.clip_grad_value_(model.parameters(), clipping_value) # CLIP_GRAD_VALUE_\n",
    "#         for p in model.parameters():\n",
    "#             _ = p.grad.data.clamp_(max=clipping_value)\n",
    "\n",
    "        # Update parameters\n",
    "        optimizer.step()\n",
    "\n",
    "    with torch.no_grad():\n",
    "        test_mse = 0 \n",
    "        for x, y in test_loader2:\n",
    "            y_pred_batch = model2(x)\n",
    "            loss = loss_function(y_pred_batch, y)\n",
    "            test_mse += loss.item()\n",
    "\n",
    "    print(f'Epoch: {epoch+1}/{num_epochs} | MSE: {mse:.2f} | [Test] MSE: {test_mse:.2f} ')"
   ]
  },
  {
   "cell_type": "code",
   "execution_count": 34,
   "metadata": {},
   "outputs": [
    {
     "name": "stdout",
     "output_type": "stream",
     "text": [
      "MSE: 253.52\n"
     ]
    }
   ],
   "source": [
    "# See what the scores are after training\n",
    "y_pred = []\n",
    "with torch.no_grad():\n",
    "    mse = 0 \n",
    "    for x, y in test_loader2:\n",
    "        y_pred_batch = model2(x)\n",
    "        y_pred.extend(y_pred_batch.tolist())\n",
    "        loss = loss_function(y_pred_batch, y)\n",
    "        mse += loss.item()\n",
    "    print(f'MSE: {mse:.2f}')"
   ]
  },
  {
   "cell_type": "code",
   "execution_count": 35,
   "metadata": {},
   "outputs": [
    {
     "data": {
      "text/plain": [
       "(3404, 1)"
      ]
     },
     "execution_count": 35,
     "metadata": {},
     "output_type": "execute_result"
    },
    {
     "data": {
      "text/plain": [
       "(3404, 1)"
      ]
     },
     "execution_count": 35,
     "metadata": {},
     "output_type": "execute_result"
    }
   ],
   "source": [
    "y_pred_ = price_scaler.inverse_transform(y_pred) # .reshape(-1, 1)\n",
    "y_test_ = price_scaler.inverse_transform(y_test) # .reshape(-1, 1)\n",
    "\n",
    "y_pred_.shape\n",
    "y_test_.shape"
   ]
  },
  {
   "cell_type": "code",
   "execution_count": null,
   "metadata": {},
   "outputs": [],
   "source": []
  },
  {
   "cell_type": "code",
   "execution_count": 36,
   "metadata": {},
   "outputs": [
    {
     "name": "stdout",
     "output_type": "stream",
     "text": [
      "MAE: 39.28 | MSE: 1937.92 | rMSE: 44.02 | MAPE: 16.12 | MSPE: 193791.61\n"
     ]
    }
   ],
   "source": [
    "mae = np.mean(np.abs(y_pred_ - y_test_))\n",
    "mse = np.mean(np.power(y_pred_ - y_test_, 2))\n",
    "rmse = np.sqrt(mse)\n",
    "\n",
    "mape = np.mean(np.abs((y_pred_ - y_test_) / y_pred_)) * 100\n",
    "mspe = np.mean(np.power(y_pred_ - y_test_, 2)) * 100 # I hope this is correct\n",
    "\n",
    "print(f'MAE: {mae:.2f} | MSE: {mse:.2f} | rMSE: {rmse:.2f} | MAPE: {mape:.2f} | MSPE: {mspe:.2f}')"
   ]
  },
  {
   "cell_type": "code",
   "execution_count": 37,
   "metadata": {},
   "outputs": [
    {
     "name": "stderr",
     "output_type": "stream",
     "text": [
      "c:\\users\\kali\\appdata\\local\\programs\\python\\python37\\lib\\site-packages\\pandas\\core\\indexing.py:1676: SettingWithCopyWarning: \n",
      "A value is trying to be set on a copy of a slice from a DataFrame.\n",
      "Try using .loc[row_indexer,col_indexer] = value instead\n",
      "\n",
      "See the caveats in the documentation: https://pandas.pydata.org/pandas-docs/stable/user_guide/indexing.html#returning-a-view-versus-a-copy\n",
      "  self._setitem_single_column(ilocs[0], value, pi)\n",
      "c:\\users\\kali\\appdata\\local\\programs\\python\\python37\\lib\\site-packages\\pandas\\core\\indexing.py:1597: SettingWithCopyWarning: \n",
      "A value is trying to be set on a copy of a slice from a DataFrame.\n",
      "Try using .loc[row_indexer,col_indexer] = value instead\n",
      "\n",
      "See the caveats in the documentation: https://pandas.pydata.org/pandas-docs/stable/user_guide/indexing.html#returning-a-view-versus-a-copy\n",
      "  self.obj[key] = value\n"
     ]
    },
    {
     "data": {
      "text/plain": [
       "<AxesSubplot:xlabel='created_utc'>"
      ]
     },
     "execution_count": 37,
     "metadata": {},
     "output_type": "execute_result"
    },
    {
     "data": {
      "image/png": "[encoded data removed]",
      "text/plain": [
       "<Figure size 864x576 with 1 Axes>"
      ]
     },
     "metadata": {
      "needs_background": "light"
     },
     "output_type": "display_data"
    }
   ],
   "source": [
    "# spyTest # train \n",
    "# spyValid # test \n",
    "spyValid.loc[:,'Predictions'] = y_pred_NLP.flatten()\n",
    "spyValid.loc[:,'Predictions - no NLP'] = y_pred_.flatten()\n",
    "pd.concat([spyTest, spyValid]).plot(figsize=(12,8))"
   ]
  },
  {
   "cell_type": "code",
   "execution_count": 38,
   "metadata": {},
   "outputs": [
    {
     "data": {
      "image/png": "[encoded data removed]",
      "text/plain": [
       "<Figure size 864x576 with 1 Axes>"
      ]
     },
     "metadata": {
      "needs_background": "light"
     },
     "output_type": "display_data"
    }
   ],
   "source": [
    "_ = plt.figure(figsize=(12,8))\n",
    "_ = plt.title('Prediction with and without reddit glove vectors')\n",
    "_ = plt.xlabel('Date', fontsize=18)\n",
    "_ = plt.ylabel('Close Price USD ($)', fontsize=18)\n",
    "\n",
    "_ = plt.plot(spyTest)\n",
    "_ = plt.plot(spyValid['SPY_StockPrice'], label=\"train\")\n",
    "_ = plt.plot(spyValid['Predictions'].rolling(window=10).mean(), label=\"pred\")\n",
    "_ = plt.plot(spyValid['Predictions - no NLP'].rolling(window=10).mean(), label=\"pred - no NLP\")\n",
    "_ = plt.legend()"
   ]
  },
  {
   "cell_type": "code",
   "execution_count": 39,
   "metadata": {
    "colab": {
     "base_uri": "https://localhost:8080/",
     "height": 595
    },
    "colab_type": "code",
    "id": "v87X06YFPqff",
    "outputId": "96e5c628-3471-4c29-ab27-94aa19039e06"
   },
   "outputs": [],
   "source": [
    "# print(len(appleValid)) # 3404\n",
    "# appleValid['Predictions2'] = predictions2[:,:1]\n",
    "# amazonValid[\"Predictions2\"] = predictions2[:,1:2]\n",
    "# boeValid['Predictions2'] = predictions2[:, 2:3]\n",
    "# spyValid[\"Predictions2\"] = predictions2[:, 3:4]\n",
    "# teslaValid[\"Predictions2\"] = predictions2[:, 4:5]"
   ]
  },
  {
   "cell_type": "code",
   "execution_count": null,
   "metadata": {
    "colab": {
     "base_uri": "https://localhost:8080/",
     "height": 536
    },
    "colab_type": "code",
    "id": "GF3W_uafPvh5",
    "outputId": "694e7ccc-a22e-4254-ff3c-15024cd7ebdb"
   },
   "outputs": [],
   "source": [
    "# # Visualize data\n",
    "# plt.figure(figsize=(16,8))\n",
    "# plt.title('Stock Prediction with and without Reddit word vector data \\n (AAPL)')\n",
    "# plt.xlabel('Date', fontsize=18)\n",
    "# plt.ylabel('Close Price USD ($)', fontsize=18)\n",
    "# plt.plot(appleTest)\n",
    "# plt.plot(appleValid)\n",
    "# plt.plot(appleValid['Predictions'], color='red')\n",
    "# plt.plot(appleValid['Predictions2'], color='green')\n",
    "# # plt.plot(amazonTest)\n",
    "# # plt.plot(amazonValid)\n",
    "# # plt.plot(amazonValid['Predictions'], color='red')\n",
    "# # plt.plot(amazonValid['Predictions2'], color='green')\n",
    "# # plt.plot(boeTest)\n",
    "# # plt.plot(boeValid)\n",
    "# # plt.plot(boeValid['Predictions'], color='red')\n",
    "# # plt.plot(boeValid['Predictions2'], color='green')\n",
    "# # plt.plot(spyTest, label='Train')\n",
    "# # plt.plot(spyValid, label='Actual')\n",
    "# # plt.plot(spyValid['Predictions'], label='Prediction with vector', color='red')\n",
    "# # plt.plot(spyValid['Predictions2'], label='Prediction without vector', color='green')\n",
    "\n",
    "# # plt.plot(teslaTest, label='Train')\n",
    "# # plt.plot(teslaValid, label=\"Actual\")\n",
    "# # plt.plot(teslaValid['Predictions'], label=\"vector prediction\", color='red')\n",
    "# # plt.plot(teslaValid['Predictions2'], label=\"without vector prediction\", color=\"green\")\n",
    "# plt.legend(('Train', 'Validation', 'Prediction with vector', 'Prediction without'), title=\"Legend\",)\n",
    "# plt.show()\n"
   ]
  },
  {
   "cell_type": "code",
   "execution_count": null,
   "metadata": {
    "colab": {},
    "colab_type": "code",
    "id": "9yR-fhFWQ6Tx"
   },
   "outputs": [],
   "source": []
  },
  {
   "cell_type": "code",
   "execution_count": null,
   "metadata": {},
   "outputs": [],
   "source": []
  },
  {
   "cell_type": "code",
   "execution_count": null,
   "metadata": {},
   "outputs": [],
   "source": []
  },
  {
   "cell_type": "code",
   "execution_count": null,
   "metadata": {},
   "outputs": [],
   "source": []
  },
  {
   "cell_type": "code",
   "execution_count": null,
   "metadata": {},
   "outputs": [],
   "source": [
    "# for i in range(0, len(x_train) - (len(x_train)%batch_size), batch_size):\n",
    "\n",
    "\n",
    "# for epoch in range(epochs):  # again, normally you would NOT do 300 epochs, it is toy data\n",
    "#     mse = 0\n",
    "#     for i in range(0, len(x_train) - (len(x_train)%batch_size), batch_size):\n",
    "\n",
    "#         # Step 1. Remember that Pytorch accumulates gradients.\n",
    "#         # We need to clear them out before each instance\n",
    "#         model.zero_grad()\n",
    "\n",
    "#         # Step 2. Get our inputs ready for the network, that is, turn them into\n",
    "#         # Tensors of word indices.\n",
    "        \n",
    "# #         print(type(y_train[i:i+16]))\n",
    "# #         break\n",
    "\n",
    "#         # Step 3. Run our forward pass.\n",
    "#         output = model(x_train[i:i+batch_size])\n",
    "\n",
    "#         # Step 4. Compute the loss, gradients, and update the parameters by\n",
    "#         #  calling optimizer.step()\n",
    "#         loss = loss_function(output, y_train[i:i+batch_size])\n",
    "#         loss.backward()\n",
    "#         optimizer.step()\n",
    "#         mse += loss\n",
    "# #         print(loss)\n",
    "#     print(f'Epoch: {epoch+1}/{epochs} | Loss: {mse}')"
   ]
  }
 ],
 "metadata": {
  "colab": {
   "collapsed_sections": [],
   "name": "hourly_stock_prediction.ipynb",
   "provenance": []
  },
  "kernelspec": {
   "display_name": "Python 3",
   "language": "python",
   "name": "python3"
  },
  "language_info": {
   "codemirror_mode": {
    "name": "ipython",
    "version": 3
   },
   "file_extension": ".py",
   "mimetype": "text/x-python",
   "name": "python",
   "nbconvert_exporter": "python",
   "pygments_lexer": "ipython3",
   "version": "3.7.9"
  }
 },
 "nbformat": 4,
 "nbformat_minor": 4
}
