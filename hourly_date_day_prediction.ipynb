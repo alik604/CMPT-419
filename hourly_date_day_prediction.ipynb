{
 "cells": [
  {
   "cell_type": "code",
   "execution_count": 28,
   "metadata": {
    "colab": {
     "base_uri": "https://localhost:8080/",
     "height": 217
    },
    "colab_type": "code",
    "id": "JAFWu48oXEyo",
    "outputId": "ed511ab4-d837-48c1-9762-b1fedd6b7a7e"
   },
   "outputs": [],
   "source": [
    "# Import required Libraries\n",
    "# !pip install pyarrow\n",
    "import math\n",
    "import pandas_datareader as web\n",
    "import numpy as np \n",
    "import pandas as pd\n",
    "from sklearn.preprocessing import MinMaxScaler\n",
    "from tensorflow.keras.models import Sequential \n",
    "from tensorflow.keras.layers import Dense, LSTM, Dropout\n",
    "import matplotlib.pyplot as plt\n",
    "import datetime"
   ]
  },
  {
   "cell_type": "code",
   "execution_count": 29,
   "metadata": {
    "colab": {},
    "colab_type": "code",
    "id": "iv6b1wZvXsXT"
   },
   "outputs": [],
   "source": [
    "data = pd.read_parquet('https://github.com/ddkpham/Stock_Prediction_NLP_ML/blob/master/wsb.hourly.joined.parquet.gz?raw=true')"
   ]
  },
  {
   "cell_type": "code",
   "execution_count": 30,
   "metadata": {
    "colab": {
     "base_uri": "https://localhost:8080/",
     "height": 309
    },
    "colab_type": "code",
    "id": "19UAmo8DXzrZ",
    "outputId": "8037692e-0188-4b1f-8fd0-ec1b972bdd8a"
   },
   "outputs": [
    {
     "data": {
      "text/html": [
       "<div>\n",
       "<style scoped>\n",
       "    .dataframe tbody tr th:only-of-type {\n",
       "        vertical-align: middle;\n",
       "    }\n",
       "\n",
       "    .dataframe tbody tr th {\n",
       "        vertical-align: top;\n",
       "    }\n",
       "\n",
       "    .dataframe thead th {\n",
       "        text-align: right;\n",
       "    }\n",
       "</style>\n",
       "<table border=\"1\" class=\"dataframe\">\n",
       "  <thead>\n",
       "    <tr style=\"text-align: right;\">\n",
       "      <th></th>\n",
       "      <th>score</th>\n",
       "      <th>gilded</th>\n",
       "      <th>wordcount</th>\n",
       "      <th>0</th>\n",
       "      <th>1</th>\n",
       "      <th>2</th>\n",
       "      <th>3</th>\n",
       "      <th>4</th>\n",
       "      <th>5</th>\n",
       "      <th>6</th>\n",
       "      <th>...</th>\n",
       "      <th>20</th>\n",
       "      <th>21</th>\n",
       "      <th>22</th>\n",
       "      <th>23</th>\n",
       "      <th>24</th>\n",
       "      <th>AAPL_StockPrice</th>\n",
       "      <th>AMZN_StockPrice</th>\n",
       "      <th>BA_StockPrice</th>\n",
       "      <th>SPY_StockPrice</th>\n",
       "      <th>TSLA_StockPrice</th>\n",
       "    </tr>\n",
       "    <tr>\n",
       "      <th>created_utc</th>\n",
       "      <th></th>\n",
       "      <th></th>\n",
       "      <th></th>\n",
       "      <th></th>\n",
       "      <th></th>\n",
       "      <th></th>\n",
       "      <th></th>\n",
       "      <th></th>\n",
       "      <th></th>\n",
       "      <th></th>\n",
       "      <th></th>\n",
       "      <th></th>\n",
       "      <th></th>\n",
       "      <th></th>\n",
       "      <th></th>\n",
       "      <th></th>\n",
       "      <th></th>\n",
       "      <th></th>\n",
       "      <th></th>\n",
       "      <th></th>\n",
       "      <th></th>\n",
       "    </tr>\n",
       "  </thead>\n",
       "  <tbody>\n",
       "    <tr>\n",
       "      <th>2017-01-03 00:00:00</th>\n",
       "      <td>10.600000</td>\n",
       "      <td>0.0</td>\n",
       "      <td>15.127273</td>\n",
       "      <td>-0.004773</td>\n",
       "      <td>0.096914</td>\n",
       "      <td>-0.028997</td>\n",
       "      <td>-0.013654</td>\n",
       "      <td>-0.040472</td>\n",
       "      <td>-0.028197</td>\n",
       "      <td>0.125876</td>\n",
       "      <td>...</td>\n",
       "      <td>0.034497</td>\n",
       "      <td>0.012236</td>\n",
       "      <td>0.022241</td>\n",
       "      <td>0.046725</td>\n",
       "      <td>-0.052190</td>\n",
       "      <td>116.01</td>\n",
       "      <td>757.76</td>\n",
       "      <td>155.68</td>\n",
       "      <td>224.86</td>\n",
       "      <td>214.3</td>\n",
       "    </tr>\n",
       "    <tr>\n",
       "      <th>2017-01-03 01:00:00</th>\n",
       "      <td>6.126761</td>\n",
       "      <td>0.0</td>\n",
       "      <td>14.957746</td>\n",
       "      <td>-0.018255</td>\n",
       "      <td>0.086793</td>\n",
       "      <td>-0.015693</td>\n",
       "      <td>-0.014463</td>\n",
       "      <td>-0.047337</td>\n",
       "      <td>-0.039189</td>\n",
       "      <td>0.151025</td>\n",
       "      <td>...</td>\n",
       "      <td>0.004107</td>\n",
       "      <td>0.018103</td>\n",
       "      <td>0.037762</td>\n",
       "      <td>0.030239</td>\n",
       "      <td>-0.058607</td>\n",
       "      <td>116.01</td>\n",
       "      <td>757.76</td>\n",
       "      <td>155.68</td>\n",
       "      <td>224.86</td>\n",
       "      <td>214.3</td>\n",
       "    </tr>\n",
       "    <tr>\n",
       "      <th>2017-01-03 02:00:00</th>\n",
       "      <td>5.150685</td>\n",
       "      <td>0.0</td>\n",
       "      <td>18.753425</td>\n",
       "      <td>-0.013361</td>\n",
       "      <td>0.085355</td>\n",
       "      <td>-0.045373</td>\n",
       "      <td>-0.029794</td>\n",
       "      <td>-0.013735</td>\n",
       "      <td>-0.030920</td>\n",
       "      <td>0.150325</td>\n",
       "      <td>...</td>\n",
       "      <td>-0.003617</td>\n",
       "      <td>0.002007</td>\n",
       "      <td>0.037377</td>\n",
       "      <td>0.017159</td>\n",
       "      <td>-0.064736</td>\n",
       "      <td>116.01</td>\n",
       "      <td>757.76</td>\n",
       "      <td>155.68</td>\n",
       "      <td>224.86</td>\n",
       "      <td>214.3</td>\n",
       "    </tr>\n",
       "    <tr>\n",
       "      <th>2017-01-03 03:00:00</th>\n",
       "      <td>5.723404</td>\n",
       "      <td>0.0</td>\n",
       "      <td>16.893617</td>\n",
       "      <td>-0.008933</td>\n",
       "      <td>0.079429</td>\n",
       "      <td>-0.009839</td>\n",
       "      <td>-0.026562</td>\n",
       "      <td>-0.041718</td>\n",
       "      <td>-0.015318</td>\n",
       "      <td>0.154539</td>\n",
       "      <td>...</td>\n",
       "      <td>-0.007581</td>\n",
       "      <td>0.005232</td>\n",
       "      <td>0.022578</td>\n",
       "      <td>0.016312</td>\n",
       "      <td>-0.054883</td>\n",
       "      <td>116.01</td>\n",
       "      <td>757.76</td>\n",
       "      <td>155.68</td>\n",
       "      <td>224.86</td>\n",
       "      <td>214.3</td>\n",
       "    </tr>\n",
       "    <tr>\n",
       "      <th>2017-01-03 04:00:00</th>\n",
       "      <td>1.516667</td>\n",
       "      <td>0.0</td>\n",
       "      <td>19.700000</td>\n",
       "      <td>-0.015290</td>\n",
       "      <td>0.079454</td>\n",
       "      <td>-0.002097</td>\n",
       "      <td>-0.019933</td>\n",
       "      <td>-0.023108</td>\n",
       "      <td>-0.015315</td>\n",
       "      <td>0.154939</td>\n",
       "      <td>...</td>\n",
       "      <td>-0.011684</td>\n",
       "      <td>0.011437</td>\n",
       "      <td>0.028106</td>\n",
       "      <td>0.017372</td>\n",
       "      <td>-0.061380</td>\n",
       "      <td>116.01</td>\n",
       "      <td>757.76</td>\n",
       "      <td>155.68</td>\n",
       "      <td>224.86</td>\n",
       "      <td>214.3</td>\n",
       "    </tr>\n",
       "  </tbody>\n",
       "</table>\n",
       "<p>5 rows × 33 columns</p>\n",
       "</div>"
      ],
      "text/plain": [
       "                         score  gilded  wordcount         0         1  \\\n",
       "created_utc                                                             \n",
       "2017-01-03 00:00:00  10.600000     0.0  15.127273 -0.004773  0.096914   \n",
       "2017-01-03 01:00:00   6.126761     0.0  14.957746 -0.018255  0.086793   \n",
       "2017-01-03 02:00:00   5.150685     0.0  18.753425 -0.013361  0.085355   \n",
       "2017-01-03 03:00:00   5.723404     0.0  16.893617 -0.008933  0.079429   \n",
       "2017-01-03 04:00:00   1.516667     0.0  19.700000 -0.015290  0.079454   \n",
       "\n",
       "                            2         3         4         5         6  ...  \\\n",
       "created_utc                                                            ...   \n",
       "2017-01-03 00:00:00 -0.028997 -0.013654 -0.040472 -0.028197  0.125876  ...   \n",
       "2017-01-03 01:00:00 -0.015693 -0.014463 -0.047337 -0.039189  0.151025  ...   \n",
       "2017-01-03 02:00:00 -0.045373 -0.029794 -0.013735 -0.030920  0.150325  ...   \n",
       "2017-01-03 03:00:00 -0.009839 -0.026562 -0.041718 -0.015318  0.154539  ...   \n",
       "2017-01-03 04:00:00 -0.002097 -0.019933 -0.023108 -0.015315  0.154939  ...   \n",
       "\n",
       "                           20        21        22        23        24  \\\n",
       "created_utc                                                             \n",
       "2017-01-03 00:00:00  0.034497  0.012236  0.022241  0.046725 -0.052190   \n",
       "2017-01-03 01:00:00  0.004107  0.018103  0.037762  0.030239 -0.058607   \n",
       "2017-01-03 02:00:00 -0.003617  0.002007  0.037377  0.017159 -0.064736   \n",
       "2017-01-03 03:00:00 -0.007581  0.005232  0.022578  0.016312 -0.054883   \n",
       "2017-01-03 04:00:00 -0.011684  0.011437  0.028106  0.017372 -0.061380   \n",
       "\n",
       "                     AAPL_StockPrice  AMZN_StockPrice  BA_StockPrice  \\\n",
       "created_utc                                                            \n",
       "2017-01-03 00:00:00           116.01           757.76         155.68   \n",
       "2017-01-03 01:00:00           116.01           757.76         155.68   \n",
       "2017-01-03 02:00:00           116.01           757.76         155.68   \n",
       "2017-01-03 03:00:00           116.01           757.76         155.68   \n",
       "2017-01-03 04:00:00           116.01           757.76         155.68   \n",
       "\n",
       "                     SPY_StockPrice  TSLA_StockPrice  \n",
       "created_utc                                           \n",
       "2017-01-03 00:00:00          224.86            214.3  \n",
       "2017-01-03 01:00:00          224.86            214.3  \n",
       "2017-01-03 02:00:00          224.86            214.3  \n",
       "2017-01-03 03:00:00          224.86            214.3  \n",
       "2017-01-03 04:00:00          224.86            214.3  \n",
       "\n",
       "[5 rows x 33 columns]"
      ]
     },
     "execution_count": 30,
     "metadata": {},
     "output_type": "execute_result"
    }
   ],
   "source": [
    "dataset = data.set_index('created_utc')\n",
    "# dataset = dataset.values\n",
    "dataset.head(5)"
   ]
  },
  {
   "cell_type": "code",
   "execution_count": 31,
   "metadata": {
    "colab": {
     "base_uri": "https://localhost:8080/",
     "height": 35
    },
    "colab_type": "code",
    "id": "Q3VZOkwfX1qR",
    "outputId": "4297ee9f-dfb5-4e9d-dc92-5e4e6bf61bfd"
   },
   "outputs": [
    {
     "name": "stdout",
     "output_type": "stream",
     "text": [
      "713\n"
     ]
    }
   ],
   "source": [
    "opening_price = data.filter(['created_utc','AAPL_StockPrice', 'AMZN_StockPrice', \n",
    "                                              'BA_StockPrice', 'SPY_StockPrice', 'TSLA_StockPrice'])\n",
    "# Opening hour prices for stocks\n",
    "opening_dataset = opening_price.set_index('created_utc')\n",
    "opening_dataset = opening_dataset.resample('D').first().dropna(how='any')\n",
    "opening_dataset = opening_dataset.values\n",
    "print(len(opening_dataset))\n"
   ]
  },
  {
   "cell_type": "code",
   "execution_count": 32,
   "metadata": {
    "colab": {
     "base_uri": "https://localhost:8080/",
     "height": 71
    },
    "colab_type": "code",
    "id": "9pj7VBO6YFmL",
    "outputId": "85cbdb43-9316-418f-a336-b6b9ee63abd1"
   },
   "outputs": [
    {
     "name": "stdout",
     "output_type": "stream",
     "text": [
      "13618\n",
      "13638\n"
     ]
    },
    {
     "data": {
      "text/plain": [
       "Timestamp('2019-04-12 00:00:00')"
      ]
     },
     "execution_count": 32,
     "metadata": {},
     "output_type": "execute_result"
    }
   ],
   "source": [
    "# set training set len\n",
    "training_data_len = math.ceil(len(dataset) * 0.8)\n",
    "training_data_len\n",
    "hours = data.filter(['created_utc'])\n",
    "hours = hours['created_utc']\n",
    "print(training_data_len)\n",
    "\n",
    "# adjust training length to the end of a day since it may fall in the middle of a day\n",
    "while(hours[training_data_len].hour != 0):\n",
    "  training_data_len = training_data_len +1\n",
    "print(training_data_len)\n",
    "hours[training_data_len]"
   ]
  },
  {
   "cell_type": "code",
   "execution_count": 33,
   "metadata": {
    "colab": {
     "base_uri": "https://localhost:8080/",
     "height": 251
    },
    "colab_type": "code",
    "id": "AE2xD91yhbrE",
    "outputId": "41f3fec5-037b-4542-afc6-6f652dfe64d5"
   },
   "outputs": [
    {
     "data": {
      "text/plain": [
       "array([[7.51032670e-05, 3.16376784e-03, 0.00000000e+00, 0.00000000e+00,\n",
       "        1.69553372e-01],\n",
       "       [4.50619602e-04, 0.00000000e+00, 4.51017411e-03, 4.79313824e-03,\n",
       "        1.60795952e-01],\n",
       "       [0.00000000e+00, 2.41568481e-03, 1.02790015e-02, 2.16952573e-02,\n",
       "        2.29639000e-01],\n",
       "       ...,\n",
       "       [1.00000000e+00, 7.97604576e-01, 6.46877841e-01, 9.89404642e-01,\n",
       "        7.20832928e-01],\n",
       "       [9.60045062e-01, 7.86406708e-01, 6.72225718e-01, 9.88269425e-01,\n",
       "        6.57438941e-01],\n",
       "       [9.92790086e-01, 8.03098311e-01, 6.68170058e-01, 1.00000000e+00,\n",
       "        6.59871558e-01]])"
      ]
     },
     "execution_count": 33,
     "metadata": {},
     "output_type": "execute_result"
    }
   ],
   "source": [
    "scaler = MinMaxScaler(feature_range=(0,1))\n",
    "openScaler = MinMaxScaler(feature_range=(0,1))\n",
    "\n",
    "scaled_dataset = scaler.fit_transform(dataset)\n",
    "\n",
    "scaled_open_prices = openScaler.fit_transform(opening_dataset)\n",
    "scaled_open_prices"
   ]
  },
  {
   "cell_type": "code",
   "execution_count": 34,
   "metadata": {
    "colab": {
     "base_uri": "https://localhost:8080/",
     "height": 53
    },
    "colab_type": "code",
    "id": "N6FfNa3hh2xZ",
    "outputId": "19efd18c-a0da-42d0-f679-1fff44cb75db"
   },
   "outputs": [
    {
     "name": "stdout",
     "output_type": "stream",
     "text": [
      "572\n",
      "2019-04-11\n"
     ]
    }
   ],
   "source": [
    "# Split date into x_train, y_train \n",
    "train_xvals = scaled_dataset[0:training_data_len, :]\n",
    "\n",
    "# to check date of current row \n",
    "dates = data['created_utc']\n",
    "t_data = data[data['created_utc'] < dates[training_data_len]]\n",
    "training_days = t_data['created_utc'].dt.date.unique()\n",
    "\n",
    "print(len(training_days))\n",
    "print(training_days[-1]) # verify this is the correct date. Should be before the date in hours[training_data_len]\n",
    "\n"
   ]
  },
  {
   "cell_type": "code",
   "execution_count": 35,
   "metadata": {
    "colab": {
     "base_uri": "https://localhost:8080/",
     "height": 73
    },
    "colab_type": "code",
    "id": "JxTWplMUEZjI",
    "outputId": "34a9621b-621e-47d8-ab8c-5c8090fa444a"
   },
   "outputs": [
    {
     "name": "stdout",
     "output_type": "stream",
     "text": [
      "[[0.00045061960195269535, 0.0, 0.004510174113698251, 0.004793138244197692, 0.16079595212610687]]\n",
      "[[0.00045061960195269535, 0.0, 0.004510174113698251, 0.004793138244197692, 0.16079595212610687], [0.0, 0.002415684807680285, 0.01027900146842875, 0.021695257315842653, 0.2296389997080861]]\n"
     ]
    }
   ],
   "source": [
    "x_train = []\n",
    "y_train = []\n",
    "i = 0\n",
    "num_hours_in_day = 24\n",
    "for idx in range(0,len(training_days)):\n",
    "  time_step = []\n",
    "  # last day in the list \n",
    "  if idx == len(training_days) - 1:\n",
    "    while(i < training_data_len):\n",
    "      hourly_data = train_xvals[i:i+1, :][0]\n",
    "      time_step.append(hourly_data)\n",
    "      i = i + 1\n",
    "    while(len(time_step) < num_hours_in_day):\n",
    "      filler = np.zeros(len(hourly_data))\n",
    "      time_step.append(filler)\n",
    "  else:\n",
    "    # next_date = training_days['created_utc'][idx + 1]\n",
    "    next_date = training_days[idx + 1]\n",
    "    while(next_date > dates[i]):\n",
    "    # day matches \n",
    "      hourly_data = train_xvals[i:i+1, :][0]\n",
    "      time_step.append(hourly_data)\n",
    "      i = i + 1\n",
    "    # if there isnt a full 24 hours in set \n",
    "    while(len(time_step) < num_hours_in_day):\n",
    "      filler = np.zeros(len(hourly_data))\n",
    "      time_step.append(filler)\n",
    "  time_step = np.array(time_step)\n",
    "  \n",
    "  time_step = np.reshape(time_step, (24,33))\n",
    "  x_train.append(time_step)\n",
    "  y_train.append(scaled_open_prices[idx+1].tolist())\n",
    "  test_start_index = idx + 1\n",
    "  if(idx < 2):\n",
    "    print(y_train)\n",
    "    # print('time_step',idx, time_step)\n"
   ]
  },
  {
   "cell_type": "code",
   "execution_count": 36,
   "metadata": {
    "colab": {
     "base_uri": "https://localhost:8080/",
     "height": 35
    },
    "colab_type": "code",
    "id": "3sbR3dt-ni8d",
    "outputId": "096d9977-39cb-4b94-94a7-ba7c03e401c9"
   },
   "outputs": [
    {
     "data": {
      "text/plain": [
       "(572, 24, 33)"
      ]
     },
     "execution_count": 36,
     "metadata": {},
     "output_type": "execute_result"
    }
   ],
   "source": [
    "# Convert both x, y training sets to np array \n",
    "x_train, y_train = np.array(x_train), np.array(y_train)\n",
    "# Reshape the data // LSTM network expects 3 dimensional input in the form of \n",
    "# (number of samples, number of timesteps, number of features)\n",
    "x_train = np.reshape(x_train, (x_train.shape[0], x_train.shape[1], 33))\n",
    "x_train.shape"
   ]
  },
  {
   "cell_type": "code",
   "execution_count": 37,
   "metadata": {
    "colab": {},
    "colab_type": "code",
    "id": "wwJCHUIg1jK0"
   },
   "outputs": [
    {
     "ename": "NotImplementedError",
     "evalue": "Cannot convert a symbolic Tensor (lstm_3/strided_slice:0) to a numpy array. This error may indicate that you're trying to pass a Tensor to a NumPy call, which is not supported",
     "output_type": "error",
     "traceback": [
      "\u001b[1;31m---------------------------------------------------------------------------\u001b[0m",
      "\u001b[1;31mNotImplementedError\u001b[0m                       Traceback (most recent call last)",
      "\u001b[1;32m<ipython-input-37-5acc3d316a6e>\u001b[0m in \u001b[0;36m<module>\u001b[1;34m\u001b[0m\n\u001b[0;32m      3\u001b[0m \u001b[1;33m\u001b[0m\u001b[0m\n\u001b[0;32m      4\u001b[0m \u001b[1;31m# Add layers , input shape expected is (number of timesteps, number of features)\u001b[0m\u001b[1;33m\u001b[0m\u001b[1;33m\u001b[0m\u001b[1;33m\u001b[0m\u001b[0m\n\u001b[1;32m----> 5\u001b[1;33m \u001b[0mmodel\u001b[0m\u001b[1;33m.\u001b[0m\u001b[0madd\u001b[0m\u001b[1;33m(\u001b[0m\u001b[0mLSTM\u001b[0m\u001b[1;33m(\u001b[0m\u001b[1;36m75\u001b[0m\u001b[1;33m,\u001b[0m \u001b[0mreturn_sequences\u001b[0m\u001b[1;33m=\u001b[0m\u001b[1;32mTrue\u001b[0m\u001b[1;33m,\u001b[0m \u001b[0minput_shape\u001b[0m\u001b[1;33m=\u001b[0m\u001b[1;33m(\u001b[0m\u001b[0mx_train\u001b[0m\u001b[1;33m.\u001b[0m\u001b[0mshape\u001b[0m\u001b[1;33m[\u001b[0m\u001b[1;36m1\u001b[0m\u001b[1;33m]\u001b[0m\u001b[1;33m,\u001b[0m \u001b[1;36m33\u001b[0m\u001b[1;33m)\u001b[0m\u001b[1;33m)\u001b[0m\u001b[1;33m)\u001b[0m\u001b[1;33m\u001b[0m\u001b[1;33m\u001b[0m\u001b[0m\n\u001b[0m\u001b[0;32m      6\u001b[0m \u001b[0mmodel\u001b[0m\u001b[1;33m.\u001b[0m\u001b[0madd\u001b[0m\u001b[1;33m(\u001b[0m\u001b[0mDropout\u001b[0m\u001b[1;33m(\u001b[0m\u001b[1;36m0.2\u001b[0m\u001b[1;33m)\u001b[0m\u001b[1;33m)\u001b[0m\u001b[1;33m\u001b[0m\u001b[1;33m\u001b[0m\u001b[0m\n\u001b[0;32m      7\u001b[0m \u001b[1;33m\u001b[0m\u001b[0m\n",
      "\u001b[1;32mc:\\users\\kali\\appdata\\local\\programs\\python\\python37\\lib\\site-packages\\tensorflow\\python\\training\\tracking\\base.py\u001b[0m in \u001b[0;36m_method_wrapper\u001b[1;34m(self, *args, **kwargs)\u001b[0m\n\u001b[0;32m    515\u001b[0m     \u001b[0mself\u001b[0m\u001b[1;33m.\u001b[0m\u001b[0m_self_setattr_tracking\u001b[0m \u001b[1;33m=\u001b[0m \u001b[1;32mFalse\u001b[0m  \u001b[1;31m# pylint: disable=protected-access\u001b[0m\u001b[1;33m\u001b[0m\u001b[1;33m\u001b[0m\u001b[0m\n\u001b[0;32m    516\u001b[0m     \u001b[1;32mtry\u001b[0m\u001b[1;33m:\u001b[0m\u001b[1;33m\u001b[0m\u001b[1;33m\u001b[0m\u001b[0m\n\u001b[1;32m--> 517\u001b[1;33m       \u001b[0mresult\u001b[0m \u001b[1;33m=\u001b[0m \u001b[0mmethod\u001b[0m\u001b[1;33m(\u001b[0m\u001b[0mself\u001b[0m\u001b[1;33m,\u001b[0m \u001b[1;33m*\u001b[0m\u001b[0margs\u001b[0m\u001b[1;33m,\u001b[0m \u001b[1;33m**\u001b[0m\u001b[0mkwargs\u001b[0m\u001b[1;33m)\u001b[0m\u001b[1;33m\u001b[0m\u001b[1;33m\u001b[0m\u001b[0m\n\u001b[0m\u001b[0;32m    518\u001b[0m     \u001b[1;32mfinally\u001b[0m\u001b[1;33m:\u001b[0m\u001b[1;33m\u001b[0m\u001b[1;33m\u001b[0m\u001b[0m\n\u001b[0;32m    519\u001b[0m       \u001b[0mself\u001b[0m\u001b[1;33m.\u001b[0m\u001b[0m_self_setattr_tracking\u001b[0m \u001b[1;33m=\u001b[0m \u001b[0mprevious_value\u001b[0m  \u001b[1;31m# pylint: disable=protected-access\u001b[0m\u001b[1;33m\u001b[0m\u001b[1;33m\u001b[0m\u001b[0m\n",
      "\u001b[1;32mc:\\users\\kali\\appdata\\local\\programs\\python\\python37\\lib\\site-packages\\tensorflow\\python\\keras\\engine\\sequential.py\u001b[0m in \u001b[0;36madd\u001b[1;34m(self, layer)\u001b[0m\n\u001b[0;32m    206\u001b[0m           \u001b[1;31m# and create the node connecting the current layer\u001b[0m\u001b[1;33m\u001b[0m\u001b[1;33m\u001b[0m\u001b[1;33m\u001b[0m\u001b[0m\n\u001b[0;32m    207\u001b[0m           \u001b[1;31m# to the input layer we just created.\u001b[0m\u001b[1;33m\u001b[0m\u001b[1;33m\u001b[0m\u001b[1;33m\u001b[0m\u001b[0m\n\u001b[1;32m--> 208\u001b[1;33m           \u001b[0mlayer\u001b[0m\u001b[1;33m(\u001b[0m\u001b[0mx\u001b[0m\u001b[1;33m)\u001b[0m\u001b[1;33m\u001b[0m\u001b[1;33m\u001b[0m\u001b[0m\n\u001b[0m\u001b[0;32m    209\u001b[0m           \u001b[0mset_inputs\u001b[0m \u001b[1;33m=\u001b[0m \u001b[1;32mTrue\u001b[0m\u001b[1;33m\u001b[0m\u001b[1;33m\u001b[0m\u001b[0m\n\u001b[0;32m    210\u001b[0m \u001b[1;33m\u001b[0m\u001b[0m\n",
      "\u001b[1;32mc:\\users\\kali\\appdata\\local\\programs\\python\\python37\\lib\\site-packages\\tensorflow\\python\\keras\\layers\\recurrent.py\u001b[0m in \u001b[0;36m__call__\u001b[1;34m(self, inputs, initial_state, constants, **kwargs)\u001b[0m\n\u001b[0;32m    658\u001b[0m \u001b[1;33m\u001b[0m\u001b[0m\n\u001b[0;32m    659\u001b[0m     \u001b[1;32mif\u001b[0m \u001b[0minitial_state\u001b[0m \u001b[1;32mis\u001b[0m \u001b[1;32mNone\u001b[0m \u001b[1;32mand\u001b[0m \u001b[0mconstants\u001b[0m \u001b[1;32mis\u001b[0m \u001b[1;32mNone\u001b[0m\u001b[1;33m:\u001b[0m\u001b[1;33m\u001b[0m\u001b[1;33m\u001b[0m\u001b[0m\n\u001b[1;32m--> 660\u001b[1;33m       \u001b[1;32mreturn\u001b[0m \u001b[0msuper\u001b[0m\u001b[1;33m(\u001b[0m\u001b[0mRNN\u001b[0m\u001b[1;33m,\u001b[0m \u001b[0mself\u001b[0m\u001b[1;33m)\u001b[0m\u001b[1;33m.\u001b[0m\u001b[0m__call__\u001b[0m\u001b[1;33m(\u001b[0m\u001b[0minputs\u001b[0m\u001b[1;33m,\u001b[0m \u001b[1;33m**\u001b[0m\u001b[0mkwargs\u001b[0m\u001b[1;33m)\u001b[0m\u001b[1;33m\u001b[0m\u001b[1;33m\u001b[0m\u001b[0m\n\u001b[0m\u001b[0;32m    661\u001b[0m \u001b[1;33m\u001b[0m\u001b[0m\n\u001b[0;32m    662\u001b[0m     \u001b[1;31m# If any of `initial_state` or `constants` are specified and are Keras\u001b[0m\u001b[1;33m\u001b[0m\u001b[1;33m\u001b[0m\u001b[1;33m\u001b[0m\u001b[0m\n",
      "\u001b[1;32mc:\\users\\kali\\appdata\\local\\programs\\python\\python37\\lib\\site-packages\\tensorflow\\python\\keras\\engine\\base_layer.py\u001b[0m in \u001b[0;36m__call__\u001b[1;34m(self, *args, **kwargs)\u001b[0m\n\u001b[0;32m    950\u001b[0m     \u001b[1;32mif\u001b[0m \u001b[0m_in_functional_construction_mode\u001b[0m\u001b[1;33m(\u001b[0m\u001b[0mself\u001b[0m\u001b[1;33m,\u001b[0m \u001b[0minputs\u001b[0m\u001b[1;33m,\u001b[0m \u001b[0margs\u001b[0m\u001b[1;33m,\u001b[0m \u001b[0mkwargs\u001b[0m\u001b[1;33m,\u001b[0m \u001b[0minput_list\u001b[0m\u001b[1;33m)\u001b[0m\u001b[1;33m:\u001b[0m\u001b[1;33m\u001b[0m\u001b[1;33m\u001b[0m\u001b[0m\n\u001b[0;32m    951\u001b[0m       return self._functional_construction_call(inputs, args, kwargs,\n\u001b[1;32m--> 952\u001b[1;33m                                                 input_list)\n\u001b[0m\u001b[0;32m    953\u001b[0m \u001b[1;33m\u001b[0m\u001b[0m\n\u001b[0;32m    954\u001b[0m     \u001b[1;31m# Maintains info about the `Layer.call` stack.\u001b[0m\u001b[1;33m\u001b[0m\u001b[1;33m\u001b[0m\u001b[1;33m\u001b[0m\u001b[0m\n",
      "\u001b[1;32mc:\\users\\kali\\appdata\\local\\programs\\python\\python37\\lib\\site-packages\\tensorflow\\python\\keras\\engine\\base_layer.py\u001b[0m in \u001b[0;36m_functional_construction_call\u001b[1;34m(self, inputs, args, kwargs, input_list)\u001b[0m\n\u001b[0;32m   1089\u001b[0m         \u001b[1;31m# Check input assumptions set after layer building, e.g. input shape.\u001b[0m\u001b[1;33m\u001b[0m\u001b[1;33m\u001b[0m\u001b[1;33m\u001b[0m\u001b[0m\n\u001b[0;32m   1090\u001b[0m         outputs = self._keras_tensor_symbolic_call(\n\u001b[1;32m-> 1091\u001b[1;33m             inputs, input_masks, args, kwargs)\n\u001b[0m\u001b[0;32m   1092\u001b[0m \u001b[1;33m\u001b[0m\u001b[0m\n\u001b[0;32m   1093\u001b[0m         \u001b[1;32mif\u001b[0m \u001b[0moutputs\u001b[0m \u001b[1;32mis\u001b[0m \u001b[1;32mNone\u001b[0m\u001b[1;33m:\u001b[0m\u001b[1;33m\u001b[0m\u001b[1;33m\u001b[0m\u001b[0m\n",
      "\u001b[1;32mc:\\users\\kali\\appdata\\local\\programs\\python\\python37\\lib\\site-packages\\tensorflow\\python\\keras\\engine\\base_layer.py\u001b[0m in \u001b[0;36m_keras_tensor_symbolic_call\u001b[1;34m(self, inputs, input_masks, args, kwargs)\u001b[0m\n\u001b[0;32m    820\u001b[0m       \u001b[1;32mreturn\u001b[0m \u001b[0mnest\u001b[0m\u001b[1;33m.\u001b[0m\u001b[0mmap_structure\u001b[0m\u001b[1;33m(\u001b[0m\u001b[0mkeras_tensor\u001b[0m\u001b[1;33m.\u001b[0m\u001b[0mKerasTensor\u001b[0m\u001b[1;33m,\u001b[0m \u001b[0moutput_signature\u001b[0m\u001b[1;33m)\u001b[0m\u001b[1;33m\u001b[0m\u001b[1;33m\u001b[0m\u001b[0m\n\u001b[0;32m    821\u001b[0m     \u001b[1;32melse\u001b[0m\u001b[1;33m:\u001b[0m\u001b[1;33m\u001b[0m\u001b[1;33m\u001b[0m\u001b[0m\n\u001b[1;32m--> 822\u001b[1;33m       \u001b[1;32mreturn\u001b[0m \u001b[0mself\u001b[0m\u001b[1;33m.\u001b[0m\u001b[0m_infer_output_signature\u001b[0m\u001b[1;33m(\u001b[0m\u001b[0minputs\u001b[0m\u001b[1;33m,\u001b[0m \u001b[0margs\u001b[0m\u001b[1;33m,\u001b[0m \u001b[0mkwargs\u001b[0m\u001b[1;33m,\u001b[0m \u001b[0minput_masks\u001b[0m\u001b[1;33m)\u001b[0m\u001b[1;33m\u001b[0m\u001b[1;33m\u001b[0m\u001b[0m\n\u001b[0m\u001b[0;32m    823\u001b[0m \u001b[1;33m\u001b[0m\u001b[0m\n\u001b[0;32m    824\u001b[0m   \u001b[1;32mdef\u001b[0m \u001b[0m_infer_output_signature\u001b[0m\u001b[1;33m(\u001b[0m\u001b[0mself\u001b[0m\u001b[1;33m,\u001b[0m \u001b[0minputs\u001b[0m\u001b[1;33m,\u001b[0m \u001b[0margs\u001b[0m\u001b[1;33m,\u001b[0m \u001b[0mkwargs\u001b[0m\u001b[1;33m,\u001b[0m \u001b[0minput_masks\u001b[0m\u001b[1;33m)\u001b[0m\u001b[1;33m:\u001b[0m\u001b[1;33m\u001b[0m\u001b[1;33m\u001b[0m\u001b[0m\n",
      "\u001b[1;32mc:\\users\\kali\\appdata\\local\\programs\\python\\python37\\lib\\site-packages\\tensorflow\\python\\keras\\engine\\base_layer.py\u001b[0m in \u001b[0;36m_infer_output_signature\u001b[1;34m(self, inputs, args, kwargs, input_masks)\u001b[0m\n\u001b[0;32m    861\u001b[0m           \u001b[1;31m# TODO(kaftan): do we maybe_build here, or have we already done it?\u001b[0m\u001b[1;33m\u001b[0m\u001b[1;33m\u001b[0m\u001b[1;33m\u001b[0m\u001b[0m\n\u001b[0;32m    862\u001b[0m           \u001b[0mself\u001b[0m\u001b[1;33m.\u001b[0m\u001b[0m_maybe_build\u001b[0m\u001b[1;33m(\u001b[0m\u001b[0minputs\u001b[0m\u001b[1;33m)\u001b[0m\u001b[1;33m\u001b[0m\u001b[1;33m\u001b[0m\u001b[0m\n\u001b[1;32m--> 863\u001b[1;33m           \u001b[0moutputs\u001b[0m \u001b[1;33m=\u001b[0m \u001b[0mcall_fn\u001b[0m\u001b[1;33m(\u001b[0m\u001b[0minputs\u001b[0m\u001b[1;33m,\u001b[0m \u001b[1;33m*\u001b[0m\u001b[0margs\u001b[0m\u001b[1;33m,\u001b[0m \u001b[1;33m**\u001b[0m\u001b[0mkwargs\u001b[0m\u001b[1;33m)\u001b[0m\u001b[1;33m\u001b[0m\u001b[1;33m\u001b[0m\u001b[0m\n\u001b[0m\u001b[0;32m    864\u001b[0m \u001b[1;33m\u001b[0m\u001b[0m\n\u001b[0;32m    865\u001b[0m         \u001b[0mself\u001b[0m\u001b[1;33m.\u001b[0m\u001b[0m_handle_activity_regularization\u001b[0m\u001b[1;33m(\u001b[0m\u001b[0minputs\u001b[0m\u001b[1;33m,\u001b[0m \u001b[0moutputs\u001b[0m\u001b[1;33m)\u001b[0m\u001b[1;33m\u001b[0m\u001b[1;33m\u001b[0m\u001b[0m\n",
      "\u001b[1;32mc:\\users\\kali\\appdata\\local\\programs\\python\\python37\\lib\\site-packages\\tensorflow\\python\\keras\\layers\\recurrent_v2.py\u001b[0m in \u001b[0;36mcall\u001b[1;34m(self, inputs, mask, training, initial_state)\u001b[0m\n\u001b[0;32m   1155\u001b[0m \u001b[1;33m\u001b[0m\u001b[0m\n\u001b[0;32m   1156\u001b[0m     \u001b[1;31m# LSTM does not support constants. Ignore it during process.\u001b[0m\u001b[1;33m\u001b[0m\u001b[1;33m\u001b[0m\u001b[1;33m\u001b[0m\u001b[0m\n\u001b[1;32m-> 1157\u001b[1;33m     \u001b[0minputs\u001b[0m\u001b[1;33m,\u001b[0m \u001b[0minitial_state\u001b[0m\u001b[1;33m,\u001b[0m \u001b[0m_\u001b[0m \u001b[1;33m=\u001b[0m \u001b[0mself\u001b[0m\u001b[1;33m.\u001b[0m\u001b[0m_process_inputs\u001b[0m\u001b[1;33m(\u001b[0m\u001b[0minputs\u001b[0m\u001b[1;33m,\u001b[0m \u001b[0minitial_state\u001b[0m\u001b[1;33m,\u001b[0m \u001b[1;32mNone\u001b[0m\u001b[1;33m)\u001b[0m\u001b[1;33m\u001b[0m\u001b[1;33m\u001b[0m\u001b[0m\n\u001b[0m\u001b[0;32m   1158\u001b[0m \u001b[1;33m\u001b[0m\u001b[0m\n\u001b[0;32m   1159\u001b[0m     \u001b[1;32mif\u001b[0m \u001b[0misinstance\u001b[0m\u001b[1;33m(\u001b[0m\u001b[0mmask\u001b[0m\u001b[1;33m,\u001b[0m \u001b[0mlist\u001b[0m\u001b[1;33m)\u001b[0m\u001b[1;33m:\u001b[0m\u001b[1;33m\u001b[0m\u001b[1;33m\u001b[0m\u001b[0m\n",
      "\u001b[1;32mc:\\users\\kali\\appdata\\local\\programs\\python\\python37\\lib\\site-packages\\tensorflow\\python\\keras\\layers\\recurrent.py\u001b[0m in \u001b[0;36m_process_inputs\u001b[1;34m(self, inputs, initial_state, constants)\u001b[0m\n\u001b[0;32m    857\u001b[0m         \u001b[0minitial_state\u001b[0m \u001b[1;33m=\u001b[0m \u001b[0mself\u001b[0m\u001b[1;33m.\u001b[0m\u001b[0mstates\u001b[0m\u001b[1;33m\u001b[0m\u001b[1;33m\u001b[0m\u001b[0m\n\u001b[0;32m    858\u001b[0m     \u001b[1;32melif\u001b[0m \u001b[0minitial_state\u001b[0m \u001b[1;32mis\u001b[0m \u001b[1;32mNone\u001b[0m\u001b[1;33m:\u001b[0m\u001b[1;33m\u001b[0m\u001b[1;33m\u001b[0m\u001b[0m\n\u001b[1;32m--> 859\u001b[1;33m       \u001b[0minitial_state\u001b[0m \u001b[1;33m=\u001b[0m \u001b[0mself\u001b[0m\u001b[1;33m.\u001b[0m\u001b[0mget_initial_state\u001b[0m\u001b[1;33m(\u001b[0m\u001b[0minputs\u001b[0m\u001b[1;33m)\u001b[0m\u001b[1;33m\u001b[0m\u001b[1;33m\u001b[0m\u001b[0m\n\u001b[0m\u001b[0;32m    860\u001b[0m \u001b[1;33m\u001b[0m\u001b[0m\n\u001b[0;32m    861\u001b[0m     \u001b[1;32mif\u001b[0m \u001b[0mlen\u001b[0m\u001b[1;33m(\u001b[0m\u001b[0minitial_state\u001b[0m\u001b[1;33m)\u001b[0m \u001b[1;33m!=\u001b[0m \u001b[0mlen\u001b[0m\u001b[1;33m(\u001b[0m\u001b[0mself\u001b[0m\u001b[1;33m.\u001b[0m\u001b[0mstates\u001b[0m\u001b[1;33m)\u001b[0m\u001b[1;33m:\u001b[0m\u001b[1;33m\u001b[0m\u001b[1;33m\u001b[0m\u001b[0m\n",
      "\u001b[1;32mc:\\users\\kali\\appdata\\local\\programs\\python\\python37\\lib\\site-packages\\tensorflow\\python\\keras\\layers\\recurrent.py\u001b[0m in \u001b[0;36mget_initial_state\u001b[1;34m(self, inputs)\u001b[0m\n\u001b[0;32m    641\u001b[0m     \u001b[1;32mif\u001b[0m \u001b[0mget_initial_state_fn\u001b[0m\u001b[1;33m:\u001b[0m\u001b[1;33m\u001b[0m\u001b[1;33m\u001b[0m\u001b[0m\n\u001b[0;32m    642\u001b[0m       init_state = get_initial_state_fn(\n\u001b[1;32m--> 643\u001b[1;33m           inputs=None, batch_size=batch_size, dtype=dtype)\n\u001b[0m\u001b[0;32m    644\u001b[0m     \u001b[1;32melse\u001b[0m\u001b[1;33m:\u001b[0m\u001b[1;33m\u001b[0m\u001b[1;33m\u001b[0m\u001b[0m\n\u001b[0;32m    645\u001b[0m       init_state = _generate_zero_filled_state(batch_size, self.cell.state_size,\n",
      "\u001b[1;32mc:\\users\\kali\\appdata\\local\\programs\\python\\python37\\lib\\site-packages\\tensorflow\\python\\keras\\layers\\recurrent.py\u001b[0m in \u001b[0;36mget_initial_state\u001b[1;34m(self, inputs, batch_size, dtype)\u001b[0m\n\u001b[0;32m   2505\u001b[0m   \u001b[1;32mdef\u001b[0m \u001b[0mget_initial_state\u001b[0m\u001b[1;33m(\u001b[0m\u001b[0mself\u001b[0m\u001b[1;33m,\u001b[0m \u001b[0minputs\u001b[0m\u001b[1;33m=\u001b[0m\u001b[1;32mNone\u001b[0m\u001b[1;33m,\u001b[0m \u001b[0mbatch_size\u001b[0m\u001b[1;33m=\u001b[0m\u001b[1;32mNone\u001b[0m\u001b[1;33m,\u001b[0m \u001b[0mdtype\u001b[0m\u001b[1;33m=\u001b[0m\u001b[1;32mNone\u001b[0m\u001b[1;33m)\u001b[0m\u001b[1;33m:\u001b[0m\u001b[1;33m\u001b[0m\u001b[1;33m\u001b[0m\u001b[0m\n\u001b[0;32m   2506\u001b[0m     return list(_generate_zero_filled_state_for_cell(\n\u001b[1;32m-> 2507\u001b[1;33m         self, inputs, batch_size, dtype))\n\u001b[0m\u001b[0;32m   2508\u001b[0m \u001b[1;33m\u001b[0m\u001b[0m\n\u001b[0;32m   2509\u001b[0m \u001b[1;33m\u001b[0m\u001b[0m\n",
      "\u001b[1;32mc:\\users\\kali\\appdata\\local\\programs\\python\\python37\\lib\\site-packages\\tensorflow\\python\\keras\\layers\\recurrent.py\u001b[0m in \u001b[0;36m_generate_zero_filled_state_for_cell\u001b[1;34m(cell, inputs, batch_size, dtype)\u001b[0m\n\u001b[0;32m   2985\u001b[0m     \u001b[0mbatch_size\u001b[0m \u001b[1;33m=\u001b[0m \u001b[0marray_ops\u001b[0m\u001b[1;33m.\u001b[0m\u001b[0mshape\u001b[0m\u001b[1;33m(\u001b[0m\u001b[0minputs\u001b[0m\u001b[1;33m)\u001b[0m\u001b[1;33m[\u001b[0m\u001b[1;36m0\u001b[0m\u001b[1;33m]\u001b[0m\u001b[1;33m\u001b[0m\u001b[1;33m\u001b[0m\u001b[0m\n\u001b[0;32m   2986\u001b[0m     \u001b[0mdtype\u001b[0m \u001b[1;33m=\u001b[0m \u001b[0minputs\u001b[0m\u001b[1;33m.\u001b[0m\u001b[0mdtype\u001b[0m\u001b[1;33m\u001b[0m\u001b[1;33m\u001b[0m\u001b[0m\n\u001b[1;32m-> 2987\u001b[1;33m   \u001b[1;32mreturn\u001b[0m \u001b[0m_generate_zero_filled_state\u001b[0m\u001b[1;33m(\u001b[0m\u001b[0mbatch_size\u001b[0m\u001b[1;33m,\u001b[0m \u001b[0mcell\u001b[0m\u001b[1;33m.\u001b[0m\u001b[0mstate_size\u001b[0m\u001b[1;33m,\u001b[0m \u001b[0mdtype\u001b[0m\u001b[1;33m)\u001b[0m\u001b[1;33m\u001b[0m\u001b[1;33m\u001b[0m\u001b[0m\n\u001b[0m\u001b[0;32m   2988\u001b[0m \u001b[1;33m\u001b[0m\u001b[0m\n\u001b[0;32m   2989\u001b[0m \u001b[1;33m\u001b[0m\u001b[0m\n",
      "\u001b[1;32mc:\\users\\kali\\appdata\\local\\programs\\python\\python37\\lib\\site-packages\\tensorflow\\python\\keras\\layers\\recurrent.py\u001b[0m in \u001b[0;36m_generate_zero_filled_state\u001b[1;34m(batch_size_tensor, state_size, dtype)\u001b[0m\n\u001b[0;32m   3001\u001b[0m \u001b[1;33m\u001b[0m\u001b[0m\n\u001b[0;32m   3002\u001b[0m   \u001b[1;32mif\u001b[0m \u001b[0mnest\u001b[0m\u001b[1;33m.\u001b[0m\u001b[0mis_nested\u001b[0m\u001b[1;33m(\u001b[0m\u001b[0mstate_size\u001b[0m\u001b[1;33m)\u001b[0m\u001b[1;33m:\u001b[0m\u001b[1;33m\u001b[0m\u001b[1;33m\u001b[0m\u001b[0m\n\u001b[1;32m-> 3003\u001b[1;33m     \u001b[1;32mreturn\u001b[0m \u001b[0mnest\u001b[0m\u001b[1;33m.\u001b[0m\u001b[0mmap_structure\u001b[0m\u001b[1;33m(\u001b[0m\u001b[0mcreate_zeros\u001b[0m\u001b[1;33m,\u001b[0m \u001b[0mstate_size\u001b[0m\u001b[1;33m)\u001b[0m\u001b[1;33m\u001b[0m\u001b[1;33m\u001b[0m\u001b[0m\n\u001b[0m\u001b[0;32m   3004\u001b[0m   \u001b[1;32melse\u001b[0m\u001b[1;33m:\u001b[0m\u001b[1;33m\u001b[0m\u001b[1;33m\u001b[0m\u001b[0m\n\u001b[0;32m   3005\u001b[0m     \u001b[1;32mreturn\u001b[0m \u001b[0mcreate_zeros\u001b[0m\u001b[1;33m(\u001b[0m\u001b[0mstate_size\u001b[0m\u001b[1;33m)\u001b[0m\u001b[1;33m\u001b[0m\u001b[1;33m\u001b[0m\u001b[0m\n",
      "\u001b[1;32mc:\\users\\kali\\appdata\\local\\programs\\python\\python37\\lib\\site-packages\\tensorflow\\python\\util\\nest.py\u001b[0m in \u001b[0;36mmap_structure\u001b[1;34m(func, *structure, **kwargs)\u001b[0m\n\u001b[0;32m    657\u001b[0m \u001b[1;33m\u001b[0m\u001b[0m\n\u001b[0;32m    658\u001b[0m   return pack_sequence_as(\n\u001b[1;32m--> 659\u001b[1;33m       \u001b[0mstructure\u001b[0m\u001b[1;33m[\u001b[0m\u001b[1;36m0\u001b[0m\u001b[1;33m]\u001b[0m\u001b[1;33m,\u001b[0m \u001b[1;33m[\u001b[0m\u001b[0mfunc\u001b[0m\u001b[1;33m(\u001b[0m\u001b[1;33m*\u001b[0m\u001b[0mx\u001b[0m\u001b[1;33m)\u001b[0m \u001b[1;32mfor\u001b[0m \u001b[0mx\u001b[0m \u001b[1;32min\u001b[0m \u001b[0mentries\u001b[0m\u001b[1;33m]\u001b[0m\u001b[1;33m,\u001b[0m\u001b[1;33m\u001b[0m\u001b[1;33m\u001b[0m\u001b[0m\n\u001b[0m\u001b[0;32m    660\u001b[0m       expand_composites=expand_composites)\n\u001b[0;32m    661\u001b[0m \u001b[1;33m\u001b[0m\u001b[0m\n",
      "\u001b[1;32mc:\\users\\kali\\appdata\\local\\programs\\python\\python37\\lib\\site-packages\\tensorflow\\python\\util\\nest.py\u001b[0m in \u001b[0;36m<listcomp>\u001b[1;34m(.0)\u001b[0m\n\u001b[0;32m    657\u001b[0m \u001b[1;33m\u001b[0m\u001b[0m\n\u001b[0;32m    658\u001b[0m   return pack_sequence_as(\n\u001b[1;32m--> 659\u001b[1;33m       \u001b[0mstructure\u001b[0m\u001b[1;33m[\u001b[0m\u001b[1;36m0\u001b[0m\u001b[1;33m]\u001b[0m\u001b[1;33m,\u001b[0m \u001b[1;33m[\u001b[0m\u001b[0mfunc\u001b[0m\u001b[1;33m(\u001b[0m\u001b[1;33m*\u001b[0m\u001b[0mx\u001b[0m\u001b[1;33m)\u001b[0m \u001b[1;32mfor\u001b[0m \u001b[0mx\u001b[0m \u001b[1;32min\u001b[0m \u001b[0mentries\u001b[0m\u001b[1;33m]\u001b[0m\u001b[1;33m,\u001b[0m\u001b[1;33m\u001b[0m\u001b[1;33m\u001b[0m\u001b[0m\n\u001b[0m\u001b[0;32m    660\u001b[0m       expand_composites=expand_composites)\n\u001b[0;32m    661\u001b[0m \u001b[1;33m\u001b[0m\u001b[0m\n",
      "\u001b[1;32mc:\\users\\kali\\appdata\\local\\programs\\python\\python37\\lib\\site-packages\\tensorflow\\python\\keras\\layers\\recurrent.py\u001b[0m in \u001b[0;36mcreate_zeros\u001b[1;34m(unnested_state_size)\u001b[0m\n\u001b[0;32m   2998\u001b[0m     \u001b[0mflat_dims\u001b[0m \u001b[1;33m=\u001b[0m \u001b[0mtensor_shape\u001b[0m\u001b[1;33m.\u001b[0m\u001b[0mTensorShape\u001b[0m\u001b[1;33m(\u001b[0m\u001b[0munnested_state_size\u001b[0m\u001b[1;33m)\u001b[0m\u001b[1;33m.\u001b[0m\u001b[0mas_list\u001b[0m\u001b[1;33m(\u001b[0m\u001b[1;33m)\u001b[0m\u001b[1;33m\u001b[0m\u001b[1;33m\u001b[0m\u001b[0m\n\u001b[0;32m   2999\u001b[0m     \u001b[0minit_state_size\u001b[0m \u001b[1;33m=\u001b[0m \u001b[1;33m[\u001b[0m\u001b[0mbatch_size_tensor\u001b[0m\u001b[1;33m]\u001b[0m \u001b[1;33m+\u001b[0m \u001b[0mflat_dims\u001b[0m\u001b[1;33m\u001b[0m\u001b[1;33m\u001b[0m\u001b[0m\n\u001b[1;32m-> 3000\u001b[1;33m     \u001b[1;32mreturn\u001b[0m \u001b[0marray_ops\u001b[0m\u001b[1;33m.\u001b[0m\u001b[0mzeros\u001b[0m\u001b[1;33m(\u001b[0m\u001b[0minit_state_size\u001b[0m\u001b[1;33m,\u001b[0m \u001b[0mdtype\u001b[0m\u001b[1;33m=\u001b[0m\u001b[0mdtype\u001b[0m\u001b[1;33m)\u001b[0m\u001b[1;33m\u001b[0m\u001b[1;33m\u001b[0m\u001b[0m\n\u001b[0m\u001b[0;32m   3001\u001b[0m \u001b[1;33m\u001b[0m\u001b[0m\n\u001b[0;32m   3002\u001b[0m   \u001b[1;32mif\u001b[0m \u001b[0mnest\u001b[0m\u001b[1;33m.\u001b[0m\u001b[0mis_nested\u001b[0m\u001b[1;33m(\u001b[0m\u001b[0mstate_size\u001b[0m\u001b[1;33m)\u001b[0m\u001b[1;33m:\u001b[0m\u001b[1;33m\u001b[0m\u001b[1;33m\u001b[0m\u001b[0m\n",
      "\u001b[1;32mc:\\users\\kali\\appdata\\local\\programs\\python\\python37\\lib\\site-packages\\tensorflow\\python\\util\\dispatch.py\u001b[0m in \u001b[0;36mwrapper\u001b[1;34m(*args, **kwargs)\u001b[0m\n\u001b[0;32m    199\u001b[0m     \u001b[1;34m\"\"\"Call target, and fall back on dispatchers if there is a TypeError.\"\"\"\u001b[0m\u001b[1;33m\u001b[0m\u001b[1;33m\u001b[0m\u001b[0m\n\u001b[0;32m    200\u001b[0m     \u001b[1;32mtry\u001b[0m\u001b[1;33m:\u001b[0m\u001b[1;33m\u001b[0m\u001b[1;33m\u001b[0m\u001b[0m\n\u001b[1;32m--> 201\u001b[1;33m       \u001b[1;32mreturn\u001b[0m \u001b[0mtarget\u001b[0m\u001b[1;33m(\u001b[0m\u001b[1;33m*\u001b[0m\u001b[0margs\u001b[0m\u001b[1;33m,\u001b[0m \u001b[1;33m**\u001b[0m\u001b[0mkwargs\u001b[0m\u001b[1;33m)\u001b[0m\u001b[1;33m\u001b[0m\u001b[1;33m\u001b[0m\u001b[0m\n\u001b[0m\u001b[0;32m    202\u001b[0m     \u001b[1;32mexcept\u001b[0m \u001b[1;33m(\u001b[0m\u001b[0mTypeError\u001b[0m\u001b[1;33m,\u001b[0m \u001b[0mValueError\u001b[0m\u001b[1;33m)\u001b[0m\u001b[1;33m:\u001b[0m\u001b[1;33m\u001b[0m\u001b[1;33m\u001b[0m\u001b[0m\n\u001b[0;32m    203\u001b[0m       \u001b[1;31m# Note: convert_to_eager_tensor currently raises a ValueError, not a\u001b[0m\u001b[1;33m\u001b[0m\u001b[1;33m\u001b[0m\u001b[1;33m\u001b[0m\u001b[0m\n",
      "\u001b[1;32mc:\\users\\kali\\appdata\\local\\programs\\python\\python37\\lib\\site-packages\\tensorflow\\python\\ops\\array_ops.py\u001b[0m in \u001b[0;36mwrapped\u001b[1;34m(*args, **kwargs)\u001b[0m\n\u001b[0;32m   2817\u001b[0m \u001b[1;33m\u001b[0m\u001b[0m\n\u001b[0;32m   2818\u001b[0m   \u001b[1;32mdef\u001b[0m \u001b[0mwrapped\u001b[0m\u001b[1;33m(\u001b[0m\u001b[1;33m*\u001b[0m\u001b[0margs\u001b[0m\u001b[1;33m,\u001b[0m \u001b[1;33m**\u001b[0m\u001b[0mkwargs\u001b[0m\u001b[1;33m)\u001b[0m\u001b[1;33m:\u001b[0m\u001b[1;33m\u001b[0m\u001b[1;33m\u001b[0m\u001b[0m\n\u001b[1;32m-> 2819\u001b[1;33m     \u001b[0mtensor\u001b[0m \u001b[1;33m=\u001b[0m \u001b[0mfun\u001b[0m\u001b[1;33m(\u001b[0m\u001b[1;33m*\u001b[0m\u001b[0margs\u001b[0m\u001b[1;33m,\u001b[0m \u001b[1;33m**\u001b[0m\u001b[0mkwargs\u001b[0m\u001b[1;33m)\u001b[0m\u001b[1;33m\u001b[0m\u001b[1;33m\u001b[0m\u001b[0m\n\u001b[0m\u001b[0;32m   2820\u001b[0m     \u001b[0mtensor\u001b[0m\u001b[1;33m.\u001b[0m\u001b[0m_is_zeros_tensor\u001b[0m \u001b[1;33m=\u001b[0m \u001b[1;32mTrue\u001b[0m\u001b[1;33m\u001b[0m\u001b[1;33m\u001b[0m\u001b[0m\n\u001b[0;32m   2821\u001b[0m     \u001b[1;32mreturn\u001b[0m \u001b[0mtensor\u001b[0m\u001b[1;33m\u001b[0m\u001b[1;33m\u001b[0m\u001b[0m\n",
      "\u001b[1;32mc:\\users\\kali\\appdata\\local\\programs\\python\\python37\\lib\\site-packages\\tensorflow\\python\\ops\\array_ops.py\u001b[0m in \u001b[0;36mzeros\u001b[1;34m(shape, dtype, name)\u001b[0m\n\u001b[0;32m   2866\u001b[0m           \u001b[1;31m# Create a constant if it won't be very big. Otherwise create a fill\u001b[0m\u001b[1;33m\u001b[0m\u001b[1;33m\u001b[0m\u001b[1;33m\u001b[0m\u001b[0m\n\u001b[0;32m   2867\u001b[0m           \u001b[1;31m# op to prevent serialized GraphDefs from becoming too large.\u001b[0m\u001b[1;33m\u001b[0m\u001b[1;33m\u001b[0m\u001b[1;33m\u001b[0m\u001b[0m\n\u001b[1;32m-> 2868\u001b[1;33m           \u001b[0moutput\u001b[0m \u001b[1;33m=\u001b[0m \u001b[0m_constant_if_small\u001b[0m\u001b[1;33m(\u001b[0m\u001b[0mzero\u001b[0m\u001b[1;33m,\u001b[0m \u001b[0mshape\u001b[0m\u001b[1;33m,\u001b[0m \u001b[0mdtype\u001b[0m\u001b[1;33m,\u001b[0m \u001b[0mname\u001b[0m\u001b[1;33m)\u001b[0m\u001b[1;33m\u001b[0m\u001b[1;33m\u001b[0m\u001b[0m\n\u001b[0m\u001b[0;32m   2869\u001b[0m           \u001b[1;32mif\u001b[0m \u001b[0moutput\u001b[0m \u001b[1;32mis\u001b[0m \u001b[1;32mnot\u001b[0m \u001b[1;32mNone\u001b[0m\u001b[1;33m:\u001b[0m\u001b[1;33m\u001b[0m\u001b[1;33m\u001b[0m\u001b[0m\n\u001b[0;32m   2870\u001b[0m             \u001b[1;32mreturn\u001b[0m \u001b[0moutput\u001b[0m\u001b[1;33m\u001b[0m\u001b[1;33m\u001b[0m\u001b[0m\n",
      "\u001b[1;32mc:\\users\\kali\\appdata\\local\\programs\\python\\python37\\lib\\site-packages\\tensorflow\\python\\ops\\array_ops.py\u001b[0m in \u001b[0;36m_constant_if_small\u001b[1;34m(value, shape, dtype, name)\u001b[0m\n\u001b[0;32m   2802\u001b[0m \u001b[1;32mdef\u001b[0m \u001b[0m_constant_if_small\u001b[0m\u001b[1;33m(\u001b[0m\u001b[0mvalue\u001b[0m\u001b[1;33m,\u001b[0m \u001b[0mshape\u001b[0m\u001b[1;33m,\u001b[0m \u001b[0mdtype\u001b[0m\u001b[1;33m,\u001b[0m \u001b[0mname\u001b[0m\u001b[1;33m)\u001b[0m\u001b[1;33m:\u001b[0m\u001b[1;33m\u001b[0m\u001b[1;33m\u001b[0m\u001b[0m\n\u001b[0;32m   2803\u001b[0m   \u001b[1;32mtry\u001b[0m\u001b[1;33m:\u001b[0m\u001b[1;33m\u001b[0m\u001b[1;33m\u001b[0m\u001b[0m\n\u001b[1;32m-> 2804\u001b[1;33m     \u001b[1;32mif\u001b[0m \u001b[0mnp\u001b[0m\u001b[1;33m.\u001b[0m\u001b[0mprod\u001b[0m\u001b[1;33m(\u001b[0m\u001b[0mshape\u001b[0m\u001b[1;33m)\u001b[0m \u001b[1;33m<\u001b[0m \u001b[1;36m1000\u001b[0m\u001b[1;33m:\u001b[0m\u001b[1;33m\u001b[0m\u001b[1;33m\u001b[0m\u001b[0m\n\u001b[0m\u001b[0;32m   2805\u001b[0m       \u001b[1;32mreturn\u001b[0m \u001b[0mconstant\u001b[0m\u001b[1;33m(\u001b[0m\u001b[0mvalue\u001b[0m\u001b[1;33m,\u001b[0m \u001b[0mshape\u001b[0m\u001b[1;33m=\u001b[0m\u001b[0mshape\u001b[0m\u001b[1;33m,\u001b[0m \u001b[0mdtype\u001b[0m\u001b[1;33m=\u001b[0m\u001b[0mdtype\u001b[0m\u001b[1;33m,\u001b[0m \u001b[0mname\u001b[0m\u001b[1;33m=\u001b[0m\u001b[0mname\u001b[0m\u001b[1;33m)\u001b[0m\u001b[1;33m\u001b[0m\u001b[1;33m\u001b[0m\u001b[0m\n\u001b[0;32m   2806\u001b[0m   \u001b[1;32mexcept\u001b[0m \u001b[0mTypeError\u001b[0m\u001b[1;33m:\u001b[0m\u001b[1;33m\u001b[0m\u001b[1;33m\u001b[0m\u001b[0m\n",
      "\u001b[1;32m<__array_function__ internals>\u001b[0m in \u001b[0;36mprod\u001b[1;34m(*args, **kwargs)\u001b[0m\n",
      "\u001b[1;32mc:\\users\\kali\\appdata\\local\\programs\\python\\python37\\lib\\site-packages\\numpy\\core\\fromnumeric.py\u001b[0m in \u001b[0;36mprod\u001b[1;34m(a, axis, dtype, out, keepdims, initial, where)\u001b[0m\n\u001b[0;32m   3029\u001b[0m \u001b[1;33m\u001b[0m\u001b[0m\n\u001b[0;32m   3030\u001b[0m     \u001b[0mReturns\u001b[0m\u001b[1;33m\u001b[0m\u001b[1;33m\u001b[0m\u001b[0m\n\u001b[1;32m-> 3031\u001b[1;33m     \u001b[1;33m-\u001b[0m\u001b[1;33m-\u001b[0m\u001b[1;33m-\u001b[0m\u001b[1;33m-\u001b[0m\u001b[1;33m-\u001b[0m\u001b[1;33m-\u001b[0m\u001b[1;33m-\u001b[0m\u001b[1;33m\u001b[0m\u001b[1;33m\u001b[0m\u001b[0m\n\u001b[0m\u001b[0;32m   3032\u001b[0m     \u001b[0mcumprod\u001b[0m \u001b[1;33m:\u001b[0m \u001b[0mndarray\u001b[0m\u001b[1;33m\u001b[0m\u001b[1;33m\u001b[0m\u001b[0m\n\u001b[0;32m   3033\u001b[0m         \u001b[0mA\u001b[0m \u001b[0mnew\u001b[0m \u001b[0marray\u001b[0m \u001b[0mholding\u001b[0m \u001b[0mthe\u001b[0m \u001b[0mresult\u001b[0m \u001b[1;32mis\u001b[0m \u001b[0mreturned\u001b[0m \u001b[0munless\u001b[0m\u001b[0;31m \u001b[0m\u001b[0;31m`\u001b[0m\u001b[0mout\u001b[0m\u001b[0;31m`\u001b[0m \u001b[1;32mis\u001b[0m\u001b[1;33m\u001b[0m\u001b[1;33m\u001b[0m\u001b[0m\n",
      "\u001b[1;32mc:\\users\\kali\\appdata\\local\\programs\\python\\python37\\lib\\site-packages\\numpy\\core\\fromnumeric.py\u001b[0m in \u001b[0;36m_wrapreduction\u001b[1;34m(obj, ufunc, method, axis, dtype, out, **kwargs)\u001b[0m\n\u001b[0;32m     85\u001b[0m                 \u001b[1;32mreturn\u001b[0m \u001b[0mreduction\u001b[0m\u001b[1;33m(\u001b[0m\u001b[0maxis\u001b[0m\u001b[1;33m=\u001b[0m\u001b[0maxis\u001b[0m\u001b[1;33m,\u001b[0m \u001b[0mout\u001b[0m\u001b[1;33m=\u001b[0m\u001b[0mout\u001b[0m\u001b[1;33m,\u001b[0m \u001b[1;33m**\u001b[0m\u001b[0mpasskwargs\u001b[0m\u001b[1;33m)\u001b[0m\u001b[1;33m\u001b[0m\u001b[1;33m\u001b[0m\u001b[0m\n\u001b[0;32m     86\u001b[0m \u001b[1;33m\u001b[0m\u001b[0m\n\u001b[1;32m---> 87\u001b[1;33m     \u001b[1;32mreturn\u001b[0m \u001b[0mufunc\u001b[0m\u001b[1;33m.\u001b[0m\u001b[0mreduce\u001b[0m\u001b[1;33m(\u001b[0m\u001b[0mobj\u001b[0m\u001b[1;33m,\u001b[0m \u001b[0maxis\u001b[0m\u001b[1;33m,\u001b[0m \u001b[0mdtype\u001b[0m\u001b[1;33m,\u001b[0m \u001b[0mout\u001b[0m\u001b[1;33m,\u001b[0m \u001b[1;33m**\u001b[0m\u001b[0mpasskwargs\u001b[0m\u001b[1;33m)\u001b[0m\u001b[1;33m\u001b[0m\u001b[1;33m\u001b[0m\u001b[0m\n\u001b[0m\u001b[0;32m     88\u001b[0m \u001b[1;33m\u001b[0m\u001b[0m\n\u001b[0;32m     89\u001b[0m \u001b[1;33m\u001b[0m\u001b[0m\n",
      "\u001b[1;32mc:\\users\\kali\\appdata\\local\\programs\\python\\python37\\lib\\site-packages\\tensorflow\\python\\framework\\ops.py\u001b[0m in \u001b[0;36m__array__\u001b[1;34m(self)\u001b[0m\n\u001b[0;32m    853\u001b[0m         \u001b[1;34m\"Cannot convert a symbolic Tensor ({}) to a numpy array.\"\u001b[0m\u001b[1;33m\u001b[0m\u001b[1;33m\u001b[0m\u001b[0m\n\u001b[0;32m    854\u001b[0m         \u001b[1;34m\" This error may indicate that you're trying to pass a Tensor to\"\u001b[0m\u001b[1;33m\u001b[0m\u001b[1;33m\u001b[0m\u001b[0m\n\u001b[1;32m--> 855\u001b[1;33m         \" a NumPy call, which is not supported\".format(self.name))\n\u001b[0m\u001b[0;32m    856\u001b[0m \u001b[1;33m\u001b[0m\u001b[0m\n\u001b[0;32m    857\u001b[0m   \u001b[1;32mdef\u001b[0m \u001b[0m__len__\u001b[0m\u001b[1;33m(\u001b[0m\u001b[0mself\u001b[0m\u001b[1;33m)\u001b[0m\u001b[1;33m:\u001b[0m\u001b[1;33m\u001b[0m\u001b[1;33m\u001b[0m\u001b[0m\n",
      "\u001b[1;31mNotImplementedError\u001b[0m: Cannot convert a symbolic Tensor (lstm_3/strided_slice:0) to a numpy array. This error may indicate that you're trying to pass a Tensor to a NumPy call, which is not supported"
     ]
    }
   ],
   "source": [
    "# Declare the LSTM model architecture \n",
    "model = Sequential()\n",
    "\n",
    "# Add layers , input shape expected is (number of timesteps, number of features)\n",
    "model.add(LSTM(75, return_sequences=True, input_shape=(x_train.shape[1], 33)))\n",
    "model.add(Dropout(0.2))\n",
    "\n",
    "model.add(LSTM(50, return_sequences=False))\n",
    "model.add(Dropout(0.2))\n",
    "\n",
    "model.add(Dense(25))\n",
    "model.add(Dropout(0.2))\n",
    "\n",
    "model.add(Dense(5))"
   ]
  },
  {
   "cell_type": "code",
   "execution_count": null,
   "metadata": {
    "colab": {},
    "colab_type": "code",
    "id": "y7ACjXteIOYz"
   },
   "outputs": [],
   "source": [
    "# Compile Model \n",
    "model.compile(optimizer='adam', loss='mean_squared_error')"
   ]
  },
  {
   "cell_type": "code",
   "execution_count": 118,
   "metadata": {
    "colab": {
     "base_uri": "https://localhost:8080/",
     "height": 1000
    },
    "colab_type": "code",
    "id": "caO-SaAWIQ7h",
    "outputId": "7bd58222-9765-4bbe-9109-d96fd716b8e2"
   },
   "outputs": [
    {
     "name": "stdout",
     "output_type": "stream",
     "text": [
      "Epoch 1/100\n",
      "36/36 [==============================] - 1s 21ms/step - loss: 0.0312\n",
      "Epoch 2/100\n",
      "36/36 [==============================] - 1s 22ms/step - loss: 0.0068\n",
      "Epoch 3/100\n",
      "36/36 [==============================] - 1s 23ms/step - loss: 0.0036\n",
      "Epoch 4/100\n",
      "36/36 [==============================] - 1s 22ms/step - loss: 0.0024\n",
      "Epoch 5/100\n",
      "36/36 [==============================] - 1s 23ms/step - loss: 0.0019\n",
      "Epoch 6/100\n",
      "36/36 [==============================] - 1s 23ms/step - loss: 0.0013\n",
      "Epoch 7/100\n",
      "36/36 [==============================] - 1s 23ms/step - loss: 9.2413e-04\n",
      "Epoch 8/100\n",
      "36/36 [==============================] - 1s 23ms/step - loss: 8.3363e-04\n",
      "Epoch 9/100\n",
      "36/36 [==============================] - 1s 22ms/step - loss: 6.8969e-04\n",
      "Epoch 10/100\n",
      "36/36 [==============================] - 1s 22ms/step - loss: 6.2224e-04\n",
      "Epoch 11/100\n",
      "36/36 [==============================] - 1s 24ms/step - loss: 5.3550e-04\n",
      "Epoch 12/100\n",
      "36/36 [==============================] - 1s 23ms/step - loss: 4.2802e-04\n",
      "Epoch 13/100\n",
      "36/36 [==============================] - 1s 24ms/step - loss: 3.9199e-04\n",
      "Epoch 14/100\n",
      "36/36 [==============================] - 1s 23ms/step - loss: 3.0657e-04\n",
      "Epoch 15/100\n",
      "36/36 [==============================] - 1s 23ms/step - loss: 3.4049e-04\n",
      "Epoch 16/100\n",
      "36/36 [==============================] - 1s 24ms/step - loss: 3.1981e-04\n",
      "Epoch 17/100\n",
      "36/36 [==============================] - 1s 24ms/step - loss: 2.7502e-04\n",
      "Epoch 18/100\n",
      "36/36 [==============================] - 1s 23ms/step - loss: 2.9660e-04\n",
      "Epoch 19/100\n",
      "36/36 [==============================] - 1s 25ms/step - loss: 3.3282e-04\n",
      "Epoch 20/100\n",
      "36/36 [==============================] - 1s 25ms/step - loss: 3.1394e-04\n",
      "Epoch 21/100\n",
      "36/36 [==============================] - 1s 24ms/step - loss: 2.5883e-04\n",
      "Epoch 22/100\n",
      "36/36 [==============================] - 1s 25ms/step - loss: 2.2391e-04\n",
      "Epoch 23/100\n",
      "36/36 [==============================] - 1s 25ms/step - loss: 2.5126e-04\n",
      "Epoch 24/100\n",
      "36/36 [==============================] - 1s 24ms/step - loss: 1.9892e-04\n",
      "Epoch 25/100\n",
      "36/36 [==============================] - 1s 24ms/step - loss: 2.2003e-04\n",
      "Epoch 26/100\n",
      "36/36 [==============================] - 1s 24ms/step - loss: 1.8866e-04\n",
      "Epoch 27/100\n",
      "36/36 [==============================] - 1s 23ms/step - loss: 1.8251e-04\n",
      "Epoch 28/100\n",
      "36/36 [==============================] - 1s 24ms/step - loss: 2.2455e-04\n",
      "Epoch 29/100\n",
      "36/36 [==============================] - 1s 23ms/step - loss: 2.4219e-04\n",
      "Epoch 30/100\n",
      "36/36 [==============================] - 1s 24ms/step - loss: 1.6886e-04\n",
      "Epoch 31/100\n",
      "36/36 [==============================] - 1s 22ms/step - loss: 1.6802e-04\n",
      "Epoch 32/100\n",
      "36/36 [==============================] - 1s 24ms/step - loss: 2.0485e-04\n",
      "Epoch 33/100\n",
      "36/36 [==============================] - 1s 24ms/step - loss: 1.6334e-04\n",
      "Epoch 34/100\n",
      "36/36 [==============================] - 1s 24ms/step - loss: 2.1724e-04\n",
      "Epoch 35/100\n",
      "36/36 [==============================] - 1s 24ms/step - loss: 2.0777e-04\n",
      "Epoch 36/100\n",
      "36/36 [==============================] - 1s 23ms/step - loss: 2.3181e-04\n",
      "Epoch 37/100\n",
      "36/36 [==============================] - 1s 23ms/step - loss: 1.5714e-04\n",
      "Epoch 38/100\n",
      "36/36 [==============================] - 1s 24ms/step - loss: 1.4518e-04\n",
      "Epoch 39/100\n",
      "36/36 [==============================] - 1s 23ms/step - loss: 1.3709e-04\n",
      "Epoch 40/100\n",
      "36/36 [==============================] - 1s 23ms/step - loss: 1.2240e-04\n",
      "Epoch 41/100\n",
      "36/36 [==============================] - 1s 24ms/step - loss: 1.4805e-04\n",
      "Epoch 42/100\n",
      "36/36 [==============================] - 1s 23ms/step - loss: 1.5236e-04\n",
      "Epoch 43/100\n",
      "36/36 [==============================] - 1s 23ms/step - loss: 1.5332e-04\n",
      "Epoch 44/100\n",
      "36/36 [==============================] - 1s 23ms/step - loss: 1.8778e-04\n",
      "Epoch 45/100\n",
      "36/36 [==============================] - 1s 24ms/step - loss: 1.2131e-04\n",
      "Epoch 46/100\n",
      "36/36 [==============================] - 1s 24ms/step - loss: 1.0340e-04\n",
      "Epoch 47/100\n",
      "36/36 [==============================] - 1s 24ms/step - loss: 1.2567e-04\n",
      "Epoch 48/100\n",
      "36/36 [==============================] - 1s 23ms/step - loss: 1.1913e-04\n",
      "Epoch 49/100\n",
      "36/36 [==============================] - 1s 24ms/step - loss: 1.0694e-04\n",
      "Epoch 50/100\n",
      "36/36 [==============================] - 1s 23ms/step - loss: 1.3951e-04\n",
      "Epoch 51/100\n",
      "36/36 [==============================] - 1s 23ms/step - loss: 1.4503e-04\n",
      "Epoch 52/100\n",
      "36/36 [==============================] - 1s 23ms/step - loss: 1.4484e-04\n",
      "Epoch 53/100\n",
      "36/36 [==============================] - 1s 24ms/step - loss: 1.4254e-04\n",
      "Epoch 54/100\n",
      "36/36 [==============================] - 1s 23ms/step - loss: 1.0635e-04\n",
      "Epoch 55/100\n",
      "36/36 [==============================] - 1s 22ms/step - loss: 1.3464e-04\n",
      "Epoch 56/100\n",
      "36/36 [==============================] - 1s 22ms/step - loss: 1.2068e-04\n",
      "Epoch 57/100\n",
      "36/36 [==============================] - 1s 23ms/step - loss: 1.3201e-04\n",
      "Epoch 58/100\n",
      "36/36 [==============================] - 1s 23ms/step - loss: 1.3461e-04\n",
      "Epoch 59/100\n",
      "36/36 [==============================] - 1s 22ms/step - loss: 1.0986e-04\n",
      "Epoch 60/100\n",
      "36/36 [==============================] - 1s 23ms/step - loss: 1.0203e-04\n",
      "Epoch 61/100\n",
      "36/36 [==============================] - 1s 23ms/step - loss: 8.4940e-05\n",
      "Epoch 62/100\n",
      "36/36 [==============================] - 1s 23ms/step - loss: 9.6809e-05\n",
      "Epoch 63/100\n",
      "36/36 [==============================] - 1s 24ms/step - loss: 9.9675e-05\n",
      "Epoch 64/100\n",
      "36/36 [==============================] - 1s 23ms/step - loss: 1.0488e-04\n",
      "Epoch 65/100\n",
      "36/36 [==============================] - 1s 24ms/step - loss: 1.1975e-04\n",
      "Epoch 66/100\n",
      "36/36 [==============================] - 1s 23ms/step - loss: 9.6601e-05\n",
      "Epoch 67/100\n",
      "36/36 [==============================] - 1s 23ms/step - loss: 1.1055e-04\n",
      "Epoch 68/100\n",
      "36/36 [==============================] - 1s 24ms/step - loss: 8.3847e-05\n",
      "Epoch 69/100\n",
      "36/36 [==============================] - 1s 22ms/step - loss: 8.3948e-05\n",
      "Epoch 70/100\n",
      "36/36 [==============================] - 1s 23ms/step - loss: 1.0220e-04\n",
      "Epoch 71/100\n",
      "36/36 [==============================] - 1s 22ms/step - loss: 1.0849e-04\n",
      "Epoch 72/100\n",
      "36/36 [==============================] - 1s 21ms/step - loss: 9.7790e-05\n",
      "Epoch 73/100\n",
      "36/36 [==============================] - 1s 24ms/step - loss: 1.0607e-04\n",
      "Epoch 74/100\n",
      "36/36 [==============================] - 1s 22ms/step - loss: 1.0274e-04\n",
      "Epoch 75/100\n",
      "36/36 [==============================] - 1s 22ms/step - loss: 9.3628e-05\n",
      "Epoch 76/100\n",
      "36/36 [==============================] - 1s 22ms/step - loss: 9.4543e-05\n",
      "Epoch 77/100\n",
      "36/36 [==============================] - 1s 22ms/step - loss: 1.2289e-04\n",
      "Epoch 78/100\n",
      "36/36 [==============================] - 1s 24ms/step - loss: 1.4443e-04\n",
      "Epoch 79/100\n",
      "36/36 [==============================] - 1s 24ms/step - loss: 1.2632e-04\n",
      "Epoch 80/100\n",
      "36/36 [==============================] - 1s 22ms/step - loss: 1.0691e-04\n",
      "Epoch 81/100\n",
      "36/36 [==============================] - 1s 24ms/step - loss: 1.0200e-04\n",
      "Epoch 82/100\n",
      "36/36 [==============================] - 1s 23ms/step - loss: 7.4650e-05\n",
      "Epoch 83/100\n",
      "36/36 [==============================] - 1s 23ms/step - loss: 1.1874e-04\n",
      "Epoch 84/100\n",
      "36/36 [==============================] - 1s 23ms/step - loss: 9.0618e-05\n",
      "Epoch 85/100\n",
      "36/36 [==============================] - 1s 24ms/step - loss: 2.0427e-04\n",
      "Epoch 86/100\n",
      "36/36 [==============================] - 1s 24ms/step - loss: 1.3712e-04\n",
      "Epoch 87/100\n",
      "36/36 [==============================] - 1s 24ms/step - loss: 7.7223e-05\n",
      "Epoch 88/100\n",
      "36/36 [==============================] - 1s 24ms/step - loss: 1.2172e-04\n",
      "Epoch 89/100\n",
      "36/36 [==============================] - 1s 26ms/step - loss: 7.2157e-05\n",
      "Epoch 90/100\n",
      "36/36 [==============================] - 1s 24ms/step - loss: 6.9285e-05\n",
      "Epoch 91/100\n",
      "36/36 [==============================] - 1s 24ms/step - loss: 6.4788e-05\n",
      "Epoch 92/100\n",
      "36/36 [==============================] - 1s 22ms/step - loss: 6.1027e-05\n",
      "Epoch 93/100\n",
      "36/36 [==============================] - 1s 24ms/step - loss: 5.4063e-05\n",
      "Epoch 94/100\n",
      "36/36 [==============================] - 1s 24ms/step - loss: 5.3371e-05\n",
      "Epoch 95/100\n",
      "36/36 [==============================] - 1s 23ms/step - loss: 7.0944e-05\n",
      "Epoch 96/100\n",
      "36/36 [==============================] - 1s 24ms/step - loss: 7.6971e-05\n",
      "Epoch 97/100\n",
      "36/36 [==============================] - 1s 25ms/step - loss: 6.8637e-05\n",
      "Epoch 98/100\n",
      "36/36 [==============================] - 1s 24ms/step - loss: 8.4972e-05\n",
      "Epoch 99/100\n",
      "36/36 [==============================] - 1s 24ms/step - loss: 6.9313e-05\n",
      "Epoch 100/100\n",
      "36/36 [==============================] - 1s 24ms/step - loss: 5.7758e-05\n"
     ]
    },
    {
     "data": {
      "text/plain": [
       "<tensorflow.python.keras.callbacks.History at 0x7eff80ebc278>"
      ]
     },
     "execution_count": 118,
     "metadata": {
      "tags": []
     },
     "output_type": "execute_result"
    }
   ],
   "source": [
    "# Train the model \n",
    "model.fit(x_train, y_train, batch_size=16, epochs=100)"
   ]
  },
  {
   "cell_type": "code",
   "execution_count": 152,
   "metadata": {
    "colab": {
     "base_uri": "https://localhost:8080/",
     "height": 71
    },
    "colab_type": "code",
    "id": "BG-4nZEtIRUC",
    "outputId": "adccb4c2-1a37-43d3-895f-8ac9ab2c02dd"
   },
   "outputs": [
    {
     "name": "stdout",
     "output_type": "stream",
     "text": [
      "141\n",
      "572\n",
      "713\n"
     ]
    }
   ],
   "source": [
    "test_x = scaled_dataset[training_data_len - 24:, :]\n",
    "scaled_open_prices_test = scaled_open_prices[len(training_days):, :]\n",
    "print(len(scaled_open_prices_test))\n",
    "print(len(training_days))\n",
    "print(len(scaled_open_prices))\n",
    "\n",
    "stock_dates = data['created_utc']\n",
    "days_after_training = data[data['created_utc'] >= stock_dates[training_data_len]]\n",
    "testing_days = days_after_training['created_utc'].dt.date.unique()\n",
    "test_days = days_after_training.reset_index(drop=True)\n"
   ]
  },
  {
   "cell_type": "code",
   "execution_count": 153,
   "metadata": {
    "colab": {
     "base_uri": "https://localhost:8080/",
     "height": 430
    },
    "colab_type": "code",
    "id": "cOxgFswok0do",
    "outputId": "0e9aee5c-d276-48de-8ec2-b4e1946f37bc"
   },
   "outputs": [
    {
     "ename": "ValueError",
     "evalue": "ignored",
     "output_type": "error",
     "traceback": [
      "\u001b[0;31m---------------------------------------------------------------------------\u001b[0m",
      "\u001b[0;31mValueError\u001b[0m                                Traceback (most recent call last)",
      "\u001b[0;32m<ipython-input-153-b3ec40160d0f>\u001b[0m in \u001b[0;36m<module>\u001b[0;34m()\u001b[0m\n\u001b[1;32m     24\u001b[0m       \u001b[0mtime_step\u001b[0m\u001b[0;34m.\u001b[0m\u001b[0mappend\u001b[0m\u001b[0;34m(\u001b[0m\u001b[0mfiller\u001b[0m\u001b[0;34m)\u001b[0m\u001b[0;34m\u001b[0m\u001b[0;34m\u001b[0m\u001b[0m\n\u001b[1;32m     25\u001b[0m   \u001b[0mtime_step\u001b[0m \u001b[0;34m=\u001b[0m \u001b[0mnp\u001b[0m\u001b[0;34m.\u001b[0m\u001b[0marray\u001b[0m\u001b[0;34m(\u001b[0m\u001b[0mtime_step\u001b[0m\u001b[0;34m)\u001b[0m\u001b[0;34m\u001b[0m\u001b[0;34m\u001b[0m\u001b[0m\n\u001b[0;32m---> 26\u001b[0;31m   \u001b[0mtime_step\u001b[0m \u001b[0;34m=\u001b[0m \u001b[0mnp\u001b[0m\u001b[0;34m.\u001b[0m\u001b[0mreshape\u001b[0m\u001b[0;34m(\u001b[0m\u001b[0mtime_step\u001b[0m\u001b[0;34m,\u001b[0m \u001b[0;34m(\u001b[0m\u001b[0;36m24\u001b[0m\u001b[0;34m,\u001b[0m\u001b[0;36m33\u001b[0m\u001b[0;34m)\u001b[0m\u001b[0;34m)\u001b[0m\u001b[0;34m\u001b[0m\u001b[0;34m\u001b[0m\u001b[0m\n\u001b[0m\u001b[1;32m     27\u001b[0m   \u001b[0mx_test\u001b[0m\u001b[0;34m.\u001b[0m\u001b[0mappend\u001b[0m\u001b[0;34m(\u001b[0m\u001b[0mtime_step\u001b[0m\u001b[0;34m)\u001b[0m\u001b[0;34m\u001b[0m\u001b[0;34m\u001b[0m\u001b[0m\n\u001b[1;32m     28\u001b[0m   \u001b[0my_test\u001b[0m\u001b[0;34m.\u001b[0m\u001b[0mappend\u001b[0m\u001b[0;34m(\u001b[0m\u001b[0mscaled_open_prices_test\u001b[0m\u001b[0;34m[\u001b[0m\u001b[0midx\u001b[0m\u001b[0;34m]\u001b[0m\u001b[0;34m.\u001b[0m\u001b[0mtolist\u001b[0m\u001b[0;34m(\u001b[0m\u001b[0;34m)\u001b[0m\u001b[0;34m)\u001b[0m\u001b[0;34m\u001b[0m\u001b[0;34m\u001b[0m\u001b[0m\n",
      "\u001b[0;32m<__array_function__ internals>\u001b[0m in \u001b[0;36mreshape\u001b[0;34m(*args, **kwargs)\u001b[0m\n",
      "\u001b[0;32m/usr/local/lib/python3.6/dist-packages/numpy/core/fromnumeric.py\u001b[0m in \u001b[0;36mreshape\u001b[0;34m(a, newshape, order)\u001b[0m\n\u001b[1;32m    299\u001b[0m            [5, 6]])\n\u001b[1;32m    300\u001b[0m     \"\"\"\n\u001b[0;32m--> 301\u001b[0;31m     \u001b[0;32mreturn\u001b[0m \u001b[0m_wrapfunc\u001b[0m\u001b[0;34m(\u001b[0m\u001b[0ma\u001b[0m\u001b[0;34m,\u001b[0m \u001b[0;34m'reshape'\u001b[0m\u001b[0;34m,\u001b[0m \u001b[0mnewshape\u001b[0m\u001b[0;34m,\u001b[0m \u001b[0morder\u001b[0m\u001b[0;34m=\u001b[0m\u001b[0morder\u001b[0m\u001b[0;34m)\u001b[0m\u001b[0;34m\u001b[0m\u001b[0;34m\u001b[0m\u001b[0m\n\u001b[0m\u001b[1;32m    302\u001b[0m \u001b[0;34m\u001b[0m\u001b[0m\n\u001b[1;32m    303\u001b[0m \u001b[0;34m\u001b[0m\u001b[0m\n",
      "\u001b[0;32m/usr/local/lib/python3.6/dist-packages/numpy/core/fromnumeric.py\u001b[0m in \u001b[0;36m_wrapfunc\u001b[0;34m(obj, method, *args, **kwds)\u001b[0m\n\u001b[1;32m     59\u001b[0m \u001b[0;34m\u001b[0m\u001b[0m\n\u001b[1;32m     60\u001b[0m     \u001b[0;32mtry\u001b[0m\u001b[0;34m:\u001b[0m\u001b[0;34m\u001b[0m\u001b[0;34m\u001b[0m\u001b[0m\n\u001b[0;32m---> 61\u001b[0;31m         \u001b[0;32mreturn\u001b[0m \u001b[0mbound\u001b[0m\u001b[0;34m(\u001b[0m\u001b[0;34m*\u001b[0m\u001b[0margs\u001b[0m\u001b[0;34m,\u001b[0m \u001b[0;34m**\u001b[0m\u001b[0mkwds\u001b[0m\u001b[0;34m)\u001b[0m\u001b[0;34m\u001b[0m\u001b[0;34m\u001b[0m\u001b[0m\n\u001b[0m\u001b[1;32m     62\u001b[0m     \u001b[0;32mexcept\u001b[0m \u001b[0mTypeError\u001b[0m\u001b[0;34m:\u001b[0m\u001b[0;34m\u001b[0m\u001b[0;34m\u001b[0m\u001b[0m\n\u001b[1;32m     63\u001b[0m         \u001b[0;31m# A TypeError occurs if the object does have such a method in its\u001b[0m\u001b[0;34m\u001b[0m\u001b[0;34m\u001b[0m\u001b[0;34m\u001b[0m\u001b[0m\n",
      "\u001b[0;31mValueError\u001b[0m: cannot reshape array of size 120 into shape (24,33)"
     ]
    }
   ],
   "source": [
    "x_test = []\n",
    "y_test = []\n",
    "num_hours_in_day = 24\n",
    "i = 0\n",
    "\n",
    "for idx in range(0, len(testing_days)):\n",
    "  time_step = []\n",
    "  if (idx == len(testing_days) -1):\n",
    "    while(i < len(days_after_training) - 24):\n",
    "      hourly_data = test_x[i:i+1,:][0]\n",
    "      time_step.append(hourly_data)\n",
    "      i = i + 1\n",
    "    while(len(time_step) < num_hours_in_day):\n",
    "      filler = np.zeros(len(hourly_data))\n",
    "      time_step.append(filler)\n",
    "  else:\n",
    "    next_date = testing_days[idx]\n",
    "    while(next_date > test_days['created_utc'][i]):\n",
    "      hourly_data = test_x[i:i+1,:][0]\n",
    "      time_step.append(hourly_data)\n",
    "      i = i + 1\n",
    "    while(len(time_step) < num_hours_in_day):\n",
    "      filler = np.zeros(len(hourly_data))\n",
    "      time_step.append(filler)\n",
    "  time_step = np.array(time_step)\n",
    "  time_step = np.reshape(time_step, (24,33))\n",
    "  x_test.append(time_step)\n",
    "  y_test.append(scaled_open_prices_test[idx].tolist())\n",
    "  print('time_step',idx, time_step.shape, len(testing_days) -1)\n",
    "  # if(idx < 2):\n",
    "  #   print('time_step',idx, time_step)\n"
   ]
  },
  {
   "cell_type": "code",
   "execution_count": null,
   "metadata": {
    "colab": {},
    "colab_type": "code",
    "id": "bfIgJlSll9b4"
   },
   "outputs": [],
   "source": [
    "# Convert the data into a np array\n",
    "x_test = np.array(x_test)\n",
    "\n",
    "# Reshape data into 3 dimensions ( num samples, timesteps, num features )\n",
    "x_test = np.reshape(x_test, (x_test.shape[0], x_test.shape[1], 33))"
   ]
  },
  {
   "cell_type": "code",
   "execution_count": null,
   "metadata": {
    "colab": {},
    "colab_type": "code",
    "id": "bTK6EuL2tHvF"
   },
   "outputs": [],
   "source": [
    "# Get the models predicted price values \n",
    "predictions = model.predict(x_test)\n",
    "\n",
    "# Inverse transform \n",
    "predictions = openScaler.inverse_transform(predictions)"
   ]
  },
  {
   "cell_type": "code",
   "execution_count": 123,
   "metadata": {
    "colab": {
     "base_uri": "https://localhost:8080/",
     "height": 35
    },
    "colab_type": "code",
    "id": "BcEEjti0tMSU",
    "outputId": "493d11aa-f078-440a-f5a9-54471c888015"
   },
   "outputs": [
    {
     "data": {
      "text/plain": [
       "857.4320505849481"
      ]
     },
     "execution_count": 123,
     "metadata": {
      "tags": []
     },
     "output_type": "execute_result"
    }
   ],
   "source": [
    "# Evaluate model with root mean square error (RMSE)\n",
    "rmse = np.sqrt(np.mean((predictions-y_test)**2))\n",
    "rmse"
   ]
  },
  {
   "cell_type": "code",
   "execution_count": 124,
   "metadata": {
    "colab": {
     "base_uri": "https://localhost:8080/",
     "height": 505
    },
    "colab_type": "code",
    "id": "jxXmF_3itNqk",
    "outputId": "1a459825-2660-4428-d36f-2bd477294e92"
   },
   "outputs": [
    {
     "name": "stdout",
     "output_type": "stream",
     "text": [
      "141 141\n"
     ]
    },
    {
     "name": "stderr",
     "output_type": "stream",
     "text": [
      "/usr/local/lib/python3.6/dist-packages/ipykernel_launcher.py:30: SettingWithCopyWarning: \n",
      "A value is trying to be set on a copy of a slice from a DataFrame.\n",
      "Try using .loc[row_indexer,col_indexer] = value instead\n",
      "\n",
      "See the caveats in the documentation: https://pandas.pydata.org/pandas-docs/stable/user_guide/indexing.html#returning-a-view-versus-a-copy\n",
      "/usr/local/lib/python3.6/dist-packages/ipykernel_launcher.py:31: SettingWithCopyWarning: \n",
      "A value is trying to be set on a copy of a slice from a DataFrame.\n",
      "Try using .loc[row_indexer,col_indexer] = value instead\n",
      "\n",
      "See the caveats in the documentation: https://pandas.pydata.org/pandas-docs/stable/user_guide/indexing.html#returning-a-view-versus-a-copy\n",
      "/usr/local/lib/python3.6/dist-packages/ipykernel_launcher.py:32: SettingWithCopyWarning: \n",
      "A value is trying to be set on a copy of a slice from a DataFrame.\n",
      "Try using .loc[row_indexer,col_indexer] = value instead\n",
      "\n",
      "See the caveats in the documentation: https://pandas.pydata.org/pandas-docs/stable/user_guide/indexing.html#returning-a-view-versus-a-copy\n",
      "/usr/local/lib/python3.6/dist-packages/ipykernel_launcher.py:33: SettingWithCopyWarning: \n",
      "A value is trying to be set on a copy of a slice from a DataFrame.\n",
      "Try using .loc[row_indexer,col_indexer] = value instead\n",
      "\n",
      "See the caveats in the documentation: https://pandas.pydata.org/pandas-docs/stable/user_guide/indexing.html#returning-a-view-versus-a-copy\n",
      "/usr/local/lib/python3.6/dist-packages/ipykernel_launcher.py:34: SettingWithCopyWarning: \n",
      "A value is trying to be set on a copy of a slice from a DataFrame.\n",
      "Try using .loc[row_indexer,col_indexer] = value instead\n",
      "\n",
      "See the caveats in the documentation: https://pandas.pydata.org/pandas-docs/stable/user_guide/indexing.html#returning-a-view-versus-a-copy\n"
     ]
    }
   ],
   "source": [
    "plotData = data.set_index('created_utc')\n",
    "plotData = plotData.resample('D').first().dropna(how='any')\n",
    "plotData\n",
    "# This is so it graphs nicely with dates \n",
    "AAPL = plotData[\"AAPL_StockPrice\"]\n",
    "AAPL = AAPL.to_frame()\n",
    "AMZN = plotData[\"AMZN_StockPrice\"]\n",
    "AMZN = AMZN.to_frame()\n",
    "BA = plotData[\"BA_StockPrice\"]\n",
    "BA = BA.to_frame();\n",
    "SPY = plotData[\"SPY_StockPrice\"]\n",
    "SPY = SPY.to_frame();\n",
    "TSLA = plotData[\"TSLA_StockPrice\"]\n",
    "TSLA = TSLA.to_frame()\n",
    "\n",
    "appleTest = AAPL[0:len(training_days)]\n",
    "amazonTest = AMZN[0:len(training_days)]\n",
    "boeTest = BA[0:len(training_days)]\n",
    "spyTest = SPY[0:len(training_days)]\n",
    "teslaTest = TSLA[0:len(training_days)]\n",
    "\n",
    "appleValid = AAPL[len(training_days):]\n",
    "amazonValid = AMZN[len(training_days):]\n",
    "boeValid = BA[len(training_days):]\n",
    "spyValid = SPY[len(training_days):]\n",
    "teslaValid = TSLA[len(training_days):]\n",
    "# print(appleValid)\n",
    "\n",
    "print(len(appleValid), len(predictions))\n",
    "appleValid['Predictions'] = predictions[:,:1]\n",
    "amazonValid[\"Predictions\"] = predictions[:,1:2]\n",
    "boeValid['Predictions'] = predictions[:, 2:3]\n",
    "spyValid[\"Predictions\"] = predictions[:, 3:4]\n",
    "teslaValid[\"Predictions\"] = predictions[:, 4:5]\n"
   ]
  },
  {
   "cell_type": "code",
   "execution_count": 125,
   "metadata": {
    "colab": {
     "base_uri": "https://localhost:8080/",
     "height": 536
    },
    "colab_type": "code",
    "id": "S-2PTuVjtbbG",
    "outputId": "9afecf63-dd9e-4582-be96-7ac729f5607f"
   },
   "outputs": [
    {
     "data": {
      "image/png": "[encoded data removed]",
      "text/plain": [
       "<Figure size 1152x576 with 1 Axes>"
      ]
     },
     "metadata": {
      "needs_background": "light",
      "tags": []
     },
     "output_type": "display_data"
    }
   ],
   "source": [
    "# Visualize data\n",
    "plt.figure(figsize=(16,8))\n",
    "plt.title('Next Day Prediction with hourly NLP data \\n (SPY)')\n",
    "plt.xlabel('Date', fontsize=18)\n",
    "plt.ylabel('Close Price USD ($)', fontsize=18)\n",
    "# plt.plot(appleTest)\n",
    "# plt.plot(appleValid)\n",
    "# plt.plot(appleValid['Predictions'])\n",
    "# plt.plot(amazonTest)\n",
    "# plt.plot(amazonValid)\n",
    "# plt.plot(amazonValid['Predictions'])\n",
    "# plt.plot(boeTest)\n",
    "# plt.plot(boeValid)\n",
    "# plt.plot(boeValid['Predictions'])\n",
    "# plt.plot(spyTest)\n",
    "plt.plot(spyValid)\n",
    "plt.plot(spyValid['Predictions'], color='orange')\n",
    "# plt.plot(teslaTest)\n",
    "# plt.plot(teslaValid)\n",
    "# plt.plot(teslaValid['Predictions'])\n",
    "plt.legend([ 'Validation', 'Prediction'])\n",
    "plt.show()"
   ]
  },
  {
   "cell_type": "code",
   "execution_count": 126,
   "metadata": {
    "colab": {
     "base_uri": "https://localhost:8080/",
     "height": 235
    },
    "colab_type": "code",
    "id": "px9sr1fC0q6l",
    "outputId": "49aa98c5-f56c-45f8-f48f-07e895d0c703"
   },
   "outputs": [
    {
     "data": {
      "text/html": [
       "<div>\n",
       "<style scoped>\n",
       "    .dataframe tbody tr th:only-of-type {\n",
       "        vertical-align: middle;\n",
       "    }\n",
       "\n",
       "    .dataframe tbody tr th {\n",
       "        vertical-align: top;\n",
       "    }\n",
       "\n",
       "    .dataframe thead th {\n",
       "        text-align: right;\n",
       "    }\n",
       "</style>\n",
       "<table border=\"1\" class=\"dataframe\">\n",
       "  <thead>\n",
       "    <tr style=\"text-align: right;\">\n",
       "      <th></th>\n",
       "      <th>AAPL_StockPrice</th>\n",
       "      <th>AMZN_StockPrice</th>\n",
       "      <th>BA_StockPrice</th>\n",
       "      <th>SPY_StockPrice</th>\n",
       "      <th>TSLA_StockPrice</th>\n",
       "    </tr>\n",
       "    <tr>\n",
       "      <th>created_utc</th>\n",
       "      <th></th>\n",
       "      <th></th>\n",
       "      <th></th>\n",
       "      <th></th>\n",
       "      <th></th>\n",
       "    </tr>\n",
       "  </thead>\n",
       "  <tbody>\n",
       "    <tr>\n",
       "      <th>2017-01-03 00:00:00</th>\n",
       "      <td>116.01</td>\n",
       "      <td>757.76</td>\n",
       "      <td>155.68</td>\n",
       "      <td>224.86</td>\n",
       "      <td>214.3</td>\n",
       "    </tr>\n",
       "    <tr>\n",
       "      <th>2017-01-03 01:00:00</th>\n",
       "      <td>116.01</td>\n",
       "      <td>757.76</td>\n",
       "      <td>155.68</td>\n",
       "      <td>224.86</td>\n",
       "      <td>214.3</td>\n",
       "    </tr>\n",
       "    <tr>\n",
       "      <th>2017-01-03 02:00:00</th>\n",
       "      <td>116.01</td>\n",
       "      <td>757.76</td>\n",
       "      <td>155.68</td>\n",
       "      <td>224.86</td>\n",
       "      <td>214.3</td>\n",
       "    </tr>\n",
       "    <tr>\n",
       "      <th>2017-01-03 03:00:00</th>\n",
       "      <td>116.01</td>\n",
       "      <td>757.76</td>\n",
       "      <td>155.68</td>\n",
       "      <td>224.86</td>\n",
       "      <td>214.3</td>\n",
       "    </tr>\n",
       "    <tr>\n",
       "      <th>2017-01-03 04:00:00</th>\n",
       "      <td>116.01</td>\n",
       "      <td>757.76</td>\n",
       "      <td>155.68</td>\n",
       "      <td>224.86</td>\n",
       "      <td>214.3</td>\n",
       "    </tr>\n",
       "  </tbody>\n",
       "</table>\n",
       "</div>"
      ],
      "text/plain": [
       "                     AAPL_StockPrice  ...  TSLA_StockPrice\n",
       "created_utc                           ...                 \n",
       "2017-01-03 00:00:00           116.01  ...            214.3\n",
       "2017-01-03 01:00:00           116.01  ...            214.3\n",
       "2017-01-03 02:00:00           116.01  ...            214.3\n",
       "2017-01-03 03:00:00           116.01  ...            214.3\n",
       "2017-01-03 04:00:00           116.01  ...            214.3\n",
       "\n",
       "[5 rows x 5 columns]"
      ]
     },
     "execution_count": 126,
     "metadata": {
      "tags": []
     },
     "output_type": "execute_result"
    }
   ],
   "source": [
    "# create dataset with hourly prices and no nlp data \n",
    "hour_data = data.filter(['created_utc','AAPL_StockPrice', 'AMZN_StockPrice', \n",
    "                                              'BA_StockPrice', 'SPY_StockPrice', 'TSLA_StockPrice'])\n",
    "hour_data = hour_data.set_index('created_utc')\n",
    "hour_data.head(5)"
   ]
  },
  {
   "cell_type": "code",
   "execution_count": null,
   "metadata": {
    "colab": {},
    "colab_type": "code",
    "id": "PnQdo7zRBBoX"
   },
   "outputs": [],
   "source": [
    "hour_dataset = hour_data.values"
   ]
  },
  {
   "cell_type": "code",
   "execution_count": 128,
   "metadata": {
    "colab": {
     "base_uri": "https://localhost:8080/",
     "height": 35
    },
    "colab_type": "code",
    "id": "Wc2q2X0yBhAh",
    "outputId": "1354b6b6-f27a-4b72-a5c1-dd85829a866a"
   },
   "outputs": [
    {
     "data": {
      "text/plain": [
       "Timestamp('2019-04-12 00:00:00')"
      ]
     },
     "execution_count": 128,
     "metadata": {
      "tags": []
     },
     "output_type": "execute_result"
    }
   ],
   "source": [
    "train_len = math.ceil(len(hour_dataset) * 0.8)\n",
    "train_len\n",
    "hours = data.filter(['created_utc'])\n",
    "hours = hours['created_utc']\n",
    "\n",
    "# adjust training length to the end of a day since it may fall in the middle of a day\n",
    "while(hours[train_len].hour != 0):\n",
    "  train_len = train_len + 1\n",
    "hours[train_len]"
   ]
  },
  {
   "cell_type": "code",
   "execution_count": null,
   "metadata": {
    "colab": {},
    "colab_type": "code",
    "id": "LEdat36PB-fL"
   },
   "outputs": [],
   "source": [
    "hourScaler = MinMaxScaler(feature_range=(0,1))\n",
    "priceScaler = MinMaxScaler(feature_range=(0,1))\n",
    "\n",
    "scaled_hour_dataset = hourScaler.fit_transform(hour_dataset)\n",
    "scaled_price_dataset = priceScaler.fit_transform(opening_dataset)"
   ]
  },
  {
   "cell_type": "code",
   "execution_count": 130,
   "metadata": {
    "colab": {
     "base_uri": "https://localhost:8080/",
     "height": 53
    },
    "colab_type": "code",
    "id": "uKLyZe0ICu6C",
    "outputId": "dea5139f-2dcb-4be6-aea2-b0879074139f"
   },
   "outputs": [
    {
     "name": "stdout",
     "output_type": "stream",
     "text": [
      "572\n",
      "2019-04-11\n"
     ]
    }
   ],
   "source": [
    "train_xvals2 = scaled_hour_dataset[0: train_len, :]\n",
    "\n",
    "# to check date of current row \n",
    "dates = data['created_utc']\n",
    "h_data = data[data['created_utc'] < dates[train_len]]\n",
    "train_days = h_data['created_utc'].dt.date.unique()\n",
    "\n",
    "print(len(train_days))\n",
    "print(train_days[-1])"
   ]
  },
  {
   "cell_type": "code",
   "execution_count": 131,
   "metadata": {
    "colab": {
     "base_uri": "https://localhost:8080/",
     "height": 485
    },
    "colab_type": "code",
    "id": "KM6hCKRPDBZ7",
    "outputId": "01177f71-88a6-4abb-aa9c-40b4c5f01a89"
   },
   "outputs": [
    {
     "name": "stdout",
     "output_type": "stream",
     "text": [
      "[[4.50619602e-04 0.00000000e+00 4.51017411e-03 4.79313824e-03\n",
      "  1.60795952e-01]\n",
      " [0.00000000e+00 2.41568481e-03 1.02790015e-02 2.16952573e-02\n",
      "  2.29639000e-01]\n",
      " [4.80660909e-03 2.18190886e-02 1.29011957e-02 1.94248234e-02\n",
      "  2.31098570e-01]\n",
      " ...\n",
      " [6.25084491e-01 8.42606446e-01 7.44108804e-01 7.87714430e-01\n",
      "  4.54656028e-01]\n",
      " [6.37626737e-01 8.54560190e-01 7.30438431e-01 8.00075681e-01\n",
      "  4.72657390e-01]\n",
      " [6.22230567e-01 8.45637741e-01 7.59282568e-01 7.99066599e-01\n",
      "  4.35195096e-01]]\n",
      "[[4.50619602e-04 0.00000000e+00 4.51017411e-03 4.79313824e-03\n",
      "  1.60795952e-01]\n",
      " [0.00000000e+00 2.41568481e-03 1.02790015e-02 2.16952573e-02\n",
      "  2.29639000e-01]\n",
      " [4.80660909e-03 2.18190886e-02 1.29011957e-02 1.94248234e-02\n",
      "  2.31098570e-01]\n",
      " ...\n",
      " [6.25084491e-01 8.42606446e-01 7.44108804e-01 7.87714430e-01\n",
      "  4.54656028e-01]\n",
      " [6.37626737e-01 8.54560190e-01 7.30438431e-01 8.00075681e-01\n",
      "  4.72657390e-01]\n",
      " [6.22230567e-01 8.45637741e-01 7.59282568e-01 7.99066599e-01\n",
      "  4.35195096e-01]]\n"
     ]
    }
   ],
   "source": [
    "x_train2 = []\n",
    "y_train2 = []\n",
    "j = 0\n",
    "num_hours_in_day = 24\n",
    "for idx in range(0,len(train_days)):\n",
    "  time_step = []\n",
    "  # last day in the list \n",
    "  if idx == len(train_days) - 1:\n",
    "    while(j < train_len):\n",
    "      hourly_data = train_xvals2[j:j+1, :][0]\n",
    "      time_step.append(hourly_data)\n",
    "      j = j + 1\n",
    "    while(len(time_step) < num_hours_in_day):\n",
    "      filler = np.zeros(len(hourly_data))\n",
    "      time_step.append(filler)\n",
    "  else:\n",
    "    next_date = train_days[idx + 1]\n",
    "    while(next_date > dates[j]):\n",
    "    # day matches \n",
    "      hourly_data = train_xvals2[j:j+1, :][0]\n",
    "      time_step.append(hourly_data)\n",
    "      j = j + 1\n",
    "    # if there isnt a full 24 hours in set \n",
    "    while(len(time_step) < num_hours_in_day):\n",
    "      filler = np.zeros(len(hourly_data))\n",
    "      time_step.append(filler)\n",
    "  time_step = np.array(time_step)\n",
    "  # print('time_step',idx, time_step)\n",
    "  time_step = np.reshape(time_step, (24,5))\n",
    "  x_train2.append(time_step)\n",
    "  y_train2.append(scaled_open_prices[idx+1].tolist())\n",
    "  test_start_index = idx + 1\n",
    "  if(idx < 2):\n",
    "    print(y_train)\n",
    "    # print('time_step',idx, time_step)"
   ]
  },
  {
   "cell_type": "code",
   "execution_count": 132,
   "metadata": {
    "colab": {
     "base_uri": "https://localhost:8080/",
     "height": 35
    },
    "colab_type": "code",
    "id": "VNJ0UGaVEZuH",
    "outputId": "0f7bc707-4c84-41be-eacb-eba4caaaed60"
   },
   "outputs": [
    {
     "data": {
      "text/plain": [
       "(572, 24, 5)"
      ]
     },
     "execution_count": 132,
     "metadata": {
      "tags": []
     },
     "output_type": "execute_result"
    }
   ],
   "source": [
    "# Convert both x, y training sets to np array \n",
    "x_train2, y_train2 = np.array(x_train2), np.array(y_train2)\n",
    "# Reshape the data // LSTM network expects 3 dimensional input in the form of \n",
    "# (number of samples, number of timesteps, number of features)\n",
    "x_train2 = np.reshape(x_train2, (x_train2.shape[0], x_train2.shape[1], 5))\n",
    "x_train2.shape"
   ]
  },
  {
   "cell_type": "code",
   "execution_count": null,
   "metadata": {
    "colab": {},
    "colab_type": "code",
    "id": "Rqnw1GdjDptv"
   },
   "outputs": [],
   "source": [
    "# Declare the LSTM model architecture \n",
    "model2 = Sequential()\n",
    "\n",
    "# Add layers , input shape expected is (number of timesteps, number of features)\n",
    "model2.add(LSTM(75, return_sequences=True, input_shape=(x_train2.shape[1], 5)))\n",
    "model2.add(Dropout(0.2))\n",
    "\n",
    "model2.add(LSTM(50, return_sequences=False))\n",
    "model2.add(Dropout(0.2))\n",
    "\n",
    "model2.add(Dense(25))\n",
    "model2.add(Dropout(0.2))\n",
    "\n",
    "model2.add(Dense(5))"
   ]
  },
  {
   "cell_type": "code",
   "execution_count": null,
   "metadata": {
    "colab": {},
    "colab_type": "code",
    "id": "kEhDIZDFEj9W"
   },
   "outputs": [],
   "source": [
    "# Compile Model \n",
    "model2.compile(optimizer='adam', loss='mean_squared_error')"
   ]
  },
  {
   "cell_type": "code",
   "execution_count": 136,
   "metadata": {
    "colab": {
     "base_uri": "https://localhost:8080/",
     "height": 1000
    },
    "colab_type": "code",
    "id": "9WgNfP04ElqH",
    "outputId": "5f07526c-51a6-4ae1-c8f1-e2acbb81174b"
   },
   "outputs": [
    {
     "name": "stdout",
     "output_type": "stream",
     "text": [
      "Epoch 1/100\n",
      "36/36 [==============================] - 1s 24ms/step - loss: 0.0602\n",
      "Epoch 2/100\n",
      "36/36 [==============================] - 1s 23ms/step - loss: 0.0250\n",
      "Epoch 3/100\n",
      "36/36 [==============================] - 1s 22ms/step - loss: 0.0218\n",
      "Epoch 4/100\n",
      "36/36 [==============================] - 1s 23ms/step - loss: 0.0187\n",
      "Epoch 5/100\n",
      "36/36 [==============================] - 1s 22ms/step - loss: 0.0170\n",
      "Epoch 6/100\n",
      "36/36 [==============================] - 1s 23ms/step - loss: 0.0170\n",
      "Epoch 7/100\n",
      "36/36 [==============================] - 1s 24ms/step - loss: 0.0143\n",
      "Epoch 8/100\n",
      "36/36 [==============================] - 1s 22ms/step - loss: 0.0143\n",
      "Epoch 9/100\n",
      "36/36 [==============================] - 1s 23ms/step - loss: 0.0124\n",
      "Epoch 10/100\n",
      "36/36 [==============================] - 1s 24ms/step - loss: 0.0114\n",
      "Epoch 11/100\n",
      "36/36 [==============================] - 1s 24ms/step - loss: 0.0108\n",
      "Epoch 12/100\n",
      "36/36 [==============================] - 1s 23ms/step - loss: 0.0103\n",
      "Epoch 13/100\n",
      "36/36 [==============================] - 1s 24ms/step - loss: 0.0102\n",
      "Epoch 14/100\n",
      "36/36 [==============================] - 1s 25ms/step - loss: 0.0094\n",
      "Epoch 15/100\n",
      "36/36 [==============================] - 1s 23ms/step - loss: 0.0092\n",
      "Epoch 16/100\n",
      "36/36 [==============================] - 1s 23ms/step - loss: 0.0097\n",
      "Epoch 17/100\n",
      "36/36 [==============================] - 1s 24ms/step - loss: 0.0088\n",
      "Epoch 18/100\n",
      "36/36 [==============================] - 1s 25ms/step - loss: 0.0080\n",
      "Epoch 19/100\n",
      "36/36 [==============================] - 1s 24ms/step - loss: 0.0075\n",
      "Epoch 20/100\n",
      "36/36 [==============================] - 1s 24ms/step - loss: 0.0074\n",
      "Epoch 21/100\n",
      "36/36 [==============================] - 1s 24ms/step - loss: 0.0068\n",
      "Epoch 22/100\n",
      "36/36 [==============================] - 1s 24ms/step - loss: 0.0069\n",
      "Epoch 23/100\n",
      "36/36 [==============================] - 1s 24ms/step - loss: 0.0067\n",
      "Epoch 24/100\n",
      "36/36 [==============================] - 1s 23ms/step - loss: 0.0069\n",
      "Epoch 25/100\n",
      "36/36 [==============================] - 1s 23ms/step - loss: 0.0068\n",
      "Epoch 26/100\n",
      "36/36 [==============================] - 1s 23ms/step - loss: 0.0066\n",
      "Epoch 27/100\n",
      "36/36 [==============================] - 1s 23ms/step - loss: 0.0062\n",
      "Epoch 28/100\n",
      "36/36 [==============================] - 1s 25ms/step - loss: 0.0061\n",
      "Epoch 29/100\n",
      "36/36 [==============================] - 1s 24ms/step - loss: 0.0063\n",
      "Epoch 30/100\n",
      "36/36 [==============================] - 1s 24ms/step - loss: 0.0061\n",
      "Epoch 31/100\n",
      "36/36 [==============================] - 1s 25ms/step - loss: 0.0059\n",
      "Epoch 32/100\n",
      "36/36 [==============================] - 1s 26ms/step - loss: 0.0058\n",
      "Epoch 33/100\n",
      "36/36 [==============================] - 1s 24ms/step - loss: 0.0060\n",
      "Epoch 34/100\n",
      "36/36 [==============================] - 1s 23ms/step - loss: 0.0054\n",
      "Epoch 35/100\n",
      "36/36 [==============================] - 1s 25ms/step - loss: 0.0046\n",
      "Epoch 36/100\n",
      "36/36 [==============================] - 1s 25ms/step - loss: 0.0046\n",
      "Epoch 37/100\n",
      "36/36 [==============================] - 1s 25ms/step - loss: 0.0050\n",
      "Epoch 38/100\n",
      "36/36 [==============================] - 1s 22ms/step - loss: 0.0048\n",
      "Epoch 39/100\n",
      "36/36 [==============================] - 1s 22ms/step - loss: 0.0047\n",
      "Epoch 40/100\n",
      "36/36 [==============================] - 1s 24ms/step - loss: 0.0049\n",
      "Epoch 41/100\n",
      "36/36 [==============================] - 1s 24ms/step - loss: 0.0047\n",
      "Epoch 42/100\n",
      "36/36 [==============================] - 1s 24ms/step - loss: 0.0049\n",
      "Epoch 43/100\n",
      "36/36 [==============================] - 1s 24ms/step - loss: 0.0042\n",
      "Epoch 44/100\n",
      "36/36 [==============================] - 1s 23ms/step - loss: 0.0046\n",
      "Epoch 45/100\n",
      "36/36 [==============================] - 1s 22ms/step - loss: 0.0047\n",
      "Epoch 46/100\n",
      "36/36 [==============================] - 1s 23ms/step - loss: 0.0047\n",
      "Epoch 47/100\n",
      "36/36 [==============================] - 1s 23ms/step - loss: 0.0041\n",
      "Epoch 48/100\n",
      "36/36 [==============================] - 1s 23ms/step - loss: 0.0041\n",
      "Epoch 49/100\n",
      "36/36 [==============================] - 1s 23ms/step - loss: 0.0046\n",
      "Epoch 50/100\n",
      "36/36 [==============================] - 1s 23ms/step - loss: 0.0041\n",
      "Epoch 51/100\n",
      "36/36 [==============================] - 1s 24ms/step - loss: 0.0040\n",
      "Epoch 52/100\n",
      "36/36 [==============================] - 1s 23ms/step - loss: 0.0043\n",
      "Epoch 53/100\n",
      "36/36 [==============================] - 1s 24ms/step - loss: 0.0040\n",
      "Epoch 54/100\n",
      "36/36 [==============================] - 1s 22ms/step - loss: 0.0038\n",
      "Epoch 55/100\n",
      "36/36 [==============================] - 1s 24ms/step - loss: 0.0039\n",
      "Epoch 56/100\n",
      "36/36 [==============================] - 1s 23ms/step - loss: 0.0037\n",
      "Epoch 57/100\n",
      "36/36 [==============================] - 1s 23ms/step - loss: 0.0041\n",
      "Epoch 58/100\n",
      "36/36 [==============================] - 1s 24ms/step - loss: 0.0034\n",
      "Epoch 59/100\n",
      "36/36 [==============================] - 1s 24ms/step - loss: 0.0039\n",
      "Epoch 60/100\n",
      "36/36 [==============================] - 1s 22ms/step - loss: 0.0042\n",
      "Epoch 61/100\n",
      "36/36 [==============================] - 1s 23ms/step - loss: 0.0041\n",
      "Epoch 62/100\n",
      "36/36 [==============================] - 1s 25ms/step - loss: 0.0038\n",
      "Epoch 63/100\n",
      "36/36 [==============================] - 1s 23ms/step - loss: 0.0035\n",
      "Epoch 64/100\n",
      "36/36 [==============================] - 1s 23ms/step - loss: 0.0037\n",
      "Epoch 65/100\n",
      "36/36 [==============================] - 1s 23ms/step - loss: 0.0039\n",
      "Epoch 66/100\n",
      "36/36 [==============================] - 1s 23ms/step - loss: 0.0039\n",
      "Epoch 67/100\n",
      "36/36 [==============================] - 1s 22ms/step - loss: 0.0040\n",
      "Epoch 68/100\n",
      "36/36 [==============================] - 1s 22ms/step - loss: 0.0034\n",
      "Epoch 69/100\n",
      "36/36 [==============================] - 1s 24ms/step - loss: 0.0035\n",
      "Epoch 70/100\n",
      "36/36 [==============================] - 1s 24ms/step - loss: 0.0037\n",
      "Epoch 71/100\n",
      "36/36 [==============================] - 1s 25ms/step - loss: 0.0036\n",
      "Epoch 72/100\n",
      "36/36 [==============================] - 1s 35ms/step - loss: 0.0030\n",
      "Epoch 73/100\n",
      "36/36 [==============================] - 1s 27ms/step - loss: 0.0032\n",
      "Epoch 74/100\n",
      "36/36 [==============================] - 1s 25ms/step - loss: 0.0031\n",
      "Epoch 75/100\n",
      "36/36 [==============================] - 1s 24ms/step - loss: 0.0029\n",
      "Epoch 76/100\n",
      "36/36 [==============================] - 1s 25ms/step - loss: 0.0034\n",
      "Epoch 77/100\n",
      "36/36 [==============================] - 1s 26ms/step - loss: 0.0032\n",
      "Epoch 78/100\n",
      "36/36 [==============================] - 1s 24ms/step - loss: 0.0034\n",
      "Epoch 79/100\n",
      "36/36 [==============================] - 1s 24ms/step - loss: 0.0036\n",
      "Epoch 80/100\n",
      "36/36 [==============================] - 1s 24ms/step - loss: 0.0033\n",
      "Epoch 81/100\n",
      "36/36 [==============================] - 1s 25ms/step - loss: 0.0031\n",
      "Epoch 82/100\n",
      "36/36 [==============================] - 1s 24ms/step - loss: 0.0030\n",
      "Epoch 83/100\n",
      "36/36 [==============================] - 1s 25ms/step - loss: 0.0033\n",
      "Epoch 84/100\n",
      "36/36 [==============================] - 1s 25ms/step - loss: 0.0030\n",
      "Epoch 85/100\n",
      "36/36 [==============================] - 1s 24ms/step - loss: 0.0029\n",
      "Epoch 86/100\n",
      "36/36 [==============================] - 1s 25ms/step - loss: 0.0030\n",
      "Epoch 87/100\n",
      "36/36 [==============================] - 1s 24ms/step - loss: 0.0028\n",
      "Epoch 88/100\n",
      "36/36 [==============================] - 1s 24ms/step - loss: 0.0029\n",
      "Epoch 89/100\n",
      "36/36 [==============================] - 1s 24ms/step - loss: 0.0034\n",
      "Epoch 90/100\n",
      "36/36 [==============================] - 1s 24ms/step - loss: 0.0031\n",
      "Epoch 91/100\n",
      "36/36 [==============================] - 1s 24ms/step - loss: 0.0029\n",
      "Epoch 92/100\n",
      "36/36 [==============================] - 1s 24ms/step - loss: 0.0034\n",
      "Epoch 93/100\n",
      "36/36 [==============================] - 1s 24ms/step - loss: 0.0031\n",
      "Epoch 94/100\n",
      "36/36 [==============================] - 1s 26ms/step - loss: 0.0030\n",
      "Epoch 95/100\n",
      "36/36 [==============================] - 1s 24ms/step - loss: 0.0030\n",
      "Epoch 96/100\n",
      "36/36 [==============================] - 1s 24ms/step - loss: 0.0030\n",
      "Epoch 97/100\n",
      "36/36 [==============================] - 1s 25ms/step - loss: 0.0028\n",
      "Epoch 98/100\n",
      "36/36 [==============================] - 1s 24ms/step - loss: 0.0029\n",
      "Epoch 99/100\n",
      "36/36 [==============================] - 1s 25ms/step - loss: 0.0030\n",
      "Epoch 100/100\n",
      "36/36 [==============================] - 1s 23ms/step - loss: 0.0028\n"
     ]
    },
    {
     "data": {
      "text/plain": [
       "<tensorflow.python.keras.callbacks.History at 0x7eff7b438be0>"
      ]
     },
     "execution_count": 136,
     "metadata": {
      "tags": []
     },
     "output_type": "execute_result"
    }
   ],
   "source": [
    "# Train the model \n",
    "model2.fit(x_train2, y_train2, batch_size=16, epochs=100)"
   ]
  },
  {
   "cell_type": "code",
   "execution_count": 137,
   "metadata": {
    "colab": {
     "base_uri": "https://localhost:8080/",
     "height": 71
    },
    "colab_type": "code",
    "id": "vmgKg7siEm8X",
    "outputId": "0ccdff8d-1eb4-4365-aea4-0ef1b63e1760"
   },
   "outputs": [
    {
     "name": "stdout",
     "output_type": "stream",
     "text": [
      "141\n",
      "572\n",
      "713\n"
     ]
    }
   ],
   "source": [
    "test_x2 = scaled_hour_dataset[train_len - 24:, :]\n",
    "scaled_prices_test = scaled_price_dataset[len(train_days):, :]\n",
    "print(len(scaled_prices_test))\n",
    "print(len(train_days))\n",
    "print(len(scaled_price_dataset))\n",
    "\n",
    "stock_dates = data['created_utc']\n",
    "after_training_data = data[data['created_utc'] >= stock_dates[train_len]]\n",
    "testing_days2 = after_training_data['created_utc'].dt.date.unique()\n",
    "test_days2 = after_training_data.reset_index(drop=True)"
   ]
  },
  {
   "cell_type": "code",
   "execution_count": 138,
   "metadata": {
    "colab": {
     "base_uri": "https://localhost:8080/",
     "height": 1000
    },
    "colab_type": "code",
    "id": "phQ4NYGyF-Vt",
    "outputId": "b6b57ce7-fd23-42b0-d777-e8ec09057f18"
   },
   "outputs": [
    {
     "name": "stdout",
     "output_type": "stream",
     "text": [
      "time_step 0 (24, 5) 140\n",
      "time_step 1 (24, 5) 140\n",
      "time_step 2 (24, 5) 140\n",
      "time_step 3 (24, 5) 140\n",
      "time_step 4 (24, 5) 140\n",
      "time_step 5 (24, 5) 140\n",
      "time_step 6 (24, 5) 140\n",
      "time_step 7 (24, 5) 140\n",
      "time_step 8 (24, 5) 140\n",
      "time_step 9 (24, 5) 140\n",
      "time_step 10 (24, 5) 140\n",
      "time_step 11 (24, 5) 140\n",
      "time_step 12 (24, 5) 140\n",
      "time_step 13 (24, 5) 140\n",
      "time_step 14 (24, 5) 140\n",
      "time_step 15 (24, 5) 140\n",
      "time_step 16 (24, 5) 140\n",
      "time_step 17 (24, 5) 140\n",
      "time_step 18 (24, 5) 140\n",
      "time_step 19 (24, 5) 140\n",
      "time_step 20 (24, 5) 140\n",
      "time_step 21 (24, 5) 140\n",
      "time_step 22 (24, 5) 140\n",
      "time_step 23 (24, 5) 140\n",
      "time_step 24 (24, 5) 140\n",
      "time_step 25 (24, 5) 140\n",
      "time_step 26 (24, 5) 140\n",
      "time_step 27 (24, 5) 140\n",
      "time_step 28 (24, 5) 140\n",
      "time_step 29 (24, 5) 140\n",
      "time_step 30 (24, 5) 140\n",
      "time_step 31 (24, 5) 140\n",
      "time_step 32 (24, 5) 140\n",
      "time_step 33 (24, 5) 140\n",
      "time_step 34 (24, 5) 140\n",
      "time_step 35 (24, 5) 140\n",
      "time_step 36 (24, 5) 140\n",
      "time_step 37 (24, 5) 140\n",
      "time_step 38 (24, 5) 140\n",
      "time_step 39 (24, 5) 140\n",
      "time_step 40 (24, 5) 140\n",
      "time_step 41 (24, 5) 140\n",
      "time_step 42 (24, 5) 140\n",
      "time_step 43 (24, 5) 140\n",
      "time_step 44 (24, 5) 140\n",
      "time_step 45 (24, 5) 140\n",
      "time_step 46 (24, 5) 140\n",
      "time_step 47 (24, 5) 140\n",
      "time_step 48 (24, 5) 140\n",
      "time_step 49 (24, 5) 140\n",
      "time_step 50 (24, 5) 140\n",
      "time_step 51 (24, 5) 140\n",
      "time_step 52 (24, 5) 140\n",
      "time_step 53 (24, 5) 140\n",
      "time_step 54 (24, 5) 140\n",
      "time_step 55 (24, 5) 140\n",
      "time_step 56 (24, 5) 140\n",
      "time_step 57 (24, 5) 140\n",
      "time_step 58 (24, 5) 140\n",
      "time_step 59 (24, 5) 140\n",
      "time_step 60 (24, 5) 140\n",
      "time_step 61 (24, 5) 140\n",
      "time_step 62 (24, 5) 140\n",
      "time_step 63 (24, 5) 140\n",
      "time_step 64 (24, 5) 140\n",
      "time_step 65 (24, 5) 140\n",
      "time_step 66 (24, 5) 140\n",
      "time_step 67 (24, 5) 140\n",
      "time_step 68 (24, 5) 140\n",
      "time_step 69 (24, 5) 140\n",
      "time_step 70 (24, 5) 140\n",
      "time_step 71 (24, 5) 140\n",
      "time_step 72 (24, 5) 140\n",
      "time_step 73 (24, 5) 140\n",
      "time_step 74 (24, 5) 140\n",
      "time_step 75 (24, 5) 140\n",
      "time_step 76 (24, 5) 140\n",
      "time_step 77 (24, 5) 140\n",
      "time_step 78 (24, 5) 140\n",
      "time_step 79 (24, 5) 140\n",
      "time_step 80 (24, 5) 140\n",
      "time_step 81 (24, 5) 140\n",
      "time_step 82 (24, 5) 140\n",
      "time_step 83 (24, 5) 140\n",
      "time_step 84 (24, 5) 140\n",
      "time_step 85 (24, 5) 140\n",
      "time_step 86 (24, 5) 140\n",
      "time_step 87 (24, 5) 140\n",
      "time_step 88 (24, 5) 140\n",
      "time_step 89 (24, 5) 140\n",
      "time_step 90 (24, 5) 140\n",
      "time_step 91 (24, 5) 140\n",
      "time_step 92 (24, 5) 140\n",
      "time_step 93 (24, 5) 140\n",
      "time_step 94 (24, 5) 140\n",
      "time_step 95 (24, 5) 140\n",
      "time_step 96 (24, 5) 140\n",
      "time_step 97 (24, 5) 140\n",
      "time_step 98 (24, 5) 140\n",
      "time_step 99 (24, 5) 140\n",
      "time_step 100 (24, 5) 140\n",
      "time_step 101 (24, 5) 140\n",
      "time_step 102 (24, 5) 140\n",
      "time_step 103 (24, 5) 140\n",
      "time_step 104 (24, 5) 140\n",
      "time_step 105 (24, 5) 140\n",
      "time_step 106 (24, 5) 140\n",
      "time_step 107 (24, 5) 140\n",
      "time_step 108 (24, 5) 140\n",
      "time_step 109 (24, 5) 140\n",
      "time_step 110 (24, 5) 140\n",
      "time_step 111 (24, 5) 140\n",
      "time_step 112 (24, 5) 140\n",
      "time_step 113 (24, 5) 140\n",
      "time_step 114 (24, 5) 140\n",
      "time_step 115 (24, 5) 140\n",
      "time_step 116 (24, 5) 140\n",
      "time_step 117 (24, 5) 140\n",
      "time_step 118 (24, 5) 140\n",
      "time_step 119 (24, 5) 140\n",
      "time_step 120 (24, 5) 140\n",
      "time_step 121 (24, 5) 140\n",
      "time_step 122 (24, 5) 140\n",
      "time_step 123 (24, 5) 140\n",
      "time_step 124 (24, 5) 140\n",
      "time_step 125 (24, 5) 140\n",
      "time_step 126 (24, 5) 140\n",
      "time_step 127 (24, 5) 140\n",
      "time_step 128 (24, 5) 140\n",
      "time_step 129 (24, 5) 140\n",
      "time_step 130 (24, 5) 140\n",
      "time_step 131 (24, 5) 140\n",
      "time_step 132 (24, 5) 140\n",
      "time_step 133 (24, 5) 140\n",
      "time_step 134 (24, 5) 140\n",
      "time_step 135 (24, 5) 140\n",
      "time_step 136 (24, 5) 140\n",
      "time_step 137 (24, 5) 140\n",
      "time_step 138 (24, 5) 140\n",
      "time_step 139 (24, 5) 140\n",
      "time_step 140 (24, 5) 140\n"
     ]
    }
   ],
   "source": [
    "x_test2 = []\n",
    "y_test2 = []\n",
    "num_hours_in_day = 24\n",
    "i = 0\n",
    "\n",
    "for idx in range(0, len(testing_days2)):\n",
    "  time_step = []\n",
    "  if (idx == len(testing_days2) -1):\n",
    "    while(i < len(after_training_data) - 24):\n",
    "      hourly_data = test_x2[i:i+1,:][0]\n",
    "      time_step.append(hourly_data)\n",
    "      i = i + 1\n",
    "    while(len(time_step) < num_hours_in_day):\n",
    "      filler = np.zeros(len(hourly_data))\n",
    "      time_step.append(filler)\n",
    "  else:\n",
    "    next_date = testing_days2[idx]\n",
    "    while(next_date > test_days2['created_utc'][i]):\n",
    "      hourly_data = test_x2[i:i+1,:][0]\n",
    "      time_step.append(hourly_data)\n",
    "      i = i + 1\n",
    "    while(len(time_step) < num_hours_in_day):\n",
    "      filler = np.zeros(len(hourly_data))\n",
    "      time_step.append(filler)\n",
    "  time_step = np.array(time_step)\n",
    "  time_step = np.reshape(time_step, (24,5))\n",
    "  x_test2.append(time_step)\n",
    "  y_test2.append(scaled_prices_test[idx].tolist())\n",
    "  print('time_step',idx, time_step.shape, len(testing_days) -1)\n",
    "  # if(idx < 2):\n",
    "  #   print('time_step',idx, time_step)"
   ]
  },
  {
   "cell_type": "code",
   "execution_count": null,
   "metadata": {
    "colab": {},
    "colab_type": "code",
    "id": "ADokgLKkGXae"
   },
   "outputs": [],
   "source": [
    "# Convert the data into a np array\n",
    "x_test2 = np.array(x_test2)\n",
    "\n",
    "# Reshape data into 3 dimensions ( num samples, timesteps, num features )\n",
    "x_test2 = np.reshape(x_test2, (x_test2.shape[0], x_test2.shape[1], 5))"
   ]
  },
  {
   "cell_type": "code",
   "execution_count": null,
   "metadata": {
    "colab": {},
    "colab_type": "code",
    "id": "IwShjENCGfV1"
   },
   "outputs": [],
   "source": [
    "# Get the models predicted price values \n",
    "predictions2 = model2.predict(x_test2)\n",
    "\n",
    "# Inverse transform \n",
    "predictions2 = priceScaler.inverse_transform(predictions2)"
   ]
  },
  {
   "cell_type": "code",
   "execution_count": 142,
   "metadata": {
    "colab": {
     "base_uri": "https://localhost:8080/",
     "height": 35
    },
    "colab_type": "code",
    "id": "slrqfbDNKDta",
    "outputId": "528fefe9-9bce-41cd-9eb2-b0d7731e32ce"
   },
   "outputs": [
    {
     "data": {
      "text/plain": [
       "852.9317932274272"
      ]
     },
     "execution_count": 142,
     "metadata": {
      "tags": []
     },
     "output_type": "execute_result"
    }
   ],
   "source": [
    "# Evaluate model with root mean square error (RMSE)\n",
    "rmse2 = np.sqrt(np.mean((predictions2-y_test2)**2))\n",
    "rmse2"
   ]
  },
  {
   "cell_type": "code",
   "execution_count": 143,
   "metadata": {
    "colab": {
     "base_uri": "https://localhost:8080/",
     "height": 577
    },
    "colab_type": "code",
    "id": "jJlE5v6DKFLB",
    "outputId": "b666ef1e-703c-47c1-d2fa-5b54e9d3e91d"
   },
   "outputs": [
    {
     "name": "stderr",
     "output_type": "stream",
     "text": [
      "/usr/local/lib/python3.6/dist-packages/ipykernel_launcher.py:1: SettingWithCopyWarning: \n",
      "A value is trying to be set on a copy of a slice from a DataFrame.\n",
      "Try using .loc[row_indexer,col_indexer] = value instead\n",
      "\n",
      "See the caveats in the documentation: https://pandas.pydata.org/pandas-docs/stable/user_guide/indexing.html#returning-a-view-versus-a-copy\n",
      "  \"\"\"Entry point for launching an IPython kernel.\n",
      "/usr/local/lib/python3.6/dist-packages/ipykernel_launcher.py:2: SettingWithCopyWarning: \n",
      "A value is trying to be set on a copy of a slice from a DataFrame.\n",
      "Try using .loc[row_indexer,col_indexer] = value instead\n",
      "\n",
      "See the caveats in the documentation: https://pandas.pydata.org/pandas-docs/stable/user_guide/indexing.html#returning-a-view-versus-a-copy\n",
      "  \n",
      "/usr/local/lib/python3.6/dist-packages/ipykernel_launcher.py:3: SettingWithCopyWarning: \n",
      "A value is trying to be set on a copy of a slice from a DataFrame.\n",
      "Try using .loc[row_indexer,col_indexer] = value instead\n",
      "\n",
      "See the caveats in the documentation: https://pandas.pydata.org/pandas-docs/stable/user_guide/indexing.html#returning-a-view-versus-a-copy\n",
      "  This is separate from the ipykernel package so we can avoid doing imports until\n",
      "/usr/local/lib/python3.6/dist-packages/ipykernel_launcher.py:4: SettingWithCopyWarning: \n",
      "A value is trying to be set on a copy of a slice from a DataFrame.\n",
      "Try using .loc[row_indexer,col_indexer] = value instead\n",
      "\n",
      "See the caveats in the documentation: https://pandas.pydata.org/pandas-docs/stable/user_guide/indexing.html#returning-a-view-versus-a-copy\n",
      "  after removing the cwd from sys.path.\n",
      "/usr/local/lib/python3.6/dist-packages/ipykernel_launcher.py:5: SettingWithCopyWarning: \n",
      "A value is trying to be set on a copy of a slice from a DataFrame.\n",
      "Try using .loc[row_indexer,col_indexer] = value instead\n",
      "\n",
      "See the caveats in the documentation: https://pandas.pydata.org/pandas-docs/stable/user_guide/indexing.html#returning-a-view-versus-a-copy\n",
      "  \"\"\"\n"
     ]
    }
   ],
   "source": [
    "appleValid['Predictions2'] = predictions2[:,:1]\n",
    "amazonValid[\"Predictions2\"] = predictions2[:,1:2]\n",
    "boeValid['Predictions2'] = predictions2[:, 2:3]\n",
    "spyValid[\"Predictions2\"] = predictions2[:, 3:4]\n",
    "teslaValid[\"Predictions2\"] = predictions2[:, 4:5]"
   ]
  },
  {
   "cell_type": "code",
   "execution_count": 151,
   "metadata": {
    "colab": {
     "base_uri": "https://localhost:8080/",
     "height": 536
    },
    "colab_type": "code",
    "id": "zBXwEAQ1KQSq",
    "outputId": "ac54efbb-4d9f-43bc-e0ab-845e44b8571f"
   },
   "outputs": [
    {
     "data": {
      "image/png": "[encoded data removed]",
      "text/plain": [
       "<Figure size 1152x576 with 1 Axes>"
      ]
     },
     "metadata": {
      "needs_background": "light",
      "tags": []
     },
     "output_type": "display_data"
    }
   ],
   "source": [
    "# Visualize data\n",
    "plt.figure(figsize=(16,8))\n",
    "plt.title('Stock Prediction with and without Reddit word vector data \\n (SPY)')\n",
    "plt.xlabel('Date', fontsize=18)\n",
    "plt.ylabel('Close Price USD ($)', fontsize=18)\n",
    "# plt.plot(appleTest)\n",
    "# plt.plot(appleValid)\n",
    "# plt.plot(appleValid['Predictions'], color='red')\n",
    "# plt.plot(appleValid['Predictions2'], color='green')\n",
    "# plt.plot(amazonTest)\n",
    "# plt.plot(amazonValid)\n",
    "# plt.plot(amazonValid['Predictions'], color='red')\n",
    "# plt.plot(amazonValid['Predictions2'], color='green')\n",
    "# plt.plot(boeTest)\n",
    "# plt.plot(boeValid)\n",
    "# plt.plot(boeValid['Predictions'], color='red')\n",
    "# plt.plot(boeValid['Predictions2'], color='green')\n",
    "# plt.plot(spyTest, label='Train')\n",
    "plt.plot(spyValid[1:], label='Actual')\n",
    "# plt.plot(spyValid['Predictions'][1:], label='Prediction with vector', color='orange')\n",
    "plt.plot(spyValid['Predictions2'][1:], label='Prediction without vector', color='green')\n",
    "\n",
    "# plt.plot(teslaTest, label='Train')\n",
    "# plt.plot(teslaValid, label=\"Actual\")\n",
    "# plt.plot(teslaValid['Predictions'], label=\"vector prediction\", color='red')\n",
    "# plt.plot(teslaValid['Predictions2'], label=\"without vector prediction\", color=\"green\")\n",
    "plt.legend(('Validation', 'Prediction with vector', 'Prediction without'), title=\"Legend\",)\n",
    "plt.show()"
   ]
  },
  {
   "cell_type": "code",
   "execution_count": null,
   "metadata": {
    "colab": {},
    "colab_type": "code",
    "id": "HtF9-qHOKSzZ"
   },
   "outputs": [],
   "source": []
  }
 ],
 "metadata": {
  "colab": {
   "collapsed_sections": [],
   "name": "hourly_date_day_prediction.ipynb",
   "provenance": []
  },
  "kernelspec": {
   "display_name": "Python 3",
   "language": "python",
   "name": "python3"
  },
  "language_info": {
   "codemirror_mode": {
    "name": "ipython",
    "version": 3
   },
   "file_extension": ".py",
   "mimetype": "text/x-python",
   "name": "python",
   "nbconvert_exporter": "python",
   "pygments_lexer": "ipython3",
   "version": "3.7.9"
  }
 },
 "nbformat": 4,
 "nbformat_minor": 4
}
