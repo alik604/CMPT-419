{
 "cells": [
  {
   "cell_type": "code",
   "execution_count": 11,
   "metadata": {
    "colab": {
     "base_uri": "https://localhost:8080/",
     "height": 505
    },
    "colab_type": "code",
    "id": "oUHOHTSxd3qP",
    "outputId": "ebbaecfe-daa8-40df-9b6f-8e1902ef0338"
   },
   "outputs": [],
   "source": [
    "# Import required Libraries\n",
    "# !pip install fastparquet\n",
    "import math\n",
    "import pandas_datareader as web\n",
    "import numpy as np \n",
    "import pandas as pd\n",
    "from sklearn.preprocessing import MinMaxScaler\n",
    "from tensorflow.keras.models import Sequential \n",
    "from tensorflow.keras.layers import Dense, LSTM\n",
    "import matplotlib.pyplot as plt\n",
    "import datetime"
   ]
  },
  {
   "cell_type": "code",
   "execution_count": 12,
   "metadata": {
    "colab": {},
    "colab_type": "code",
    "id": "RTE3PctJd6BJ"
   },
   "outputs": [],
   "source": [
    "stocks = pd.read_parquet('https://github.com/ddkpham/Stock_Prediction_NLP_ML/blob/master/wsb.hourly.joined.parquet.gz?raw=true')"
   ]
  },
  {
   "cell_type": "code",
   "execution_count": 13,
   "metadata": {
    "colab": {
     "base_uri": "https://localhost:8080/",
     "height": 820
    },
    "colab_type": "code",
    "id": "sroahLVGd_Ev",
    "outputId": "7b8a502d-04ba-465a-d520-32741ee2479e"
   },
   "outputs": [
    {
     "data": {
      "text/html": [
       "<div>\n",
       "<style scoped>\n",
       "    .dataframe tbody tr th:only-of-type {\n",
       "        vertical-align: middle;\n",
       "    }\n",
       "\n",
       "    .dataframe tbody tr th {\n",
       "        vertical-align: top;\n",
       "    }\n",
       "\n",
       "    .dataframe thead th {\n",
       "        text-align: right;\n",
       "    }\n",
       "</style>\n",
       "<table border=\"1\" class=\"dataframe\">\n",
       "  <thead>\n",
       "    <tr style=\"text-align: right;\">\n",
       "      <th></th>\n",
       "      <th>score</th>\n",
       "      <th>gilded</th>\n",
       "      <th>wordcount</th>\n",
       "      <th>0</th>\n",
       "      <th>1</th>\n",
       "      <th>2</th>\n",
       "      <th>3</th>\n",
       "      <th>4</th>\n",
       "      <th>5</th>\n",
       "      <th>6</th>\n",
       "      <th>...</th>\n",
       "      <th>20</th>\n",
       "      <th>21</th>\n",
       "      <th>22</th>\n",
       "      <th>23</th>\n",
       "      <th>24</th>\n",
       "      <th>AAPL_StockPrice</th>\n",
       "      <th>AMZN_StockPrice</th>\n",
       "      <th>BA_StockPrice</th>\n",
       "      <th>SPY_StockPrice</th>\n",
       "      <th>TSLA_StockPrice</th>\n",
       "    </tr>\n",
       "    <tr>\n",
       "      <th>created_utc</th>\n",
       "      <th></th>\n",
       "      <th></th>\n",
       "      <th></th>\n",
       "      <th></th>\n",
       "      <th></th>\n",
       "      <th></th>\n",
       "      <th></th>\n",
       "      <th></th>\n",
       "      <th></th>\n",
       "      <th></th>\n",
       "      <th></th>\n",
       "      <th></th>\n",
       "      <th></th>\n",
       "      <th></th>\n",
       "      <th></th>\n",
       "      <th></th>\n",
       "      <th></th>\n",
       "      <th></th>\n",
       "      <th></th>\n",
       "      <th></th>\n",
       "      <th></th>\n",
       "    </tr>\n",
       "  </thead>\n",
       "  <tbody>\n",
       "    <tr>\n",
       "      <th>2017-01-03 00:00:00</th>\n",
       "      <td>10.600000</td>\n",
       "      <td>0.0</td>\n",
       "      <td>15.127273</td>\n",
       "      <td>-0.004773</td>\n",
       "      <td>0.096914</td>\n",
       "      <td>-0.028997</td>\n",
       "      <td>-0.013654</td>\n",
       "      <td>-0.040472</td>\n",
       "      <td>-0.028197</td>\n",
       "      <td>0.125876</td>\n",
       "      <td>...</td>\n",
       "      <td>0.034497</td>\n",
       "      <td>0.012236</td>\n",
       "      <td>0.022241</td>\n",
       "      <td>0.046725</td>\n",
       "      <td>-0.052190</td>\n",
       "      <td>116.01</td>\n",
       "      <td>757.76</td>\n",
       "      <td>155.68</td>\n",
       "      <td>224.86</td>\n",
       "      <td>214.3</td>\n",
       "    </tr>\n",
       "    <tr>\n",
       "      <th>2017-01-03 01:00:00</th>\n",
       "      <td>6.126761</td>\n",
       "      <td>0.0</td>\n",
       "      <td>14.957746</td>\n",
       "      <td>-0.018255</td>\n",
       "      <td>0.086793</td>\n",
       "      <td>-0.015693</td>\n",
       "      <td>-0.014463</td>\n",
       "      <td>-0.047337</td>\n",
       "      <td>-0.039189</td>\n",
       "      <td>0.151025</td>\n",
       "      <td>...</td>\n",
       "      <td>0.004107</td>\n",
       "      <td>0.018103</td>\n",
       "      <td>0.037762</td>\n",
       "      <td>0.030239</td>\n",
       "      <td>-0.058607</td>\n",
       "      <td>116.01</td>\n",
       "      <td>757.76</td>\n",
       "      <td>155.68</td>\n",
       "      <td>224.86</td>\n",
       "      <td>214.3</td>\n",
       "    </tr>\n",
       "    <tr>\n",
       "      <th>2017-01-03 02:00:00</th>\n",
       "      <td>5.150685</td>\n",
       "      <td>0.0</td>\n",
       "      <td>18.753425</td>\n",
       "      <td>-0.013361</td>\n",
       "      <td>0.085355</td>\n",
       "      <td>-0.045373</td>\n",
       "      <td>-0.029794</td>\n",
       "      <td>-0.013735</td>\n",
       "      <td>-0.030920</td>\n",
       "      <td>0.150325</td>\n",
       "      <td>...</td>\n",
       "      <td>-0.003617</td>\n",
       "      <td>0.002007</td>\n",
       "      <td>0.037377</td>\n",
       "      <td>0.017159</td>\n",
       "      <td>-0.064736</td>\n",
       "      <td>116.01</td>\n",
       "      <td>757.76</td>\n",
       "      <td>155.68</td>\n",
       "      <td>224.86</td>\n",
       "      <td>214.3</td>\n",
       "    </tr>\n",
       "    <tr>\n",
       "      <th>2017-01-03 03:00:00</th>\n",
       "      <td>5.723404</td>\n",
       "      <td>0.0</td>\n",
       "      <td>16.893617</td>\n",
       "      <td>-0.008933</td>\n",
       "      <td>0.079429</td>\n",
       "      <td>-0.009839</td>\n",
       "      <td>-0.026562</td>\n",
       "      <td>-0.041718</td>\n",
       "      <td>-0.015318</td>\n",
       "      <td>0.154539</td>\n",
       "      <td>...</td>\n",
       "      <td>-0.007581</td>\n",
       "      <td>0.005232</td>\n",
       "      <td>0.022578</td>\n",
       "      <td>0.016312</td>\n",
       "      <td>-0.054883</td>\n",
       "      <td>116.01</td>\n",
       "      <td>757.76</td>\n",
       "      <td>155.68</td>\n",
       "      <td>224.86</td>\n",
       "      <td>214.3</td>\n",
       "    </tr>\n",
       "    <tr>\n",
       "      <th>2017-01-03 04:00:00</th>\n",
       "      <td>1.516667</td>\n",
       "      <td>0.0</td>\n",
       "      <td>19.700000</td>\n",
       "      <td>-0.015290</td>\n",
       "      <td>0.079454</td>\n",
       "      <td>-0.002097</td>\n",
       "      <td>-0.019933</td>\n",
       "      <td>-0.023108</td>\n",
       "      <td>-0.015315</td>\n",
       "      <td>0.154939</td>\n",
       "      <td>...</td>\n",
       "      <td>-0.011684</td>\n",
       "      <td>0.011437</td>\n",
       "      <td>0.028106</td>\n",
       "      <td>0.017372</td>\n",
       "      <td>-0.061380</td>\n",
       "      <td>116.01</td>\n",
       "      <td>757.76</td>\n",
       "      <td>155.68</td>\n",
       "      <td>224.86</td>\n",
       "      <td>214.3</td>\n",
       "    </tr>\n",
       "  </tbody>\n",
       "</table>\n",
       "<p>5 rows × 33 columns</p>\n",
       "</div>"
      ],
      "text/plain": [
       "                         score  gilded  wordcount         0         1  \\\n",
       "created_utc                                                             \n",
       "2017-01-03 00:00:00  10.600000     0.0  15.127273 -0.004773  0.096914   \n",
       "2017-01-03 01:00:00   6.126761     0.0  14.957746 -0.018255  0.086793   \n",
       "2017-01-03 02:00:00   5.150685     0.0  18.753425 -0.013361  0.085355   \n",
       "2017-01-03 03:00:00   5.723404     0.0  16.893617 -0.008933  0.079429   \n",
       "2017-01-03 04:00:00   1.516667     0.0  19.700000 -0.015290  0.079454   \n",
       "\n",
       "                            2         3         4         5         6  ...  \\\n",
       "created_utc                                                            ...   \n",
       "2017-01-03 00:00:00 -0.028997 -0.013654 -0.040472 -0.028197  0.125876  ...   \n",
       "2017-01-03 01:00:00 -0.015693 -0.014463 -0.047337 -0.039189  0.151025  ...   \n",
       "2017-01-03 02:00:00 -0.045373 -0.029794 -0.013735 -0.030920  0.150325  ...   \n",
       "2017-01-03 03:00:00 -0.009839 -0.026562 -0.041718 -0.015318  0.154539  ...   \n",
       "2017-01-03 04:00:00 -0.002097 -0.019933 -0.023108 -0.015315  0.154939  ...   \n",
       "\n",
       "                           20        21        22        23        24  \\\n",
       "created_utc                                                             \n",
       "2017-01-03 00:00:00  0.034497  0.012236  0.022241  0.046725 -0.052190   \n",
       "2017-01-03 01:00:00  0.004107  0.018103  0.037762  0.030239 -0.058607   \n",
       "2017-01-03 02:00:00 -0.003617  0.002007  0.037377  0.017159 -0.064736   \n",
       "2017-01-03 03:00:00 -0.007581  0.005232  0.022578  0.016312 -0.054883   \n",
       "2017-01-03 04:00:00 -0.011684  0.011437  0.028106  0.017372 -0.061380   \n",
       "\n",
       "                     AAPL_StockPrice  AMZN_StockPrice  BA_StockPrice  \\\n",
       "created_utc                                                            \n",
       "2017-01-03 00:00:00           116.01           757.76         155.68   \n",
       "2017-01-03 01:00:00           116.01           757.76         155.68   \n",
       "2017-01-03 02:00:00           116.01           757.76         155.68   \n",
       "2017-01-03 03:00:00           116.01           757.76         155.68   \n",
       "2017-01-03 04:00:00           116.01           757.76         155.68   \n",
       "\n",
       "                     SPY_StockPrice  TSLA_StockPrice  \n",
       "created_utc                                           \n",
       "2017-01-03 00:00:00          224.86            214.3  \n",
       "2017-01-03 01:00:00          224.86            214.3  \n",
       "2017-01-03 02:00:00          224.86            214.3  \n",
       "2017-01-03 03:00:00          224.86            214.3  \n",
       "2017-01-03 04:00:00          224.86            214.3  \n",
       "\n",
       "[5 rows x 33 columns]"
      ]
     },
     "execution_count": 13,
     "metadata": {},
     "output_type": "execute_result"
    }
   ],
   "source": [
    "stocks = stocks.set_index('created_utc')\n",
    "stocks.head(5)"
   ]
  },
  {
   "cell_type": "code",
   "execution_count": 14,
   "metadata": {
    "colab": {
     "base_uri": "https://localhost:8080/",
     "height": 251
    },
    "colab_type": "code",
    "id": "ZmzpBEAweAnY",
    "outputId": "0eb33ee8-0e7c-405c-960f-b6070abf0dc5"
   },
   "outputs": [
    {
     "data": {
      "text/plain": [
       "array([[1.06000000e+01, 0.00000000e+00, 1.51272727e+01, ...,\n",
       "        1.55680000e+02, 2.24860000e+02, 2.14300000e+02],\n",
       "       [6.12676056e+00, 0.00000000e+00, 1.49577465e+01, ...,\n",
       "        1.55680000e+02, 2.24860000e+02, 2.14300000e+02],\n",
       "       [5.15068493e+00, 0.00000000e+00, 1.87534247e+01, ...,\n",
       "        1.55680000e+02, 2.24860000e+02, 2.14300000e+02],\n",
       "       ...,\n",
       "       [7.10147601e+00, 1.84501845e-03, 1.74298893e+01, ...,\n",
       "        3.40090000e+02, 3.03330000e+02, 3.14600000e+02],\n",
       "       [6.61122661e+00, 0.00000000e+00, 1.62993763e+01, ...,\n",
       "        3.40090000e+02, 3.03330000e+02, 3.14600000e+02],\n",
       "       [4.51340996e+00, 0.00000000e+00, 1.44923372e+01, ...,\n",
       "        3.40090000e+02, 3.03330000e+02, 3.14600000e+02]])"
      ]
     },
     "execution_count": 14,
     "metadata": {},
     "output_type": "execute_result"
    }
   ],
   "source": [
    "dataset = stocks.values\n",
    "dataset"
   ]
  },
  {
   "cell_type": "code",
   "execution_count": 15,
   "metadata": {
    "colab": {
     "base_uri": "https://localhost:8080/",
     "height": 143
    },
    "colab_type": "code",
    "id": "Hf6UAvHuk8yS",
    "outputId": "6de03dfe-b3eb-4312-c30b-4fcfd6ef949b"
   },
   "outputs": [
    {
     "data": {
      "text/plain": [
       "array([[ 116.01,  757.76,  155.68,  224.86,  214.3 ],\n",
       "       [ 116.01,  757.76,  155.68,  224.86,  214.3 ],\n",
       "       [ 116.01,  757.76,  155.68,  224.86,  214.3 ],\n",
       "       ...,\n",
       "       [ 248.56, 1776.99,  340.09,  303.33,  314.6 ],\n",
       "       [ 248.56, 1776.99,  340.09,  303.33,  314.6 ],\n",
       "       [ 248.56, 1776.99,  340.09,  303.33,  314.6 ]])"
      ]
     },
     "execution_count": 15,
     "metadata": {},
     "output_type": "execute_result"
    }
   ],
   "source": [
    "price_data = stocks.filter(['AAPL_StockPrice', 'AMZN_StockPrice', 'BA_StockPrice', 'SPY_StockPrice', 'TSLA_StockPrice'])\n",
    "price_dataset = price_data.values\n",
    "price_dataset"
   ]
  },
  {
   "cell_type": "code",
   "execution_count": 16,
   "metadata": {
    "colab": {},
    "colab_type": "code",
    "id": "M6W5KfgalNWk"
   },
   "outputs": [],
   "source": [
    "# set training set len\n",
    "training_data_len = math.ceil(len(dataset) * 0.8)"
   ]
  },
  {
   "cell_type": "code",
   "execution_count": 17,
   "metadata": {
    "colab": {},
    "colab_type": "code",
    "id": "HOhnxWfslZg-"
   },
   "outputs": [],
   "source": [
    "# Scale datasets \n",
    "scaler = MinMaxScaler(feature_range=(0,1))\n",
    "price_scaler = MinMaxScaler(feature_range=(0,1))\n",
    "\n",
    "scaled_dataset = scaler.fit_transform(dataset)\n",
    "scaled_price_dataset = price_scaler.fit_transform(price_dataset)"
   ]
  },
  {
   "cell_type": "code",
   "execution_count": 18,
   "metadata": {
    "colab": {
     "base_uri": "https://localhost:8080/",
     "height": 73
    },
    "colab_type": "code",
    "id": "7TsUz7asluqX",
    "outputId": "7e530aa7-6d03-4c88-89bf-e9f9c5e794f2"
   },
   "outputs": [
    {
     "name": "stdout",
     "output_type": "stream",
     "text": [
      "[[0.010926312649164549, 0.021618826362464594, 0.010530677070745398, 0.02366032000455842, 0.21612732335951912]]\n",
      "[[0.010926312649164549, 0.021618826362464594, 0.010530677070745398, 0.02366032000455842, 0.21612732335951912], [0.009396628878281632, 0.022344342134714368, 0.01102095777371126, 0.02477514582541085, 0.2183464545366125]]\n"
     ]
    }
   ],
   "source": [
    "# Split data into x_train, y_train \n",
    "train_features = np.array(scaled_dataset[0:training_data_len,:])\n",
    "train_values = np.array(scaled_price_dataset[0:training_data_len, :])\n",
    "x_train = []\n",
    "y_train = []\n",
    "for i in range(60, len(train_features)):\n",
    "  x_train.append(train_features[i-60:i, :])\n",
    "  y_train.append(train_values[i:i+1,:][0].tolist())\n",
    "  if(i < 62):\n",
    "    print(y_train)"
   ]
  },
  {
   "cell_type": "code",
   "execution_count": 19,
   "metadata": {
    "colab": {
     "base_uri": "https://localhost:8080/",
     "height": 161
    },
    "colab_type": "code",
    "id": "gXxNhADlmsgj",
    "outputId": "baaabd4f-aa35-446b-cbdb-5f0be9f26d5b"
   },
   "outputs": [
    {
     "name": "stdout",
     "output_type": "stream",
     "text": [
      "[[0.01092631 0.02161883 0.01053068 0.02366032 0.21612732]\n",
      " [0.00939663 0.02234434 0.01102096 0.02477515 0.21834645]\n",
      " [0.00809218 0.02339402 0.01112143 0.02477515 0.22986752]\n",
      " ...\n",
      " [0.6389469  0.85028133 0.72240445 0.79611074 0.4676446 ]\n",
      " [0.6389469  0.85028133 0.72240445 0.79611074 0.4676446 ]\n",
      " [0.6389469  0.85028133 0.72240445 0.79611074 0.4676446 ]] <class 'numpy.ndarray'>\n"
     ]
    },
    {
     "data": {
      "text/plain": [
       "(13558, 60, 33)"
      ]
     },
     "execution_count": 19,
     "metadata": {},
     "output_type": "execute_result"
    }
   ],
   "source": [
    "# Convert both x, y training sets to np array \n",
    "x_train, y_train = np.array(x_train), np.array(y_train)\n",
    "print(y_train, type(y_train))\n",
    "# Reshape the data // LSTM network expects 3 dimensional input in the form of \n",
    "# (number of samples, number of timesteps, number of features)\n",
    "x_train = np.reshape(x_train, (x_train.shape[0], x_train.shape[1], 33))\n",
    "x_train.shape"
   ]
  },
  {
   "cell_type": "code",
   "execution_count": 25,
   "metadata": {},
   "outputs": [
    {
     "data": {
      "text/plain": [
       "60"
      ]
     },
     "execution_count": 25,
     "metadata": {},
     "output_type": "execute_result"
    }
   ],
   "source": [
    "x_train.shape[1]"
   ]
  },
  {
   "cell_type": "code",
   "execution_count": 27,
   "metadata": {
    "colab": {},
    "colab_type": "code",
    "id": "4SZctONSm6Hh"
   },
   "outputs": [],
   "source": [
    "# Declare the LSTM model architecture \n",
    "model = Sequential()\n",
    "\n",
    "# Add layers , input shape expected is (number of timesteps, number of features)\n",
    "model.add(LSTM(75, return_sequences=True, input_shape=(x_train.shape[1], 33)))\n",
    "model.add(LSTM(50, return_sequences=False))\n",
    "model.add(Dense(25))\n",
    "model.add(Dense(5))"
   ]
  },
  {
   "cell_type": "code",
   "execution_count": 28,
   "metadata": {
    "colab": {},
    "colab_type": "code",
    "id": "2geX-KQ_m9RC"
   },
   "outputs": [],
   "source": [
    "# Compile Model \n",
    "model.compile(optimizer='adam', loss='mean_squared_error')"
   ]
  },
  {
   "cell_type": "code",
   "execution_count": 29,
   "metadata": {
    "colab": {
     "base_uri": "https://localhost:8080/",
     "height": 1000
    },
    "colab_type": "code",
    "id": "dhqajVMLnBJp",
    "outputId": "61a99532-bdca-4972-bbd5-cc69a8b9b0ef"
   },
   "outputs": [
    {
     "name": "stdout",
     "output_type": "stream",
     "text": [
      "Epoch 1/100\n"
     ]
    },
    {
     "ename": "NotImplementedError",
     "evalue": "in user code:\n\n    c:\\users\\kali\\appdata\\local\\programs\\python\\python37\\lib\\site-packages\\tensorflow\\python\\keras\\engine\\training.py:805 train_function  *\n        return step_function(self, iterator)\n    c:\\users\\kali\\appdata\\local\\programs\\python\\python37\\lib\\site-packages\\tensorflow\\python\\keras\\engine\\training.py:795 step_function  **\n        outputs = model.distribute_strategy.run(run_step, args=(data,))\n    c:\\users\\kali\\appdata\\local\\programs\\python\\python37\\lib\\site-packages\\tensorflow\\python\\distribute\\distribute_lib.py:1259 run\n        return self._extended.call_for_each_replica(fn, args=args, kwargs=kwargs)\n    c:\\users\\kali\\appdata\\local\\programs\\python\\python37\\lib\\site-packages\\tensorflow\\python\\distribute\\distribute_lib.py:2730 call_for_each_replica\n        return self._call_for_each_replica(fn, args, kwargs)\n    c:\\users\\kali\\appdata\\local\\programs\\python\\python37\\lib\\site-packages\\tensorflow\\python\\distribute\\distribute_lib.py:3417 _call_for_each_replica\n        return fn(*args, **kwargs)\n    c:\\users\\kali\\appdata\\local\\programs\\python\\python37\\lib\\site-packages\\tensorflow\\python\\keras\\engine\\training.py:788 run_step  **\n        outputs = model.train_step(data)\n    c:\\users\\kali\\appdata\\local\\programs\\python\\python37\\lib\\site-packages\\tensorflow\\python\\keras\\engine\\training.py:754 train_step\n        y_pred = self(x, training=True)\n    c:\\users\\kali\\appdata\\local\\programs\\python\\python37\\lib\\site-packages\\tensorflow\\python\\keras\\engine\\base_layer.py:1012 __call__\n        outputs = call_fn(inputs, *args, **kwargs)\n    c:\\users\\kali\\appdata\\local\\programs\\python\\python37\\lib\\site-packages\\tensorflow\\python\\keras\\engine\\sequential.py:389 call\n        outputs = layer(inputs, **kwargs)\n    c:\\users\\kali\\appdata\\local\\programs\\python\\python37\\lib\\site-packages\\tensorflow\\python\\keras\\layers\\recurrent.py:660 __call__\n        return super(RNN, self).__call__(inputs, **kwargs)\n    c:\\users\\kali\\appdata\\local\\programs\\python\\python37\\lib\\site-packages\\tensorflow\\python\\keras\\engine\\base_layer.py:1012 __call__\n        outputs = call_fn(inputs, *args, **kwargs)\n    c:\\users\\kali\\appdata\\local\\programs\\python\\python37\\lib\\site-packages\\tensorflow\\python\\keras\\layers\\recurrent_v2.py:1157 call\n        inputs, initial_state, _ = self._process_inputs(inputs, initial_state, None)\n    c:\\users\\kali\\appdata\\local\\programs\\python\\python37\\lib\\site-packages\\tensorflow\\python\\keras\\layers\\recurrent.py:859 _process_inputs\n        initial_state = self.get_initial_state(inputs)\n    c:\\users\\kali\\appdata\\local\\programs\\python\\python37\\lib\\site-packages\\tensorflow\\python\\keras\\layers\\recurrent.py:643 get_initial_state\n        inputs=None, batch_size=batch_size, dtype=dtype)\n    c:\\users\\kali\\appdata\\local\\programs\\python\\python37\\lib\\site-packages\\tensorflow\\python\\keras\\layers\\recurrent.py:2507 get_initial_state\n        self, inputs, batch_size, dtype))\n    c:\\users\\kali\\appdata\\local\\programs\\python\\python37\\lib\\site-packages\\tensorflow\\python\\keras\\layers\\recurrent.py:2987 _generate_zero_filled_state_for_cell\n        return _generate_zero_filled_state(batch_size, cell.state_size, dtype)\n    c:\\users\\kali\\appdata\\local\\programs\\python\\python37\\lib\\site-packages\\tensorflow\\python\\keras\\layers\\recurrent.py:3003 _generate_zero_filled_state\n        return nest.map_structure(create_zeros, state_size)\n    c:\\users\\kali\\appdata\\local\\programs\\python\\python37\\lib\\site-packages\\tensorflow\\python\\util\\nest.py:659 map_structure\n        structure[0], [func(*x) for x in entries],\n    c:\\users\\kali\\appdata\\local\\programs\\python\\python37\\lib\\site-packages\\tensorflow\\python\\util\\nest.py:659 <listcomp>\n        structure[0], [func(*x) for x in entries],\n    c:\\users\\kali\\appdata\\local\\programs\\python\\python37\\lib\\site-packages\\tensorflow\\python\\keras\\layers\\recurrent.py:3000 create_zeros\n        return array_ops.zeros(init_state_size, dtype=dtype)\n    c:\\users\\kali\\appdata\\local\\programs\\python\\python37\\lib\\site-packages\\tensorflow\\python\\util\\dispatch.py:201 wrapper\n        return target(*args, **kwargs)\n    c:\\users\\kali\\appdata\\local\\programs\\python\\python37\\lib\\site-packages\\tensorflow\\python\\ops\\array_ops.py:2819 wrapped\n        tensor = fun(*args, **kwargs)\n    c:\\users\\kali\\appdata\\local\\programs\\python\\python37\\lib\\site-packages\\tensorflow\\python\\ops\\array_ops.py:2868 zeros\n        output = _constant_if_small(zero, shape, dtype, name)\n    c:\\users\\kali\\appdata\\local\\programs\\python\\python37\\lib\\site-packages\\tensorflow\\python\\ops\\array_ops.py:2804 _constant_if_small\n        if np.prod(shape) < 1000:\n    <__array_function__ internals>:6 prod\n        \n    c:\\users\\kali\\appdata\\local\\programs\\python\\python37\\lib\\site-packages\\numpy\\core\\fromnumeric.py:3031 prod\n        -------\n    c:\\users\\kali\\appdata\\local\\programs\\python\\python37\\lib\\site-packages\\numpy\\core\\fromnumeric.py:87 _wrapreduction\n        return ufunc.reduce(obj, axis, dtype, out, **passkwargs)\n    c:\\users\\kali\\appdata\\local\\programs\\python\\python37\\lib\\site-packages\\tensorflow\\python\\framework\\ops.py:855 __array__\n        \" a NumPy call, which is not supported\".format(self.name))\n\n    NotImplementedError: Cannot convert a symbolic Tensor (sequential_4/lstm_5/strided_slice:0) to a numpy array. This error may indicate that you're trying to pass a Tensor to a NumPy call, which is not supported\n",
     "output_type": "error",
     "traceback": [
      "\u001b[1;31m---------------------------------------------------------------------------\u001b[0m",
      "\u001b[1;31mNotImplementedError\u001b[0m                       Traceback (most recent call last)",
      "\u001b[1;32m<ipython-input-29-7150db4cf5de>\u001b[0m in \u001b[0;36m<module>\u001b[1;34m\u001b[0m\n\u001b[0;32m      1\u001b[0m \u001b[1;31m# Train the model\u001b[0m\u001b[1;33m\u001b[0m\u001b[1;33m\u001b[0m\u001b[1;33m\u001b[0m\u001b[0m\n\u001b[1;32m----> 2\u001b[1;33m \u001b[0mmodel\u001b[0m\u001b[1;33m.\u001b[0m\u001b[0mfit\u001b[0m\u001b[1;33m(\u001b[0m\u001b[0mx_train\u001b[0m\u001b[1;33m,\u001b[0m \u001b[0my_train\u001b[0m\u001b[1;33m,\u001b[0m \u001b[0mbatch_size\u001b[0m\u001b[1;33m=\u001b[0m\u001b[1;36m16\u001b[0m\u001b[1;33m,\u001b[0m \u001b[0mepochs\u001b[0m\u001b[1;33m=\u001b[0m\u001b[1;36m100\u001b[0m\u001b[1;33m)\u001b[0m\u001b[1;33m\u001b[0m\u001b[1;33m\u001b[0m\u001b[0m\n\u001b[0m",
      "\u001b[1;32mc:\\users\\kali\\appdata\\local\\programs\\python\\python37\\lib\\site-packages\\tensorflow\\python\\keras\\engine\\training.py\u001b[0m in \u001b[0;36mfit\u001b[1;34m(self, x, y, batch_size, epochs, verbose, callbacks, validation_split, validation_data, shuffle, class_weight, sample_weight, initial_epoch, steps_per_epoch, validation_steps, validation_batch_size, validation_freq, max_queue_size, workers, use_multiprocessing)\u001b[0m\n\u001b[0;32m   1098\u001b[0m                 _r=1):\n\u001b[0;32m   1099\u001b[0m               \u001b[0mcallbacks\u001b[0m\u001b[1;33m.\u001b[0m\u001b[0mon_train_batch_begin\u001b[0m\u001b[1;33m(\u001b[0m\u001b[0mstep\u001b[0m\u001b[1;33m)\u001b[0m\u001b[1;33m\u001b[0m\u001b[1;33m\u001b[0m\u001b[0m\n\u001b[1;32m-> 1100\u001b[1;33m               \u001b[0mtmp_logs\u001b[0m \u001b[1;33m=\u001b[0m \u001b[0mself\u001b[0m\u001b[1;33m.\u001b[0m\u001b[0mtrain_function\u001b[0m\u001b[1;33m(\u001b[0m\u001b[0miterator\u001b[0m\u001b[1;33m)\u001b[0m\u001b[1;33m\u001b[0m\u001b[1;33m\u001b[0m\u001b[0m\n\u001b[0m\u001b[0;32m   1101\u001b[0m               \u001b[1;32mif\u001b[0m \u001b[0mdata_handler\u001b[0m\u001b[1;33m.\u001b[0m\u001b[0mshould_sync\u001b[0m\u001b[1;33m:\u001b[0m\u001b[1;33m\u001b[0m\u001b[1;33m\u001b[0m\u001b[0m\n\u001b[0;32m   1102\u001b[0m                 \u001b[0mcontext\u001b[0m\u001b[1;33m.\u001b[0m\u001b[0masync_wait\u001b[0m\u001b[1;33m(\u001b[0m\u001b[1;33m)\u001b[0m\u001b[1;33m\u001b[0m\u001b[1;33m\u001b[0m\u001b[0m\n",
      "\u001b[1;32mc:\\users\\kali\\appdata\\local\\programs\\python\\python37\\lib\\site-packages\\tensorflow\\python\\eager\\def_function.py\u001b[0m in \u001b[0;36m__call__\u001b[1;34m(self, *args, **kwds)\u001b[0m\n\u001b[0;32m    826\u001b[0m     \u001b[0mtracing_count\u001b[0m \u001b[1;33m=\u001b[0m \u001b[0mself\u001b[0m\u001b[1;33m.\u001b[0m\u001b[0mexperimental_get_tracing_count\u001b[0m\u001b[1;33m(\u001b[0m\u001b[1;33m)\u001b[0m\u001b[1;33m\u001b[0m\u001b[1;33m\u001b[0m\u001b[0m\n\u001b[0;32m    827\u001b[0m     \u001b[1;32mwith\u001b[0m \u001b[0mtrace\u001b[0m\u001b[1;33m.\u001b[0m\u001b[0mTrace\u001b[0m\u001b[1;33m(\u001b[0m\u001b[0mself\u001b[0m\u001b[1;33m.\u001b[0m\u001b[0m_name\u001b[0m\u001b[1;33m)\u001b[0m \u001b[1;32mas\u001b[0m \u001b[0mtm\u001b[0m\u001b[1;33m:\u001b[0m\u001b[1;33m\u001b[0m\u001b[1;33m\u001b[0m\u001b[0m\n\u001b[1;32m--> 828\u001b[1;33m       \u001b[0mresult\u001b[0m \u001b[1;33m=\u001b[0m \u001b[0mself\u001b[0m\u001b[1;33m.\u001b[0m\u001b[0m_call\u001b[0m\u001b[1;33m(\u001b[0m\u001b[1;33m*\u001b[0m\u001b[0margs\u001b[0m\u001b[1;33m,\u001b[0m \u001b[1;33m**\u001b[0m\u001b[0mkwds\u001b[0m\u001b[1;33m)\u001b[0m\u001b[1;33m\u001b[0m\u001b[1;33m\u001b[0m\u001b[0m\n\u001b[0m\u001b[0;32m    829\u001b[0m       \u001b[0mcompiler\u001b[0m \u001b[1;33m=\u001b[0m \u001b[1;34m\"xla\"\u001b[0m \u001b[1;32mif\u001b[0m \u001b[0mself\u001b[0m\u001b[1;33m.\u001b[0m\u001b[0m_experimental_compile\u001b[0m \u001b[1;32melse\u001b[0m \u001b[1;34m\"nonXla\"\u001b[0m\u001b[1;33m\u001b[0m\u001b[1;33m\u001b[0m\u001b[0m\n\u001b[0;32m    830\u001b[0m       \u001b[0mnew_tracing_count\u001b[0m \u001b[1;33m=\u001b[0m \u001b[0mself\u001b[0m\u001b[1;33m.\u001b[0m\u001b[0mexperimental_get_tracing_count\u001b[0m\u001b[1;33m(\u001b[0m\u001b[1;33m)\u001b[0m\u001b[1;33m\u001b[0m\u001b[1;33m\u001b[0m\u001b[0m\n",
      "\u001b[1;32mc:\\users\\kali\\appdata\\local\\programs\\python\\python37\\lib\\site-packages\\tensorflow\\python\\eager\\def_function.py\u001b[0m in \u001b[0;36m_call\u001b[1;34m(self, *args, **kwds)\u001b[0m\n\u001b[0;32m    869\u001b[0m       \u001b[1;31m# This is the first call of __call__, so we have to initialize.\u001b[0m\u001b[1;33m\u001b[0m\u001b[1;33m\u001b[0m\u001b[1;33m\u001b[0m\u001b[0m\n\u001b[0;32m    870\u001b[0m       \u001b[0minitializers\u001b[0m \u001b[1;33m=\u001b[0m \u001b[1;33m[\u001b[0m\u001b[1;33m]\u001b[0m\u001b[1;33m\u001b[0m\u001b[1;33m\u001b[0m\u001b[0m\n\u001b[1;32m--> 871\u001b[1;33m       \u001b[0mself\u001b[0m\u001b[1;33m.\u001b[0m\u001b[0m_initialize\u001b[0m\u001b[1;33m(\u001b[0m\u001b[0margs\u001b[0m\u001b[1;33m,\u001b[0m \u001b[0mkwds\u001b[0m\u001b[1;33m,\u001b[0m \u001b[0madd_initializers_to\u001b[0m\u001b[1;33m=\u001b[0m\u001b[0minitializers\u001b[0m\u001b[1;33m)\u001b[0m\u001b[1;33m\u001b[0m\u001b[1;33m\u001b[0m\u001b[0m\n\u001b[0m\u001b[0;32m    872\u001b[0m     \u001b[1;32mfinally\u001b[0m\u001b[1;33m:\u001b[0m\u001b[1;33m\u001b[0m\u001b[1;33m\u001b[0m\u001b[0m\n\u001b[0;32m    873\u001b[0m       \u001b[1;31m# At this point we know that the initialization is complete (or less\u001b[0m\u001b[1;33m\u001b[0m\u001b[1;33m\u001b[0m\u001b[1;33m\u001b[0m\u001b[0m\n",
      "\u001b[1;32mc:\\users\\kali\\appdata\\local\\programs\\python\\python37\\lib\\site-packages\\tensorflow\\python\\eager\\def_function.py\u001b[0m in \u001b[0;36m_initialize\u001b[1;34m(self, args, kwds, add_initializers_to)\u001b[0m\n\u001b[0;32m    724\u001b[0m     self._concrete_stateful_fn = (\n\u001b[0;32m    725\u001b[0m         self._stateful_fn._get_concrete_function_internal_garbage_collected(  # pylint: disable=protected-access\n\u001b[1;32m--> 726\u001b[1;33m             *args, **kwds))\n\u001b[0m\u001b[0;32m    727\u001b[0m \u001b[1;33m\u001b[0m\u001b[0m\n\u001b[0;32m    728\u001b[0m     \u001b[1;32mdef\u001b[0m \u001b[0minvalid_creator_scope\u001b[0m\u001b[1;33m(\u001b[0m\u001b[1;33m*\u001b[0m\u001b[0munused_args\u001b[0m\u001b[1;33m,\u001b[0m \u001b[1;33m**\u001b[0m\u001b[0munused_kwds\u001b[0m\u001b[1;33m)\u001b[0m\u001b[1;33m:\u001b[0m\u001b[1;33m\u001b[0m\u001b[1;33m\u001b[0m\u001b[0m\n",
      "\u001b[1;32mc:\\users\\kali\\appdata\\local\\programs\\python\\python37\\lib\\site-packages\\tensorflow\\python\\eager\\function.py\u001b[0m in \u001b[0;36m_get_concrete_function_internal_garbage_collected\u001b[1;34m(self, *args, **kwargs)\u001b[0m\n\u001b[0;32m   2967\u001b[0m       \u001b[0margs\u001b[0m\u001b[1;33m,\u001b[0m \u001b[0mkwargs\u001b[0m \u001b[1;33m=\u001b[0m \u001b[1;32mNone\u001b[0m\u001b[1;33m,\u001b[0m \u001b[1;32mNone\u001b[0m\u001b[1;33m\u001b[0m\u001b[1;33m\u001b[0m\u001b[0m\n\u001b[0;32m   2968\u001b[0m     \u001b[1;32mwith\u001b[0m \u001b[0mself\u001b[0m\u001b[1;33m.\u001b[0m\u001b[0m_lock\u001b[0m\u001b[1;33m:\u001b[0m\u001b[1;33m\u001b[0m\u001b[1;33m\u001b[0m\u001b[0m\n\u001b[1;32m-> 2969\u001b[1;33m       \u001b[0mgraph_function\u001b[0m\u001b[1;33m,\u001b[0m \u001b[0m_\u001b[0m \u001b[1;33m=\u001b[0m \u001b[0mself\u001b[0m\u001b[1;33m.\u001b[0m\u001b[0m_maybe_define_function\u001b[0m\u001b[1;33m(\u001b[0m\u001b[0margs\u001b[0m\u001b[1;33m,\u001b[0m \u001b[0mkwargs\u001b[0m\u001b[1;33m)\u001b[0m\u001b[1;33m\u001b[0m\u001b[1;33m\u001b[0m\u001b[0m\n\u001b[0m\u001b[0;32m   2970\u001b[0m     \u001b[1;32mreturn\u001b[0m \u001b[0mgraph_function\u001b[0m\u001b[1;33m\u001b[0m\u001b[1;33m\u001b[0m\u001b[0m\n\u001b[0;32m   2971\u001b[0m \u001b[1;33m\u001b[0m\u001b[0m\n",
      "\u001b[1;32mc:\\users\\kali\\appdata\\local\\programs\\python\\python37\\lib\\site-packages\\tensorflow\\python\\eager\\function.py\u001b[0m in \u001b[0;36m_maybe_define_function\u001b[1;34m(self, args, kwargs)\u001b[0m\n\u001b[0;32m   3359\u001b[0m \u001b[1;33m\u001b[0m\u001b[0m\n\u001b[0;32m   3360\u001b[0m           \u001b[0mself\u001b[0m\u001b[1;33m.\u001b[0m\u001b[0m_function_cache\u001b[0m\u001b[1;33m.\u001b[0m\u001b[0mmissed\u001b[0m\u001b[1;33m.\u001b[0m\u001b[0madd\u001b[0m\u001b[1;33m(\u001b[0m\u001b[0mcall_context_key\u001b[0m\u001b[1;33m)\u001b[0m\u001b[1;33m\u001b[0m\u001b[1;33m\u001b[0m\u001b[0m\n\u001b[1;32m-> 3361\u001b[1;33m           \u001b[0mgraph_function\u001b[0m \u001b[1;33m=\u001b[0m \u001b[0mself\u001b[0m\u001b[1;33m.\u001b[0m\u001b[0m_create_graph_function\u001b[0m\u001b[1;33m(\u001b[0m\u001b[0margs\u001b[0m\u001b[1;33m,\u001b[0m \u001b[0mkwargs\u001b[0m\u001b[1;33m)\u001b[0m\u001b[1;33m\u001b[0m\u001b[1;33m\u001b[0m\u001b[0m\n\u001b[0m\u001b[0;32m   3362\u001b[0m           \u001b[0mself\u001b[0m\u001b[1;33m.\u001b[0m\u001b[0m_function_cache\u001b[0m\u001b[1;33m.\u001b[0m\u001b[0mprimary\u001b[0m\u001b[1;33m[\u001b[0m\u001b[0mcache_key\u001b[0m\u001b[1;33m]\u001b[0m \u001b[1;33m=\u001b[0m \u001b[0mgraph_function\u001b[0m\u001b[1;33m\u001b[0m\u001b[1;33m\u001b[0m\u001b[0m\n\u001b[0;32m   3363\u001b[0m \u001b[1;33m\u001b[0m\u001b[0m\n",
      "\u001b[1;32mc:\\users\\kali\\appdata\\local\\programs\\python\\python37\\lib\\site-packages\\tensorflow\\python\\eager\\function.py\u001b[0m in \u001b[0;36m_create_graph_function\u001b[1;34m(self, args, kwargs, override_flat_arg_shapes)\u001b[0m\n\u001b[0;32m   3204\u001b[0m             \u001b[0marg_names\u001b[0m\u001b[1;33m=\u001b[0m\u001b[0marg_names\u001b[0m\u001b[1;33m,\u001b[0m\u001b[1;33m\u001b[0m\u001b[1;33m\u001b[0m\u001b[0m\n\u001b[0;32m   3205\u001b[0m             \u001b[0moverride_flat_arg_shapes\u001b[0m\u001b[1;33m=\u001b[0m\u001b[0moverride_flat_arg_shapes\u001b[0m\u001b[1;33m,\u001b[0m\u001b[1;33m\u001b[0m\u001b[1;33m\u001b[0m\u001b[0m\n\u001b[1;32m-> 3206\u001b[1;33m             capture_by_value=self._capture_by_value),\n\u001b[0m\u001b[0;32m   3207\u001b[0m         \u001b[0mself\u001b[0m\u001b[1;33m.\u001b[0m\u001b[0m_function_attributes\u001b[0m\u001b[1;33m,\u001b[0m\u001b[1;33m\u001b[0m\u001b[1;33m\u001b[0m\u001b[0m\n\u001b[0;32m   3208\u001b[0m         \u001b[0mfunction_spec\u001b[0m\u001b[1;33m=\u001b[0m\u001b[0mself\u001b[0m\u001b[1;33m.\u001b[0m\u001b[0mfunction_spec\u001b[0m\u001b[1;33m,\u001b[0m\u001b[1;33m\u001b[0m\u001b[1;33m\u001b[0m\u001b[0m\n",
      "\u001b[1;32mc:\\users\\kali\\appdata\\local\\programs\\python\\python37\\lib\\site-packages\\tensorflow\\python\\framework\\func_graph.py\u001b[0m in \u001b[0;36mfunc_graph_from_py_func\u001b[1;34m(name, python_func, args, kwargs, signature, func_graph, autograph, autograph_options, add_control_dependencies, arg_names, op_return_value, collections, capture_by_value, override_flat_arg_shapes)\u001b[0m\n\u001b[0;32m    988\u001b[0m         \u001b[0m_\u001b[0m\u001b[1;33m,\u001b[0m \u001b[0moriginal_func\u001b[0m \u001b[1;33m=\u001b[0m \u001b[0mtf_decorator\u001b[0m\u001b[1;33m.\u001b[0m\u001b[0munwrap\u001b[0m\u001b[1;33m(\u001b[0m\u001b[0mpython_func\u001b[0m\u001b[1;33m)\u001b[0m\u001b[1;33m\u001b[0m\u001b[1;33m\u001b[0m\u001b[0m\n\u001b[0;32m    989\u001b[0m \u001b[1;33m\u001b[0m\u001b[0m\n\u001b[1;32m--> 990\u001b[1;33m       \u001b[0mfunc_outputs\u001b[0m \u001b[1;33m=\u001b[0m \u001b[0mpython_func\u001b[0m\u001b[1;33m(\u001b[0m\u001b[1;33m*\u001b[0m\u001b[0mfunc_args\u001b[0m\u001b[1;33m,\u001b[0m \u001b[1;33m**\u001b[0m\u001b[0mfunc_kwargs\u001b[0m\u001b[1;33m)\u001b[0m\u001b[1;33m\u001b[0m\u001b[1;33m\u001b[0m\u001b[0m\n\u001b[0m\u001b[0;32m    991\u001b[0m \u001b[1;33m\u001b[0m\u001b[0m\n\u001b[0;32m    992\u001b[0m       \u001b[1;31m# invariant: `func_outputs` contains only Tensors, CompositeTensors,\u001b[0m\u001b[1;33m\u001b[0m\u001b[1;33m\u001b[0m\u001b[1;33m\u001b[0m\u001b[0m\n",
      "\u001b[1;32mc:\\users\\kali\\appdata\\local\\programs\\python\\python37\\lib\\site-packages\\tensorflow\\python\\eager\\def_function.py\u001b[0m in \u001b[0;36mwrapped_fn\u001b[1;34m(*args, **kwds)\u001b[0m\n\u001b[0;32m    632\u001b[0m             \u001b[0mxla_context\u001b[0m\u001b[1;33m.\u001b[0m\u001b[0mExit\u001b[0m\u001b[1;33m(\u001b[0m\u001b[1;33m)\u001b[0m\u001b[1;33m\u001b[0m\u001b[1;33m\u001b[0m\u001b[0m\n\u001b[0;32m    633\u001b[0m         \u001b[1;32melse\u001b[0m\u001b[1;33m:\u001b[0m\u001b[1;33m\u001b[0m\u001b[1;33m\u001b[0m\u001b[0m\n\u001b[1;32m--> 634\u001b[1;33m           \u001b[0mout\u001b[0m \u001b[1;33m=\u001b[0m \u001b[0mweak_wrapped_fn\u001b[0m\u001b[1;33m(\u001b[0m\u001b[1;33m)\u001b[0m\u001b[1;33m.\u001b[0m\u001b[0m__wrapped__\u001b[0m\u001b[1;33m(\u001b[0m\u001b[1;33m*\u001b[0m\u001b[0margs\u001b[0m\u001b[1;33m,\u001b[0m \u001b[1;33m**\u001b[0m\u001b[0mkwds\u001b[0m\u001b[1;33m)\u001b[0m\u001b[1;33m\u001b[0m\u001b[1;33m\u001b[0m\u001b[0m\n\u001b[0m\u001b[0;32m    635\u001b[0m         \u001b[1;32mreturn\u001b[0m \u001b[0mout\u001b[0m\u001b[1;33m\u001b[0m\u001b[1;33m\u001b[0m\u001b[0m\n\u001b[0;32m    636\u001b[0m \u001b[1;33m\u001b[0m\u001b[0m\n",
      "\u001b[1;32mc:\\users\\kali\\appdata\\local\\programs\\python\\python37\\lib\\site-packages\\tensorflow\\python\\framework\\func_graph.py\u001b[0m in \u001b[0;36mwrapper\u001b[1;34m(*args, **kwargs)\u001b[0m\n\u001b[0;32m    975\u001b[0m           \u001b[1;32mexcept\u001b[0m \u001b[0mException\u001b[0m \u001b[1;32mas\u001b[0m \u001b[0me\u001b[0m\u001b[1;33m:\u001b[0m  \u001b[1;31m# pylint:disable=broad-except\u001b[0m\u001b[1;33m\u001b[0m\u001b[1;33m\u001b[0m\u001b[0m\n\u001b[0;32m    976\u001b[0m             \u001b[1;32mif\u001b[0m \u001b[0mhasattr\u001b[0m\u001b[1;33m(\u001b[0m\u001b[0me\u001b[0m\u001b[1;33m,\u001b[0m \u001b[1;34m\"ag_error_metadata\"\u001b[0m\u001b[1;33m)\u001b[0m\u001b[1;33m:\u001b[0m\u001b[1;33m\u001b[0m\u001b[1;33m\u001b[0m\u001b[0m\n\u001b[1;32m--> 977\u001b[1;33m               \u001b[1;32mraise\u001b[0m \u001b[0me\u001b[0m\u001b[1;33m.\u001b[0m\u001b[0mag_error_metadata\u001b[0m\u001b[1;33m.\u001b[0m\u001b[0mto_exception\u001b[0m\u001b[1;33m(\u001b[0m\u001b[0me\u001b[0m\u001b[1;33m)\u001b[0m\u001b[1;33m\u001b[0m\u001b[1;33m\u001b[0m\u001b[0m\n\u001b[0m\u001b[0;32m    978\u001b[0m             \u001b[1;32melse\u001b[0m\u001b[1;33m:\u001b[0m\u001b[1;33m\u001b[0m\u001b[1;33m\u001b[0m\u001b[0m\n\u001b[0;32m    979\u001b[0m               \u001b[1;32mraise\u001b[0m\u001b[1;33m\u001b[0m\u001b[1;33m\u001b[0m\u001b[0m\n",
      "\u001b[1;31mNotImplementedError\u001b[0m: in user code:\n\n    c:\\users\\kali\\appdata\\local\\programs\\python\\python37\\lib\\site-packages\\tensorflow\\python\\keras\\engine\\training.py:805 train_function  *\n        return step_function(self, iterator)\n    c:\\users\\kali\\appdata\\local\\programs\\python\\python37\\lib\\site-packages\\tensorflow\\python\\keras\\engine\\training.py:795 step_function  **\n        outputs = model.distribute_strategy.run(run_step, args=(data,))\n    c:\\users\\kali\\appdata\\local\\programs\\python\\python37\\lib\\site-packages\\tensorflow\\python\\distribute\\distribute_lib.py:1259 run\n        return self._extended.call_for_each_replica(fn, args=args, kwargs=kwargs)\n    c:\\users\\kali\\appdata\\local\\programs\\python\\python37\\lib\\site-packages\\tensorflow\\python\\distribute\\distribute_lib.py:2730 call_for_each_replica\n        return self._call_for_each_replica(fn, args, kwargs)\n    c:\\users\\kali\\appdata\\local\\programs\\python\\python37\\lib\\site-packages\\tensorflow\\python\\distribute\\distribute_lib.py:3417 _call_for_each_replica\n        return fn(*args, **kwargs)\n    c:\\users\\kali\\appdata\\local\\programs\\python\\python37\\lib\\site-packages\\tensorflow\\python\\keras\\engine\\training.py:788 run_step  **\n        outputs = model.train_step(data)\n    c:\\users\\kali\\appdata\\local\\programs\\python\\python37\\lib\\site-packages\\tensorflow\\python\\keras\\engine\\training.py:754 train_step\n        y_pred = self(x, training=True)\n    c:\\users\\kali\\appdata\\local\\programs\\python\\python37\\lib\\site-packages\\tensorflow\\python\\keras\\engine\\base_layer.py:1012 __call__\n        outputs = call_fn(inputs, *args, **kwargs)\n    c:\\users\\kali\\appdata\\local\\programs\\python\\python37\\lib\\site-packages\\tensorflow\\python\\keras\\engine\\sequential.py:389 call\n        outputs = layer(inputs, **kwargs)\n    c:\\users\\kali\\appdata\\local\\programs\\python\\python37\\lib\\site-packages\\tensorflow\\python\\keras\\layers\\recurrent.py:660 __call__\n        return super(RNN, self).__call__(inputs, **kwargs)\n    c:\\users\\kali\\appdata\\local\\programs\\python\\python37\\lib\\site-packages\\tensorflow\\python\\keras\\engine\\base_layer.py:1012 __call__\n        outputs = call_fn(inputs, *args, **kwargs)\n    c:\\users\\kali\\appdata\\local\\programs\\python\\python37\\lib\\site-packages\\tensorflow\\python\\keras\\layers\\recurrent_v2.py:1157 call\n        inputs, initial_state, _ = self._process_inputs(inputs, initial_state, None)\n    c:\\users\\kali\\appdata\\local\\programs\\python\\python37\\lib\\site-packages\\tensorflow\\python\\keras\\layers\\recurrent.py:859 _process_inputs\n        initial_state = self.get_initial_state(inputs)\n    c:\\users\\kali\\appdata\\local\\programs\\python\\python37\\lib\\site-packages\\tensorflow\\python\\keras\\layers\\recurrent.py:643 get_initial_state\n        inputs=None, batch_size=batch_size, dtype=dtype)\n    c:\\users\\kali\\appdata\\local\\programs\\python\\python37\\lib\\site-packages\\tensorflow\\python\\keras\\layers\\recurrent.py:2507 get_initial_state\n        self, inputs, batch_size, dtype))\n    c:\\users\\kali\\appdata\\local\\programs\\python\\python37\\lib\\site-packages\\tensorflow\\python\\keras\\layers\\recurrent.py:2987 _generate_zero_filled_state_for_cell\n        return _generate_zero_filled_state(batch_size, cell.state_size, dtype)\n    c:\\users\\kali\\appdata\\local\\programs\\python\\python37\\lib\\site-packages\\tensorflow\\python\\keras\\layers\\recurrent.py:3003 _generate_zero_filled_state\n        return nest.map_structure(create_zeros, state_size)\n    c:\\users\\kali\\appdata\\local\\programs\\python\\python37\\lib\\site-packages\\tensorflow\\python\\util\\nest.py:659 map_structure\n        structure[0], [func(*x) for x in entries],\n    c:\\users\\kali\\appdata\\local\\programs\\python\\python37\\lib\\site-packages\\tensorflow\\python\\util\\nest.py:659 <listcomp>\n        structure[0], [func(*x) for x in entries],\n    c:\\users\\kali\\appdata\\local\\programs\\python\\python37\\lib\\site-packages\\tensorflow\\python\\keras\\layers\\recurrent.py:3000 create_zeros\n        return array_ops.zeros(init_state_size, dtype=dtype)\n    c:\\users\\kali\\appdata\\local\\programs\\python\\python37\\lib\\site-packages\\tensorflow\\python\\util\\dispatch.py:201 wrapper\n        return target(*args, **kwargs)\n    c:\\users\\kali\\appdata\\local\\programs\\python\\python37\\lib\\site-packages\\tensorflow\\python\\ops\\array_ops.py:2819 wrapped\n        tensor = fun(*args, **kwargs)\n    c:\\users\\kali\\appdata\\local\\programs\\python\\python37\\lib\\site-packages\\tensorflow\\python\\ops\\array_ops.py:2868 zeros\n        output = _constant_if_small(zero, shape, dtype, name)\n    c:\\users\\kali\\appdata\\local\\programs\\python\\python37\\lib\\site-packages\\tensorflow\\python\\ops\\array_ops.py:2804 _constant_if_small\n        if np.prod(shape) < 1000:\n    <__array_function__ internals>:6 prod\n        \n    c:\\users\\kali\\appdata\\local\\programs\\python\\python37\\lib\\site-packages\\numpy\\core\\fromnumeric.py:3031 prod\n        -------\n    c:\\users\\kali\\appdata\\local\\programs\\python\\python37\\lib\\site-packages\\numpy\\core\\fromnumeric.py:87 _wrapreduction\n        return ufunc.reduce(obj, axis, dtype, out, **passkwargs)\n    c:\\users\\kali\\appdata\\local\\programs\\python\\python37\\lib\\site-packages\\tensorflow\\python\\framework\\ops.py:855 __array__\n        \" a NumPy call, which is not supported\".format(self.name))\n\n    NotImplementedError: Cannot convert a symbolic Tensor (sequential_4/lstm_5/strided_slice:0) to a numpy array. This error may indicate that you're trying to pass a Tensor to a NumPy call, which is not supported\n"
     ]
    }
   ],
   "source": [
    "# Train the model \n",
    "model.fit(x_train, y_train, batch_size=16, epochs=100)"
   ]
  },
  {
   "cell_type": "code",
   "execution_count": 21,
   "metadata": {
    "colab": {},
    "colab_type": "code",
    "id": "5fX4sdoOnCT6"
   },
   "outputs": [],
   "source": [
    "test_data = scaled_dataset[training_data_len-60:, :]\n",
    "test_y = scaled_price_dataset[training_data_len-60:, :]\n",
    "\n",
    "x_test = []\n",
    "y_test = []\n",
    "\n",
    "for i in range(60, len(test_data)):\n",
    "  x_test.append(test_data[i-60:i, :])\n",
    "  y_test.append(test_y[i:i+1,:][0].tolist())"
   ]
  },
  {
   "cell_type": "code",
   "execution_count": null,
   "metadata": {
    "colab": {},
    "colab_type": "code",
    "id": "gIlIccwP5ZXx"
   },
   "outputs": [],
   "source": [
    "# Convert the data into a np array\n",
    "x_test = np.array(x_test)\n",
    "\n",
    "# Reshape data into 3 dimensions ( num samples, timesteps, num features )\n",
    "x_test = np.reshape(x_test, (x_test.shape[0], x_test.shape[1], 33))"
   ]
  },
  {
   "cell_type": "code",
   "execution_count": null,
   "metadata": {
    "colab": {},
    "colab_type": "code",
    "id": "azrEvWqf5b2J"
   },
   "outputs": [],
   "source": [
    "# Get the models predicted price values \n",
    "predictions = model.predict(x_test)\n",
    "\n",
    "# Inverse transform \n",
    "predictions = price_scaler.inverse_transform(predictions)\n"
   ]
  },
  {
   "cell_type": "code",
   "execution_count": null,
   "metadata": {
    "colab": {
     "base_uri": "https://localhost:8080/",
     "height": 35
    },
    "colab_type": "code",
    "id": "df7SR-vW5hLW",
    "outputId": "25e0353e-dce6-40d7-9f6e-9df91a3e5fcc"
   },
   "outputs": [],
   "source": [
    "# Evaluate model with root mean square error (RMSE)\n",
    "rmse = np.sqrt(np.mean((predictions-y_test)**2))\n",
    "rmse"
   ]
  },
  {
   "cell_type": "code",
   "execution_count": null,
   "metadata": {
    "colab": {
     "base_uri": "https://localhost:8080/",
     "height": 505
    },
    "colab_type": "code",
    "id": "Sp1Y71dD5iqG",
    "outputId": "6486bf23-4dbe-465a-d42e-5c07f0676182"
   },
   "outputs": [],
   "source": [
    "# Set up ploting dataset\n",
    "# plotData = stocks.filter(['created_utc','AAPL_CPrc', 'AMZN_CPrc', 'BA_CPrc', 'SPY_CPrc', 'TSLA_CPrc'])\n",
    "# plotData = plotData.set_index(\"created_utc\")\n",
    "# print(plotData, type(plotData))\n",
    "\n",
    "# This is so it graphs nicely with dates \n",
    "AAPL = stocks[\"AAPL_StockPrice\"]\n",
    "AAPL = AAPL.to_frame()\n",
    "AMZN = stocks[\"AMZN_StockPrice\"]\n",
    "AMZN = AMZN.to_frame()\n",
    "BA = stocks[\"BA_StockPrice\"]\n",
    "BA = BA.to_frame();\n",
    "SPY = stocks[\"SPY_StockPrice\"]\n",
    "SPY = SPY.to_frame();\n",
    "TSLA = stocks[\"TSLA_StockPrice\"]\n",
    "TSLA = TSLA.to_frame()\n",
    "\n",
    "appleTest = AAPL[0:training_data_len]\n",
    "amazonTest = AMZN[0:training_data_len]\n",
    "boeTest = BA[0:training_data_len]\n",
    "spyTest = SPY[0: training_data_len]\n",
    "teslaTest = TSLA[0: training_data_len]\n",
    "\n",
    "appleValid = AAPL[training_data_len:]\n",
    "amazonValid = AMZN[training_data_len:]\n",
    "boeValid = BA[training_data_len:]\n",
    "spyValid = SPY[training_data_len:]\n",
    "teslaValid = TSLA[training_data_len:]\n",
    "# print(appleValid)\n",
    "\n",
    "appleValid['Predictions'] = predictions[:,:1]\n",
    "amazonValid[\"Predictions\"] = predictions[:,1:2]\n",
    "boeValid['Predictions'] = predictions[:, 2:3]\n",
    "spyValid[\"Predictions\"] = predictions[:, 3:4]\n",
    "teslaValid[\"Predictions\"] = predictions[:, 4:5]\n",
    "print(len(appleValid), len(predictions)) # 3404 3404"
   ]
  },
  {
   "cell_type": "code",
   "execution_count": null,
   "metadata": {
    "colab": {
     "base_uri": "https://localhost:8080/",
     "height": 521
    },
    "colab_type": "code",
    "id": "JqrttDFs5vIv",
    "outputId": "5fa8ad31-3022-451c-8020-478a1275ab31"
   },
   "outputs": [],
   "source": [
    "# Visualize data\n",
    "plt.figure(figsize=(16,8))\n",
    "plt.title('Prediction with reddit glove vectors')\n",
    "plt.xlabel('Date', fontsize=18)\n",
    "plt.ylabel('Close Price USD ($)', fontsize=18)\n",
    "# plt.plot(appleTest)\n",
    "# plt.plot(appleValid)\n",
    "# plt.plot(appleValid['Predictions'])\n",
    "# plt.plot(amazonTest)\n",
    "# plt.plot(amazonValid)\n",
    "# plt.plot(amazonValid['Predictions'])\n",
    "# plt.plot(boeTest)\n",
    "# plt.plot(boeValid)\n",
    "# plt.plot(boeValid['Predictions'])\n",
    "# plt.plot(spyTest)\n",
    "# plt.plot(spyValid)\n",
    "# plt.plot(spyValid['Predictions'])\n",
    "plt.plot(teslaTest)\n",
    "plt.plot(teslaValid)\n",
    "plt.plot(teslaValid['Predictions'])\n",
    "plt.legend(['Train', 'Validation', 'Prediction'])\n",
    "plt.show()"
   ]
  },
  {
   "cell_type": "code",
   "execution_count": null,
   "metadata": {
    "colab": {
     "base_uri": "https://localhost:8080/",
     "height": 450
    },
    "colab_type": "code",
    "id": "m4Ha2Vsm59jS",
    "outputId": "f3b8481f-84aa-41c9-9c1b-1983439c80a3"
   },
   "outputs": [],
   "source": [
    "hourly_prices = stocks.filter(['AAPL_StockPrice', 'AMZN_StockPrice', 'BA_StockPrice', \n",
    "                               'SPY_StockPrice', 'TSLA_StockPrice'])\n",
    "hourly_prices"
   ]
  },
  {
   "cell_type": "code",
   "execution_count": null,
   "metadata": {
    "colab": {},
    "colab_type": "code",
    "id": "LF6_IkA97D9f"
   },
   "outputs": [],
   "source": [
    "hourly_dataset = hourly_prices.values"
   ]
  },
  {
   "cell_type": "code",
   "execution_count": null,
   "metadata": {
    "colab": {},
    "colab_type": "code",
    "id": "UR9dATuc7ZrG"
   },
   "outputs": [],
   "source": [
    "# set training set len\n",
    "train_len = math.ceil(len(hourly_dataset) * 0.80) "
   ]
  },
  {
   "cell_type": "code",
   "execution_count": null,
   "metadata": {
    "colab": {},
    "colab_type": "code",
    "id": "0uK7bX8K7d6_"
   },
   "outputs": [],
   "source": [
    "hourScaler = MinMaxScaler(feature_range=(0,1))\n",
    "scaled_hourly_prices = hourScaler.fit_transform(hourly_dataset)"
   ]
  },
  {
   "cell_type": "code",
   "execution_count": null,
   "metadata": {
    "colab": {},
    "colab_type": "code",
    "id": "iumhQShR7nQ9"
   },
   "outputs": [],
   "source": [
    "x_train_data = scaled_hourly_prices[0:train_len, :]"
   ]
  },
  {
   "cell_type": "code",
   "execution_count": null,
   "metadata": {
    "colab": {
     "base_uri": "https://localhost:8080/",
     "height": 55
    },
    "colab_type": "code",
    "id": "sRVTMCby70Os",
    "outputId": "ea4790c9-0bdc-42c1-8ac8-12760eeacc47"
   },
   "outputs": [],
   "source": [
    "x_train2 = []\n",
    "y_train2 = []\n",
    "\n",
    "for i in range(60, len(x_train_data)):\n",
    "  x_train2.append(x_train_data[i-60:i, :])\n",
    "  y_train2.append(x_train_data[i:i+1, :][0].tolist())\n"
   ]
  },
  {
   "cell_type": "code",
   "execution_count": null,
   "metadata": {
    "colab": {
     "base_uri": "https://localhost:8080/",
     "height": 35
    },
    "colab_type": "code",
    "id": "sb6eVf0N8C1p",
    "outputId": "aa3c9fe7-0b16-477f-f912-57620f986d5f"
   },
   "outputs": [],
   "source": [
    "# Convert both x,y training sets to np array\n",
    "x_train2, y_train2 = np.array(x_train2), np.array(y_train2)\n",
    "# Reshape the data // LSTM network expects 3 dimensional input in the form of \n",
    "# (number of samples, number of timesteps, number of features)\n",
    "x_train2 = np.reshape(x_train2, (x_train2.shape[0], x_train2.shape[1], 5))\n",
    "x_train2.shape"
   ]
  },
  {
   "cell_type": "code",
   "execution_count": null,
   "metadata": {
    "colab": {},
    "colab_type": "code",
    "id": "PVzyIlcc8MtH"
   },
   "outputs": [],
   "source": [
    "# Declare the LSTM model architecture \n",
    "model2 = Sequential()\n",
    "\n",
    "# Add layers , input shape expected is (number of timesteps, number of features)\n",
    "model2.add(LSTM(75, return_sequences=True, input_shape=(x_train2.shape[1], 5)))\n",
    "model2.add(LSTM(50, return_sequences=False))\n",
    "model2.add(Dense(25))\n",
    "model2.add(Dense(5))"
   ]
  },
  {
   "cell_type": "code",
   "execution_count": null,
   "metadata": {
    "colab": {},
    "colab_type": "code",
    "id": "OTbOGgmJ8O_h"
   },
   "outputs": [],
   "source": [
    "# Compile Model \n",
    "model2.compile(optimizer='adam', loss='mean_squared_error')"
   ]
  },
  {
   "cell_type": "code",
   "execution_count": null,
   "metadata": {
    "colab": {
     "base_uri": "https://localhost:8080/",
     "height": 1000
    },
    "colab_type": "code",
    "id": "98gDflDq8RE4",
    "outputId": "06fb367d-2f5b-4e2b-d06d-2ecbe161c482"
   },
   "outputs": [],
   "source": [
    "# Train the model \n",
    "model2.fit(x_train, y_train, batch_size=16, epochs=100)"
   ]
  },
  {
   "cell_type": "code",
   "execution_count": null,
   "metadata": {
    "colab": {},
    "colab_type": "code",
    "id": "jc5k8bqJ8fWU"
   },
   "outputs": [],
   "source": [
    "x_test_data = scaled_hourly_prices[train_len-60: , :]"
   ]
  },
  {
   "cell_type": "code",
   "execution_count": null,
   "metadata": {
    "colab": {
     "base_uri": "https://localhost:8080/",
     "height": 35
    },
    "colab_type": "code",
    "id": "0o8IwwI5Ouvc",
    "outputId": "0de85531-be61-48fe-e406-f87be8c30d90"
   },
   "outputs": [],
   "source": [
    "x_test2 = []\n",
    "y_test2 = []\n",
    "# y_test2 = scaled_hourly_prices[train_len:, :]\n",
    "for i in range(60, len(x_test_data)):\n",
    "  x_test2.append(x_test_data[i-60:i, :])\n",
    "  y_test2.append(x_test_data[i:i+1,:][0].tolist())\n",
    "\n",
    "print(len(y_test2))"
   ]
  },
  {
   "cell_type": "code",
   "execution_count": null,
   "metadata": {
    "colab": {},
    "colab_type": "code",
    "id": "IWhLLnhGPXbf"
   },
   "outputs": [],
   "source": [
    "x_test2 = np.array(x_test2)"
   ]
  },
  {
   "cell_type": "code",
   "execution_count": null,
   "metadata": {
    "colab": {},
    "colab_type": "code",
    "id": "PT0WGTq2PcgA"
   },
   "outputs": [],
   "source": [
    "x_test2 = np.reshape(x_test2, (x_test2.shape[0], x_test2.shape[1], 5))"
   ]
  },
  {
   "cell_type": "code",
   "execution_count": null,
   "metadata": {
    "colab": {
     "base_uri": "https://localhost:8080/",
     "height": 35
    },
    "colab_type": "code",
    "id": "io1_OkGgPjG-",
    "outputId": "146fc88f-c870-4690-c214-24be6e5bda3a"
   },
   "outputs": [],
   "source": [
    "# Get the models predicted price values \n",
    "predictions2 = model2.predict(x_test2)\n",
    "\n",
    "# Inverse transform \n",
    "predictions2 = hourScaler.inverse_transform(predictions2)\n",
    "print(len(predictions2))"
   ]
  },
  {
   "cell_type": "code",
   "execution_count": null,
   "metadata": {
    "colab": {
     "base_uri": "https://localhost:8080/",
     "height": 35
    },
    "colab_type": "code",
    "id": "fQLpq3J9Pjem",
    "outputId": "54b9f080-1c1e-428b-8aa1-19ddcc170ece"
   },
   "outputs": [],
   "source": [
    "# Evaluate model with root mean square error (RMSE)\n",
    "rmse2 = np.sqrt(np.mean((predictions2-y_test2)**2))\n",
    "rmse2"
   ]
  },
  {
   "cell_type": "code",
   "execution_count": null,
   "metadata": {
    "colab": {
     "base_uri": "https://localhost:8080/",
     "height": 595
    },
    "colab_type": "code",
    "id": "v87X06YFPqff",
    "outputId": "96e5c628-3471-4c29-ab27-94aa19039e06"
   },
   "outputs": [],
   "source": [
    "print(len(appleValid)) # 3404\n",
    "appleValid['Predictions2'] = predictions2[:,:1]\n",
    "amazonValid[\"Predictions2\"] = predictions2[:,1:2]\n",
    "boeValid['Predictions2'] = predictions2[:, 2:3]\n",
    "spyValid[\"Predictions2\"] = predictions2[:, 3:4]\n",
    "teslaValid[\"Predictions2\"] = predictions2[:, 4:5]"
   ]
  },
  {
   "cell_type": "code",
   "execution_count": null,
   "metadata": {
    "colab": {
     "base_uri": "https://localhost:8080/",
     "height": 536
    },
    "colab_type": "code",
    "id": "GF3W_uafPvh5",
    "outputId": "694e7ccc-a22e-4254-ff3c-15024cd7ebdb"
   },
   "outputs": [],
   "source": [
    "# Visualize data\n",
    "plt.figure(figsize=(16,8))\n",
    "plt.title('Stock Prediction with and without Reddit word vector data \\n (AAPL)')\n",
    "plt.xlabel('Date', fontsize=18)\n",
    "plt.ylabel('Close Price USD ($)', fontsize=18)\n",
    "plt.plot(appleTest)\n",
    "plt.plot(appleValid)\n",
    "plt.plot(appleValid['Predictions'], color='red')\n",
    "plt.plot(appleValid['Predictions2'], color='green')\n",
    "# plt.plot(amazonTest)\n",
    "# plt.plot(amazonValid)\n",
    "# plt.plot(amazonValid['Predictions'], color='red')\n",
    "# plt.plot(amazonValid['Predictions2'], color='green')\n",
    "# plt.plot(boeTest)\n",
    "# plt.plot(boeValid)\n",
    "# plt.plot(boeValid['Predictions'], color='red')\n",
    "# plt.plot(boeValid['Predictions2'], color='green')\n",
    "# plt.plot(spyTest, label='Train')\n",
    "# plt.plot(spyValid, label='Actual')\n",
    "# plt.plot(spyValid['Predictions'], label='Prediction with vector', color='red')\n",
    "# plt.plot(spyValid['Predictions2'], label='Prediction without vector', color='green')\n",
    "\n",
    "# plt.plot(teslaTest, label='Train')\n",
    "# plt.plot(teslaValid, label=\"Actual\")\n",
    "# plt.plot(teslaValid['Predictions'], label=\"vector prediction\", color='red')\n",
    "# plt.plot(teslaValid['Predictions2'], label=\"without vector prediction\", color=\"green\")\n",
    "plt.legend(('Train', 'Validation', 'Prediction with vector', 'Prediction without'), title=\"Legend\",)\n",
    "plt.show()\n"
   ]
  },
  {
   "cell_type": "code",
   "execution_count": null,
   "metadata": {
    "colab": {},
    "colab_type": "code",
    "id": "9yR-fhFWQ6Tx"
   },
   "outputs": [],
   "source": []
  }
 ],
 "metadata": {
  "colab": {
   "collapsed_sections": [],
   "name": "hourly_stock_prediction.ipynb",
   "provenance": []
  },
  "kernelspec": {
   "display_name": "Python 3",
   "language": "python",
   "name": "python3"
  },
  "language_info": {
   "codemirror_mode": {
    "name": "ipython",
    "version": 3
   },
   "file_extension": ".py",
   "mimetype": "text/x-python",
   "name": "python",
   "nbconvert_exporter": "python",
   "pygments_lexer": "ipython3",
   "version": "3.7.9"
  }
 },
 "nbformat": 4,
 "nbformat_minor": 4
}
